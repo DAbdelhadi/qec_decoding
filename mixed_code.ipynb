{
 "cells": [
  {
   "cell_type": "code",
   "execution_count": null,
   "id": "initial_id",
   "metadata": {
    "collapsed": true,
    "is_executing": true
   },
   "outputs": [],
   "source": [
    "import numpy as np\n",
    "from tqdm import tqdm\n",
    "import sympy as sp\n",
    "import matplotlib.pyplot as plt\n",
    "from ldpc.codes import rep_code\n",
    "from bposd.hgp import hgp,css_code\n",
    "import itertools\n",
    "from qecsim import paulitools as pt"
   ]
  },
  {
   "cell_type": "code",
   "execution_count": 6,
   "outputs": [],
   "source": [
    "def syndromes(pI,pX,pZ):\n",
    "    p0 = pX*pZ+pZ*pX+pX*pX+pZ*pZ+pI*pI\n",
    "    p1 = pX*pI+pI*pX+pZ*pI+pI*pZ\n",
    "    return p0,p1\n",
    "def new_channels(pI,pX,pZ):\n",
    "    p0,p1 = syndromes(pI,pX,pZ)\n",
    "    channel0 = np.array([ pX*pZ/p0,pZ*pX/p0,pX*pX/p0,pZ*pZ/p0,pI*pI/p0])\n",
    "\n",
    "    channel1 = np.array([pX*pI/p1,pI*pX/p1,pZ*pI/p1,pI*pZ/p1])\n",
    "    return p0,p1,channel0,channel1"
   ],
   "metadata": {
    "collapsed": false,
    "ExecuteTime": {
     "end_time": "2023-11-30T17:34:32.071997007Z",
     "start_time": "2023-11-30T17:34:32.056405585Z"
    }
   },
   "id": "145a91ca46923660"
  },
  {
   "cell_type": "code",
   "execution_count": 7,
   "outputs": [],
   "source": [
    "def entropy(p):\n",
    "    e = 0\n",
    "    for pi in p:\n",
    "        if pi !=0:\n",
    "            e =e-pi*np.log2(pi)\n",
    "    return e\n",
    "\n",
    "def rate(p):\n",
    "    return 1-entropy(p)"
   ],
   "metadata": {
    "collapsed": false,
    "ExecuteTime": {
     "end_time": "2023-11-30T17:34:32.486072372Z",
     "start_time": "2023-11-30T17:34:32.460799105Z"
    }
   },
   "id": "9b146f0fd7aa5ed1"
  },
  {
   "cell_type": "code",
   "execution_count": 8,
   "outputs": [],
   "source": [
    "def new_rates(pI,pX,pZ):\n",
    "    p0,p1,channel0,channel1 = new_channels(pI,pX,pZ)\n",
    "    new_rate = (p0*rate(channel0)+p1*rate(channel1))/2\n",
    "    return new_rate"
   ],
   "metadata": {
    "collapsed": false,
    "ExecuteTime": {
     "end_time": "2023-11-30T17:34:32.854321439Z",
     "start_time": "2023-11-30T17:34:32.841499726Z"
    }
   },
   "id": "4fee165859bb2e0a"
  },
  {
   "cell_type": "code",
   "execution_count": null,
   "outputs": [],
   "source": [
    "Range = np.arange(0,0.2,0.01)\n",
    "for p in Range:\n",
    "    print(p,rate([1-2*p,p,p]),new_rates(1-2*p,p,p))"
   ],
   "metadata": {
    "collapsed": false,
    "is_executing": true
   },
   "id": "c17863aeb054d535"
  },
  {
   "cell_type": "code",
   "execution_count": null,
   "outputs": [],
   "source": [],
   "metadata": {
    "collapsed": false
   },
   "id": "7b0798080ba028e7"
  }
 ],
 "metadata": {
  "kernelspec": {
   "display_name": "Python 3",
   "language": "python",
   "name": "python3"
  },
  "language_info": {
   "codemirror_mode": {
    "name": "ipython",
    "version": 2
   },
   "file_extension": ".py",
   "mimetype": "text/x-python",
   "name": "python",
   "nbconvert_exporter": "python",
   "pygments_lexer": "ipython2",
   "version": "2.7.6"
  }
 },
 "nbformat": 4,
 "nbformat_minor": 5
}
