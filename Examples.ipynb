{
 "cells": [
  {
   "cell_type": "code",
   "execution_count": 15,
   "id": "initial_id",
   "metadata": {
    "collapsed": true,
    "ExecuteTime": {
     "end_time": "2023-11-17T15:54:37.883946727Z",
     "start_time": "2023-11-17T15:54:37.870492938Z"
    }
   },
   "outputs": [],
   "source": [
    "import factorgraph as fg\n",
    "import numpy as np\n",
    "import itertools as itertools"
   ]
  },
  {
   "cell_type": "code",
   "execution_count": 35,
   "outputs": [],
   "source": [
    "#Hamming code example: (7,4) code\n",
    "n = 7\n",
    "k = 4\n",
    "H = [[1,1,0,1,1,0,0],\n",
    "     [1,0,1,1,0,1,0],\n",
    "     [0,1,1,1,0,0,1]]\n",
    "syndrome =[0,0,0]\n",
    "p = 0.01"
   ],
   "metadata": {
    "collapsed": false,
    "ExecuteTime": {
     "end_time": "2023-11-17T16:01:00.450810485Z",
     "start_time": "2023-11-17T16:01:00.421670046Z"
    }
   },
   "id": "d34876e7dd33cbf0"
  },
  {
   "cell_type": "code",
   "execution_count": 36,
   "outputs": [],
   "source": [
    "def potential_generator(vars,syndrome_bit):\n",
    "    pot =  np.zeros((2,)*len(vars))\n",
    "    for var_assign in itertools.product([0,1],repeat=len(vars)):\n",
    "       pot[var_assign] = (sum(var_assign)+syndrome_bit)%2\n",
    "    return pot"
   ],
   "metadata": {
    "collapsed": false,
    "ExecuteTime": {
     "end_time": "2023-11-17T16:01:00.773734590Z",
     "start_time": "2023-11-17T16:01:00.764293348Z"
    }
   },
   "id": "acc037f5a31967c5"
  },
  {
   "cell_type": "code",
   "execution_count": 38,
   "outputs": [
    {
     "name": "stdout",
     "output_type": "stream",
     "text": [
      "['x1', 'x2', 'x4', 'x5']\n",
      "['x1', 'x3', 'x4', 'x6']\n",
      "['x2', 'x3', 'x4', 'x7']\n",
      "LBP ran for 24 iterations. Converged = True\n",
      "\n",
      "Current outgoing messages:\n",
      "\t f(x1) -> x1 \t [0.99 0.01]\n",
      "\t f(x2) -> x2 \t [0.99 0.01]\n",
      "\t f(x3) -> x3 \t [0.99 0.01]\n",
      "\t f(x4) -> x4 \t [0.99 0.01]\n",
      "\t f(x5) -> x5 \t [0.99 0.01]\n",
      "\t f(x6) -> x6 \t [0.99 0.01]\n",
      "\t f(x7) -> x7 \t [0.99 0.01]\n",
      "\t x5 -> f(x5) \t [0.98871902 0.01128098]\n",
      "\t x5 -> f(x1, x2, x4, x5) \t [0.99 0.01]\n",
      "\t x6 -> f(x6) \t [0.98871902 0.01128098]\n",
      "\t x6 -> f(x1, x3, x4, x6) \t [0.99 0.01]\n",
      "\t x7 -> f(x7) \t [0.98871902 0.01128098]\n",
      "\t x7 -> f(x2, x3, x4, x7) \t [0.99 0.01]\n",
      "\t x1 -> f(x1) \t [9.99546804e-01 4.53196360e-04]\n",
      "\t x1 -> f(x1, x2, x4, x5) \t [9.99784963e-01 2.15036927e-04]\n",
      "\t x1 -> f(x1, x3, x4, x6) \t [9.99784963e-01 2.15036927e-04]\n",
      "\t x2 -> f(x2) \t [9.99546804e-01 4.53196360e-04]\n",
      "\t x2 -> f(x1, x2, x4, x5) \t [9.99784963e-01 2.15036927e-04]\n",
      "\t x2 -> f(x2, x3, x4, x7) \t [9.99784963e-01 2.15036927e-04]\n",
      "\t x3 -> f(x3) \t [9.99546804e-01 4.53196360e-04]\n",
      "\t x3 -> f(x1, x3, x4, x6) \t [9.99784963e-01 2.15036927e-04]\n",
      "\t x3 -> f(x2, x3, x4, x7) \t [9.99784963e-01 2.15036927e-04]\n",
      "\t x4 -> f(x4) \t [1.16795068e-06 9.99998832e-01]\n",
      "\t x4 -> f(x1, x2, x4, x5) \t [0.01086033 0.98913967]\n",
      "\t x4 -> f(x1, x3, x4, x6) \t [0.01086033 0.98913967]\n",
      "\t x4 -> f(x2, x3, x4, x7) \t [0.01086033 0.98913967]\n",
      "\t f(x1, x2, x4, x5) -> x1 \t [0.97915072 0.02084928]\n",
      "\t f(x1, x2, x4, x5) -> x2 \t [0.97915072 0.02084928]\n",
      "\t f(x1, x2, x4, x5) -> x4 \t [0.01042138 0.98957862]\n",
      "\t f(x1, x2, x4, x5) -> x5 \t [0.98871903 0.01128097]\n",
      "\t f(x1, x3, x4, x6) -> x1 \t [0.97915072 0.02084928]\n",
      "\t f(x1, x3, x4, x6) -> x3 \t [0.97915072 0.02084928]\n",
      "\t f(x1, x3, x4, x6) -> x4 \t [0.01042138 0.98957862]\n",
      "\t f(x1, x3, x4, x6) -> x6 \t [0.98871903 0.01128097]\n",
      "\t f(x2, x3, x4, x7) -> x2 \t [0.97915072 0.02084928]\n",
      "\t f(x2, x3, x4, x7) -> x3 \t [0.97915072 0.02084928]\n",
      "\t f(x2, x3, x4, x7) -> x4 \t [0.01042138 0.98957862]\n",
      "\t f(x2, x3, x4, x7) -> x7 \t [0.98871903 0.01128097]\n",
      "\n",
      "Marginals for RVs (normalized):\n",
      "x1\n",
      "\t 0 \t 0.9999954202081932\n",
      "\t 1 \t 4.579791806803984e-06\n",
      "x2\n",
      "\t 0 \t 0.9999954202081932\n",
      "\t 1 \t 4.579791806803984e-06\n",
      "x3\n",
      "\t 0 \t 0.9999954202081932\n",
      "\t 1 \t 4.579791806803984e-06\n",
      "x4\n",
      "\t 0 \t 0.00011561388277192908\n",
      "\t 1 \t 0.9998843861172281\n",
      "x5\n",
      "\t 0 \t 0.9998847639961369\n",
      "\t 1 \t 0.00011523600386310028\n",
      "x6\n",
      "\t 0 \t 0.9998847639961369\n",
      "\t 1 \t 0.00011523600386310028\n",
      "x7\n",
      "\t 0 \t 0.9998847639961369\n",
      "\t 1 \t 0.00011523600386310028\n"
     ]
    }
   ],
   "source": [
    "# Make an empty graph\n",
    "g = fg.Graph()\n",
    "\n",
    "# Add some discrete random variables (RVs)\n",
    "for i in range(n):\n",
    "    g.rv('x%d'%(i+1), 2)\n",
    "    g.factor(['x%d'%(i+1)], potential=np.array([1-p,p]))\n",
    "for c in range(n-k):\n",
    "    vars = []\n",
    "    for i in range(n):\n",
    "        if(H[c][i]):\n",
    "            vars.append('x%d'%(i+1))\n",
    "    print(vars)\n",
    "    g.factor(vars, potential=potential_generator(vars,syndrome[c]))\n",
    "\n",
    "\n",
    "# Run (loopy) belief propagation (LBP)\n",
    "iters, converged = g.lbp(normalize=True, max_iters=100)\n",
    "print('LBP ran for %d iterations. Converged = %r' % (iters, converged))\n",
    "print()\n",
    "\n",
    "# Print out the final messages from LBP\n",
    "g.print_messages()\n",
    "print()\n",
    "\n",
    "# Print out the final marginals\n",
    "g.print_rv_marginals(normalize=True)"
   ],
   "metadata": {
    "collapsed": false,
    "ExecuteTime": {
     "end_time": "2023-11-17T16:05:37.701505493Z",
     "start_time": "2023-11-17T16:05:37.533014618Z"
    }
   },
   "id": "71bbc5ccfd16f0ee"
  },
  {
   "cell_type": "code",
   "execution_count": 5,
   "outputs": [
    {
     "data": {
      "text/plain": "0.021307836451879232"
     },
     "execution_count": 5,
     "metadata": {},
     "output_type": "execute_result"
    }
   ],
   "source": [
    "px"
   ],
   "metadata": {
    "collapsed": false,
    "ExecuteTime": {
     "end_time": "2023-11-23T10:10:30.656329328Z",
     "start_time": "2023-11-23T10:10:30.559038190Z"
    }
   },
   "id": "97e23bfdbba04e1c"
  },
  {
   "cell_type": "code",
   "execution_count": 6,
   "outputs": [
    {
     "data": {
      "text/plain": "0.251256426272431"
     },
     "execution_count": 6,
     "metadata": {},
     "output_type": "execute_result"
    }
   ],
   "source": [
    "pz"
   ],
   "metadata": {
    "collapsed": false,
    "ExecuteTime": {
     "end_time": "2023-11-23T10:10:33.365032785Z",
     "start_time": "2023-11-23T10:10:33.267242401Z"
    }
   },
   "id": "9ef9a5d7b087838"
  },
  {
   "cell_type": "code",
   "execution_count": 7,
   "outputs": [
    {
     "data": {
      "text/plain": "0.007435737275689739"
     },
     "execution_count": 7,
     "metadata": {},
     "output_type": "execute_result"
    }
   ],
   "source": [
    "py"
   ],
   "metadata": {
    "collapsed": false,
    "ExecuteTime": {
     "end_time": "2023-11-23T10:10:35.776841677Z",
     "start_time": "2023-11-23T10:10:35.695898018Z"
    }
   },
   "id": "aa513fa7e7cdcffe"
  },
  {
   "cell_type": "code",
   "execution_count": 10,
   "outputs": [
    {
     "data": {
      "text/plain": "-0.012817679939209459"
     },
     "execution_count": 10,
     "metadata": {},
     "output_type": "execute_result"
    }
   ],
   "source": [
    "1-h(px,py,pz)"
   ],
   "metadata": {
    "collapsed": false,
    "ExecuteTime": {
     "end_time": "2023-11-23T10:12:30.235268607Z",
     "start_time": "2023-11-23T10:12:30.151456166Z"
    }
   },
   "id": "c72dbe74457323e4"
  },
  {
   "cell_type": "code",
   "execution_count": null,
   "outputs": [],
   "source": [],
   "metadata": {
    "collapsed": false
   },
   "id": "8f4037d571d31756"
  }
 ],
 "metadata": {
  "kernelspec": {
   "display_name": "Python 3",
   "language": "python",
   "name": "python3"
  },
  "language_info": {
   "codemirror_mode": {
    "name": "ipython",
    "version": 2
   },
   "file_extension": ".py",
   "mimetype": "text/x-python",
   "name": "python",
   "nbconvert_exporter": "python",
   "pygments_lexer": "ipython2",
   "version": "2.7.6"
  }
 },
 "nbformat": 4,
 "nbformat_minor": 5
}
