{
 "cells": [
  {
   "cell_type": "code",
   "execution_count": 1,
   "id": "initial_id",
   "metadata": {
    "collapsed": true,
    "ExecuteTime": {
     "end_time": "2023-11-17T15:05:46.507908587Z",
     "start_time": "2023-11-17T15:05:46.232010117Z"
    }
   },
   "outputs": [],
   "source": [
    "import factorgraph as fg\n",
    "import numpy as np"
   ]
  },
  {
   "cell_type": "code",
   "execution_count": 2,
   "outputs": [],
   "source": [
    "#Hamming code example: (7,4) code\n",
    "n = 7\n",
    "k = 4\n",
    "H = [[1,1,0,1,1,0,0],\n",
    "     [1,0,1,1,0,1,0],\n",
    "     [0,1,1,1,0,0,1]]\n",
    "p = 0.1"
   ],
   "metadata": {
    "collapsed": false,
    "ExecuteTime": {
     "end_time": "2023-11-17T15:05:22.157893092Z",
     "start_time": "2023-11-17T15:05:22.002803999Z"
    }
   },
   "id": "d34876e7dd33cbf0"
  },
  {
   "cell_type": "code",
   "execution_count": null,
   "outputs": [],
   "source": [
    "# Make an empty graph\n",
    "g = fg.Graph()\n",
    "\n",
    "# Add some discrete random variables (RVs)\n",
    "g.rv('a', 2)\n",
    "g.rv('b', 3)\n",
    "\n",
    "# Add some factors, unary and binary\n",
    "g.factor(['a'], potential=np.array([0.3, 0.7]))\n",
    "g.factor(['b', 'a'], potential=np.array([\n",
    "        [0.2, 0.8],\n",
    "        [0.4, 0.6],\n",
    "        [0.1, 0.9],\n",
    "]))\n",
    "\n",
    "# Run (loopy) belief propagation (LBP)\n",
    "iters, converged = g.lbp(normalize=True)\n",
    "print('LBP ran for %d iterations. Converged = %r' % (iters, converged))\n",
    "print()\n",
    "\n",
    "# Print out the final messages from LBP\n",
    "g.print_messages()\n",
    "print()\n",
    "\n",
    "# Print out the final marginals\n",
    "g.print_rv_marginals(normalize=True)"
   ],
   "metadata": {
    "collapsed": false
   },
   "id": "71bbc5ccfd16f0ee"
  }
 ],
 "metadata": {
  "kernelspec": {
   "display_name": "Python 3",
   "language": "python",
   "name": "python3"
  },
  "language_info": {
   "codemirror_mode": {
    "name": "ipython",
    "version": 2
   },
   "file_extension": ".py",
   "mimetype": "text/x-python",
   "name": "python",
   "nbconvert_exporter": "python",
   "pygments_lexer": "ipython2",
   "version": "2.7.6"
  }
 },
 "nbformat": 4,
 "nbformat_minor": 5
}
