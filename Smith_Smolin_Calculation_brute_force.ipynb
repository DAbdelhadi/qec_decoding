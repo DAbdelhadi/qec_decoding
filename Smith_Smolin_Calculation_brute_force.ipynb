{
 "cells": [
  {
   "cell_type": "code",
   "execution_count": 72,
   "id": "initial_id",
   "metadata": {
    "collapsed": true,
    "ExecuteTime": {
     "end_time": "2023-11-27T14:14:03.997917051Z",
     "start_time": "2023-11-27T14:14:03.973806295Z"
    }
   },
   "outputs": [],
   "source": [
    "import numpy as np\n",
    "from tqdm import tqdm\n",
    "import sympy as sp\n",
    "import matplotlib.pyplot as plt\n",
    "class brute_calculator:\n",
    "    def __init__(self, lx, hx, lz, hz):\n",
    "        self.lz = lz\n",
    "        self.hz = hz\n",
    "        self.lx = lx\n",
    "        self.hx = hx\n",
    "        self.syndrome_dictionary = {} #key: syndrome, value: [weight I class, weight LZ class, weight LX class, weight LY class]\n",
    "        self.error_loop()\n",
    "        \n",
    "    def error_loop(self):\n",
    "        n = len(self.lz[0])\n",
    "        print(n)\n",
    "        pX = sp.symbols('pX')\n",
    "        pZ = sp.symbols('pZ')\n",
    "        pY = sp.symbols('pY')\n",
    "        pI = 1-pX-pY-pZ\n",
    "        #loop over all errors\n",
    "        for i in tqdm(range(2**n)):\n",
    "            for j in range(2**n):\n",
    "\n",
    "                errorx = np.array([int(x) for x in bin(i)[2:].zfill(n)])\n",
    "                errorz = np.array([int(x) for x in bin(j)[2:].zfill(n)])\n",
    "                ey = errorx*errorz\n",
    "                hamming_weight_x_errors = np.sum((ey+errorx)%2)\n",
    "                hamming_weight_z_errors = np.sum((ey+errorz)%2)\n",
    "                hamming_weight_y_errors = np.sum(ey)\n",
    "\n",
    "                ham_sum = hamming_weight_x_errors + hamming_weight_z_errors + hamming_weight_y_errors\n",
    "                error_probability = pI**(n-ham_sum)*pX**hamming_weight_x_errors*pZ**hamming_weight_z_errors*pY**hamming_weight_y_errors\n",
    "                syndrome = []\n",
    "                if len(self.hz)>0:\n",
    "                    syndrome.append(((self.hz@errorx)%2).astype(int))\n",
    "                if len(self.hx)>0:\n",
    "                    syndrome.append(((self.hx@errorz)%2).astype(int))\n",
    "                #syndrome = np.append((self.hz@errorx)%2, (self.hx@errorz)%2)\n",
    "                print(syndrome)\n",
    "                syndrome = syndrome[0]\n",
    "                syndrome_string = np.array2string(syndrome)\n",
    "                error_class_x = int((self.lz[0]@errorx)%2)\n",
    "                error_class_z = int((self.lx[0]@errorz)%2)\n",
    "                error_class = error_class_x*2+ error_class_z\n",
    "                print(syndrome, error_probability)\n",
    "                if syndrome_string in self.syndrome_dictionary:\n",
    "                    self.syndrome_dictionary[syndrome_string][error_class] += error_probability\n",
    "                else:\n",
    "                    self.syndrome_dictionary[syndrome_string] = [0,0,0,0]\n",
    "                    self.syndrome_dictionary[syndrome_string][error_class] += error_probability\n",
    "    \n",
    "    \n"
   ]
  },
  {
   "cell_type": "code",
   "execution_count": 73,
   "outputs": [],
   "source": [
    "def repetition_code(m):\n",
    "    lx = [np.ones(m)]\n",
    "    lz = [np.zeros(m)]\n",
    "    lz[0][0]=1\n",
    "    hx =[]\n",
    "    hz =[]\n",
    "    for i in range(1,m):\n",
    "        hzi=np.zeros(m)\n",
    "        hzi[0]=1\n",
    "        hzi[i]=1\n",
    "        hz.append(hzi)\n",
    "    return  np.array(lx),np.array(hx),np.array(lz),np.array(hz)\n",
    "\n"
   ],
   "metadata": {
    "collapsed": false,
    "ExecuteTime": {
     "end_time": "2023-11-27T14:14:04.371184531Z",
     "start_time": "2023-11-27T14:14:04.355508752Z"
    }
   },
   "id": "f6f2ed45a14c7824"
  },
  {
   "cell_type": "code",
   "execution_count": 74,
   "outputs": [],
   "source": [
    "def entropy(p):\n",
    "    e = 0\n",
    "    for pi in p:\n",
    "        if pi !=0:\n",
    "            e =e-pi*np.log2(pi)\n",
    "    return e\n",
    "\n",
    "def rate(p):\n",
    "    pI = p[0]\n",
    "    pX = p[1]\n",
    "    pY = p[2]\n",
    "    pZ = p[3]\n",
    "    return 1+pI*np.log2(pI)+pX*np.log2(pX)+pY*np.log2(pY)+pZ*np.log2(pZ)\n",
    "\n",
    "def compute_rate(n,k, syndrome_dict, px, py, pz):\n",
    "    rate_output=0\n",
    "    pX = sp.symbols('pX')\n",
    "    pZ = sp.symbols('pZ')\n",
    "    pY = sp.symbols('pY')\n",
    "    for s in range(2**(n-k)):\n",
    "        syndrome = np.array([int(x) for x in bin(s)[2:].zfill(n-k)])\n",
    "        syndrome_string = np.array2string(syndrome)\n",
    "        prob_dist =[]\n",
    "        for logical_class in syndrome_dict[syndrome_string]:\n",
    "            prob_dist.append(logical_class.evalf(subs={pX:px,pY:py,pZ:pz}))\n",
    "        p_s =  float(sum(prob_dist))\n",
    "        pmf = [float(p_l/p_s) for p_l in prob_dist]\n",
    "        e = entropy(pmf)\n",
    "        #rate += max(p_s*(1-e),0)\n",
    "        rate_output += max(p_s*rate(pmf),0)\n",
    "    rate_output = rate_output/n\n",
    "    return rate_output\n"
   ],
   "metadata": {
    "collapsed": false,
    "ExecuteTime": {
     "end_time": "2023-11-27T14:14:04.661176684Z",
     "start_time": "2023-11-27T14:14:04.640772551Z"
    }
   },
   "id": "92244cf1ff2a3fe6"
  },
  {
   "cell_type": "code",
   "execution_count": 74,
   "outputs": [],
   "source": [],
   "metadata": {
    "collapsed": false,
    "ExecuteTime": {
     "end_time": "2023-11-27T14:14:04.961023785Z",
     "start_time": "2023-11-27T14:14:04.942646017Z"
    }
   },
   "id": "2f627b1cd3a776d5"
  },
  {
   "cell_type": "code",
   "execution_count": 75,
   "outputs": [],
   "source": [
    "def get_best_rate(pX,pY,pZ,synddicts,max_num_repetitions):\n",
    "    pvec = [1-pX-pY-pZ,pX,pY,pZ]\n",
    "    best_rate = rate(pvec)\n",
    "    best_number_of_repetitions = 1\n",
    "    for repetitions in range(2,max_num_repetitions):\n",
    "        r = compute_rate(repetitions,1, synddicts[repetitions], pX, pY, pZ)\n",
    "        if r>=best_rate:\n",
    "            best_rate = r\n",
    "            best_number_of_repetitions = repetitions\n",
    "    print(pX+pY+pZ,best_rate,best_number_of_repetitions)\n",
    "    return best_rate"
   ],
   "metadata": {
    "collapsed": false,
    "ExecuteTime": {
     "end_time": "2023-11-27T14:14:05.450004328Z",
     "start_time": "2023-11-27T14:14:05.437232992Z"
    }
   },
   "id": "b0d8ae438cc31292"
  },
  {
   "cell_type": "code",
   "execution_count": 76,
   "outputs": [
    {
     "name": "stdout",
     "output_type": "stream",
     "text": [
      "2\n"
     ]
    },
    {
     "name": "stderr",
     "output_type": "stream",
     "text": [
      "100%|██████████| 4/4 [00:00<00:00, 179.86it/s]"
     ]
    },
    {
     "name": "stdout",
     "output_type": "stream",
     "text": [
      "[array([0])]\n",
      "[0] (-pX - pY - pZ + 1)**2\n",
      "[array([0])]\n",
      "[0] pZ*(-pX - pY - pZ + 1)\n",
      "[array([0])]\n",
      "[0] pZ*(-pX - pY - pZ + 1)\n",
      "[array([0])]\n",
      "[0] pZ**2\n",
      "[array([1])]\n",
      "[1] pX*(-pX - pY - pZ + 1)\n",
      "[array([1])]\n",
      "[1] pY*(-pX - pY - pZ + 1)\n",
      "[array([1])]\n",
      "[1] pX*pZ\n",
      "[array([1])]\n",
      "[1] pY*pZ\n",
      "[array([1])]\n",
      "[1] pX*(-pX - pY - pZ + 1)\n",
      "[array([1])]\n",
      "[1] pX*pZ\n",
      "[array([1])]\n",
      "[1] pY*(-pX - pY - pZ + 1)\n",
      "[array([1])]\n",
      "[1] pY*pZ\n",
      "[array([0])]\n",
      "[0] pX**2\n",
      "[array([0])]\n",
      "[0] pX*pY\n",
      "[array([0])]\n",
      "[0] pX*pY\n",
      "[array([0])]\n",
      "[0] pY**2\n"
     ]
    },
    {
     "name": "stderr",
     "output_type": "stream",
     "text": [
      "\n"
     ]
    }
   ],
   "source": [
    "max_num_repetitions = 3\n",
    "synddicts = dict()\n",
    "for r in range(2,max_num_repetitions):\n",
    "    lx, hx, lz, hz = repetition_code(r)\n",
    "    synddict = brute_calculator(lx, hx, lz, hz).syndrome_dictionary\n",
    "    synddicts[r] = synddict"
   ],
   "metadata": {
    "collapsed": false,
    "ExecuteTime": {
     "end_time": "2023-11-27T14:14:05.925271837Z",
     "start_time": "2023-11-27T14:14:05.852002636Z"
    }
   },
   "id": "1c39912831f53dea"
  },
  {
   "cell_type": "code",
   "execution_count": 77,
   "outputs": [
    {
     "data": {
      "text/plain": "{2: {'[0]': [pZ**2 + (-pX - pY - pZ + 1)**2,\n   2*pZ*(-pX - pY - pZ + 1),\n   pX**2 + pY**2,\n   2*pX*pY],\n  '[1]': [pX*(-pX - pY - pZ + 1) + pY*pZ,\n   pX*pZ + pY*(-pX - pY - pZ + 1),\n   pX*(-pX - pY - pZ + 1) + pY*pZ,\n   pX*pZ + pY*(-pX - pY - pZ + 1)]}}"
     },
     "execution_count": 77,
     "metadata": {},
     "output_type": "execute_result"
    }
   ],
   "source": [
    "synddicts"
   ],
   "metadata": {
    "collapsed": false,
    "ExecuteTime": {
     "end_time": "2023-11-27T14:14:07.788967246Z",
     "start_time": "2023-11-27T14:14:07.780522071Z"
    }
   },
   "id": "cb78137a2b1002cf"
  },
  {
   "cell_type": "code",
   "execution_count": 79,
   "outputs": [
    {
     "name": "stdout",
     "output_type": "stream",
     "text": [
      "0.25 0.026153415687399005 2\n",
      "0.25 0.026153415687399005 2\n",
      "0.25 0.026153415687399005 2\n",
      "0.25 0.026153415687399005 2\n",
      "0.25 0.026153415687399005 2\n",
      "0.25 0.026153415687399005 2\n",
      "0.25 0.026153415687399005 2\n",
      "0.25 0.026153415687399005 2\n",
      "0.25 0.026153415687399005 2\n",
      "0.25 0.026153415687399005 2\n",
      "0.25 0.026153415687399005 2\n",
      "0.25 0.026153415687399005 2\n",
      "0.25 0.026153415687399005 2\n",
      "0.25 0.026153415687399005 2\n",
      "0.25 0.026153415687399005 2\n",
      "0.25 0.026153415687399005 2\n",
      "0.25 0.026153415687399005 2\n",
      "0.25 0.026153415687399005 2\n",
      "0.25 0.026153415687399005 2\n",
      "0.25 0.026153415687399005 2\n",
      "0.25 0.026153415687399005 2\n",
      "0.25 0.026153415687399005 2\n",
      "0.25 0.026153415687399005 2\n",
      "0.25 0.026153415687399005 2\n",
      "0.25 0.026153415687399005 2\n",
      "0.25 0.026153415687399005 2\n",
      "0.25 0.026153415687399005 2\n",
      "0.25 0.026153415687399005 2\n",
      "0.25 0.026153415687399005 2\n",
      "0.25 0.026153415687399005 2\n",
      "0.25 0.026153415687399005 2\n",
      "0.25 0.026153415687399005 2\n",
      "0.25 0.026153415687399005 2\n",
      "0.25 0.026153415687399005 2\n",
      "0.25 0.026153415687399005 2\n",
      "0.25 0.026153415687399005 2\n",
      "0.25 0.026153415687399005 2\n",
      "0.25 0.026153415687399005 2\n",
      "0.25 0.026153415687399005 2\n",
      "0.25 0.026153415687399005 2\n",
      "0.25 0.026153415687399005 2\n",
      "0.25 0.026153415687399005 2\n",
      "0.25 0.026153415687399005 2\n",
      "0.25 0.026153415687399005 2\n",
      "0.25 0.026153415687399005 2\n",
      "0.25 0.026153415687399005 2\n",
      "0.25 0.026153415687399005 2\n",
      "0.25 0.026153415687399005 2\n",
      "0.25 0.026153415687399005 2\n",
      "0.25 0.026153415687399005 2\n",
      "0.25 0.026153415687399005 2\n",
      "0.25 0.026153415687399005 2\n",
      "0.25 0.026153415687399005 2\n",
      "0.25 0.026153415687399005 2\n",
      "0.25 0.026153415687399005 2\n",
      "0.25 0.026153415687399005 2\n",
      "0.25 0.026153415687399005 2\n",
      "0.25 0.026153415687399005 2\n",
      "0.25 0.026153415687399005 2\n",
      "0.25 0.026153415687399005 2\n",
      "0.25 0.026153415687399005 2\n",
      "0.25 0.026153415687399005 2\n",
      "0.25 0.026153415687399005 2\n",
      "0.25 0.026153415687399005 2\n",
      "0.25 0.026153415687399005 2\n",
      "0.25 0.026153415687399005 2\n",
      "0.25 0.026153415687399005 2\n",
      "0.25 0.026153415687399005 2\n",
      "0.25 0.026153415687399005 2\n",
      "0.25 0.026153415687399005 2\n",
      "0.25 0.026153415687399005 2\n",
      "0.25 0.026153415687399005 2\n",
      "0.25 0.026153415687399005 2\n",
      "0.25 0.026153415687399005 2\n",
      "0.25 0.026153415687399005 2\n",
      "0.25 0.026153415687399005 2\n",
      "0.25 0.026153415687399005 2\n",
      "0.25 0.026153415687399005 2\n",
      "0.25 0.026153415687399005 2\n",
      "0.25 0.026153415687399005 2\n",
      "0.25 0.026153415687399005 2\n",
      "0.25 0.026153415687399005 2\n",
      "0.25 0.026153415687399005 2\n",
      "0.25 0.026153415687399005 2\n",
      "0.25 0.026153415687399005 2\n",
      "0.25 0.026153415687399005 2\n",
      "0.25 0.026153415687399005 2\n",
      "0.25 0.026153415687399005 2\n",
      "0.25 0.026153415687399005 2\n",
      "0.25 0.026153415687399005 2\n",
      "0.25 0.026153415687399005 2\n",
      "0.25 0.026153415687399005 2\n",
      "0.25 0.026153415687399005 2\n",
      "0.25 0.026153415687399005 2\n",
      "0.25 0.026153415687399005 2\n",
      "0.25 0.026153415687399005 2\n",
      "0.25 0.026153415687399005 2\n",
      "0.25 0.026153415687399005 2\n",
      "0.25 0.026153415687399005 2\n",
      "0.25 0.026153415687399005 2\n",
      "0.25 0.026153415687399005 2\n",
      "0.25 0.026153415687399005 2\n",
      "0.25 0.026153415687399005 2\n",
      "0.25 0.026153415687399005 2\n",
      "0.25 0.026153415687399005 2\n",
      "0.25 0.026153415687399005 2\n",
      "0.25 0.026153415687399005 2\n",
      "0.25 0.026153415687399005 2\n",
      "0.25 0.026153415687399005 2\n",
      "0.25 0.026153415687399005 2\n",
      "0.25 0.026153415687399005 2\n",
      "0.25 0.026153415687399005 2\n",
      "0.25 0.026153415687399005 2\n",
      "0.25 0.026153415687399005 2\n",
      "0.25 0.026153415687399005 2\n",
      "0.25 0.026153415687399005 2\n",
      "0.25 0.026153415687399005 2\n",
      "0.25 0.026153415687399005 2\n",
      "0.25 0.026153415687399005 2\n",
      "0.25 0.026153415687399005 2\n",
      "0.25 0.026153415687399005 2\n",
      "0.25 0.026153415687399005 2\n",
      "0.25 0.026153415687399005 2\n",
      "0.25 0.026153415687399005 2\n",
      "0.25 0.026153415687399005 2\n",
      "0.25 0.026153415687399005 2\n",
      "0.25 0.026153415687399005 2\n",
      "0.25 0.026153415687399005 2\n",
      "0.25 0.026153415687399005 2\n",
      "0.25 0.026153415687399005 2\n",
      "0.25 0.026153415687399005 2\n",
      "0.25 0.026153415687399005 2\n",
      "0.25 0.026153415687399005 2\n",
      "0.25 0.026153415687399005 2\n",
      "0.25 0.026153415687399005 2\n",
      "0.25 0.026153415687399005 2\n",
      "0.25 0.026153415687399005 2\n",
      "0.25 0.026153415687399005 2\n",
      "0.25 0.026153415687399005 2\n",
      "0.25 0.026153415687399005 2\n",
      "0.25 0.026153415687399005 2\n",
      "0.25 0.026153415687399005 2\n",
      "0.25 0.026153415687399005 2\n",
      "0.25 0.026153415687399005 2\n",
      "0.25 0.026153415687399005 2\n",
      "0.25 0.026153415687399005 2\n",
      "0.25 0.026153415687399005 2\n",
      "0.25 0.026153415687399005 2\n",
      "0.25 0.026153415687399005 2\n",
      "0.25 0.026153415687399005 2\n",
      "0.25 0.026153415687399005 2\n",
      "0.25 0.026153415687399005 2\n",
      "0.25 0.026153415687399005 2\n",
      "0.25 0.026153415687399005 2\n",
      "0.25 0.026153415687399005 2\n",
      "0.25 0.026153415687399005 2\n",
      "0.25 0.026153415687399005 2\n",
      "0.25 0.026153415687399005 2\n",
      "0.25 0.026153415687399005 2\n",
      "0.25 0.026153415687399005 2\n",
      "0.25 0.026153415687399005 2\n",
      "0.25 0.026153415687399005 2\n",
      "0.25 0.026153415687399005 2\n",
      "0.25 0.026153415687399005 2\n",
      "0.25 0.026153415687399005 2\n",
      "0.25 0.026153415687399005 2\n",
      "0.25 0.026153415687399005 2\n",
      "0.25 0.026153415687399005 2\n",
      "0.25 0.026153415687399005 2\n",
      "0.25 0.026153415687399005 2\n"
     ]
    },
    {
     "data": {
      "text/plain": "[<matplotlib.lines.Line2D at 0x7f4848c33e90>]"
     },
     "execution_count": 79,
     "metadata": {},
     "output_type": "execute_result"
    },
    {
     "data": {
      "text/plain": "<Figure size 640x480 with 1 Axes>",
      "image/png": "[encoded data removed]"
     },
     "metadata": {},
     "output_type": "display_data"
    }
   ],
   "source": [
    "concatenated_best_rate = []\n",
    "hashing_rate = []\n",
    "prange =np.arange(0.23,0.4,0.001)\n",
    "\n",
    "for p_total in prange:\n",
    "    if (10-np.sqrt(100-36*p_total) >=0) and (10-np.sqrt(100-36*p_total)<=1):\n",
    "        q = (10-np.sqrt(100-36*p_total))/18\n",
    "    else:\n",
    "        q = (10+np.sqrt(100-36*p_total))/18\n",
    "    qx = q\n",
    "    qz = 9*q\n",
    "    pX = qx*(1-qz)\n",
    "    pZ = qz*(1-qx)\n",
    "    pY = qx*qz\n",
    "    pX = 0.25/3\n",
    "    pY= 0.25/3\n",
    "    pZ = 0.25/3\n",
    "    \n",
    "    pvec = [1-pX-pY-pZ,pX,pY,pZ]\n",
    "    hashing_rate.append(max(rate(pvec),0))\n",
    "    concatenated_best_rate.append(get_best_rate(pX,pY,pZ,synddicts,max_num_repetitions))\n",
    "plt.plot(prange,concatenated_best_rate,'r')\n",
    "plt.plot(prange,hashing_rate,'b')"
   ],
   "metadata": {
    "collapsed": false,
    "ExecuteTime": {
     "end_time": "2023-11-27T14:14:48.511786944Z",
     "start_time": "2023-11-27T14:14:47.706633892Z"
    }
   },
   "id": "c0b41b674583b260"
  },
  {
   "cell_type": "code",
   "execution_count": null,
   "outputs": [],
   "source": [],
   "metadata": {
    "collapsed": false
   },
   "id": "1d8ac8db6de0dc43"
  }
 ],
 "metadata": {
  "kernelspec": {
   "display_name": "Python 3",
   "language": "python",
   "name": "python3"
  },
  "language_info": {
   "codemirror_mode": {
    "name": "ipython",
    "version": 2
   },
   "file_extension": ".py",
   "mimetype": "text/x-python",
   "name": "python",
   "nbconvert_exporter": "python",
   "pygments_lexer": "ipython2",
   "version": "2.7.6"
  }
 },
 "nbformat": 4,
 "nbformat_minor": 5
}
