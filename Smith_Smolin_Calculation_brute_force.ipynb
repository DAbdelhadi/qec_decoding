{
 "cells": [
  {
   "cell_type": "code",
   "execution_count": 72,
   "id": "initial_id",
   "metadata": {
    "collapsed": true,
    "ExecuteTime": {
     "end_time": "2023-11-27T14:14:03.997917051Z",
     "start_time": "2023-11-27T14:14:03.973806295Z"
    }
   },
   "outputs": [],
   "source": [
    "import numpy as np\n",
    "from tqdm import tqdm\n",
    "import sympy as sp\n",
    "import matplotlib.pyplot as plt\n",
    "class brute_calculator:\n",
    "    def __init__(self, lx, hx, lz, hz):\n",
    "        self.lz = lz\n",
    "        self.hz = hz\n",
    "        self.lx = lx\n",
    "        self.hx = hx\n",
    "        self.syndrome_dictionary = {} #key: syndrome, value: [weight I class, weight LZ class, weight LX class, weight LY class]\n",
    "        self.error_loop()\n",
    "        \n",
    "    def error_loop(self):\n",
    "        n = len(self.lz[0])\n",
    "        print(n)\n",
    "        pX = sp.symbols('pX')\n",
    "        pZ = sp.symbols('pZ')\n",
    "        pY = sp.symbols('pY')\n",
    "        pI = 1-pX-pY-pZ\n",
    "        #loop over all errors\n",
    "        for i in tqdm(range(2**n)):\n",
    "            for j in range(2**n):\n",
    "\n",
    "                errorx = np.array([int(x) for x in bin(i)[2:].zfill(n)])\n",
    "                errorz = np.array([int(x) for x in bin(j)[2:].zfill(n)])\n",
    "                ey = errorx*errorz\n",
    "                hamming_weight_x_errors = np.sum((ey+errorx)%2)\n",
    "                hamming_weight_z_errors = np.sum((ey+errorz)%2)\n",
    "                hamming_weight_y_errors = np.sum(ey)\n",
    "\n",
    "                ham_sum = hamming_weight_x_errors + hamming_weight_z_errors + hamming_weight_y_errors\n",
    "                error_probability = pI**(n-ham_sum)*pX**hamming_weight_x_errors*pZ**hamming_weight_z_errors*pY**hamming_weight_y_errors\n",
    "                syndrome = []\n",
    "                if len(self.hz)>0:\n",
    "                    syndrome.append(((self.hz@errorx)%2).astype(int))\n",
    "                if len(self.hx)>0:\n",
    "                    syndrome.append(((self.hx@errorz)%2).astype(int))\n",
    "                #syndrome = np.append((self.hz@errorx)%2, (self.hx@errorz)%2)\n",
    "                print(syndrome)\n",
    "                syndrome = syndrome[0]\n",
    "                syndrome_string = np.array2string(syndrome)\n",
    "                error_class_x = int((self.lz[0]@errorx)%2)\n",
    "                error_class_z = int((self.lx[0]@errorz)%2)\n",
    "                error_class = error_class_x*2+ error_class_z\n",
    "                print(syndrome, error_probability)\n",
    "                if syndrome_string in self.syndrome_dictionary:\n",
    "                    self.syndrome_dictionary[syndrome_string][error_class] += error_probability\n",
    "                else:\n",
    "                    self.syndrome_dictionary[syndrome_string] = [0,0,0,0]\n",
    "                    self.syndrome_dictionary[syndrome_string][error_class] += error_probability\n",
    "    \n",
    "    \n"
   ]
  },
  {
   "cell_type": "code",
   "execution_count": 73,
   "outputs": [],
   "source": [
    "def repetition_code(m):\n",
    "    lx = [np.ones(m)]\n",
    "    lz = [np.zeros(m)]\n",
    "    lz[0][0]=1\n",
    "    hx =[]\n",
    "    hz =[]\n",
    "    for i in range(1,m):\n",
    "        hzi=np.zeros(m)\n",
    "        hzi[0]=1\n",
    "        hzi[i]=1\n",
    "        hz.append(hzi)\n",
    "    return  np.array(lx),np.array(hx),np.array(lz),np.array(hz)\n",
    "\n"
   ],
   "metadata": {
    "collapsed": false,
    "ExecuteTime": {
     "end_time": "2023-11-27T14:14:04.371184531Z",
     "start_time": "2023-11-27T14:14:04.355508752Z"
    }
   },
   "id": "f6f2ed45a14c7824"
  },
  {
   "cell_type": "code",
   "execution_count": 81,
   "outputs": [],
   "source": [
    "def entropy(p):\n",
    "    e = 0\n",
    "    for pi in p:\n",
    "        if pi !=0:\n",
    "            e =e-pi*np.log2(pi)\n",
    "    return e\n",
    "\n",
    "def rate(p):\n",
    "    pI = p[0]\n",
    "    pX = p[1]\n",
    "    pY = p[2]\n",
    "    pZ = p[3]\n",
    "    return 1+pI*np.log2(pI)+pX*np.log2(pX)+pY*np.log2(pY)+pZ*np.log2(pZ)\n",
    "\n",
    "def compute_rate(n,k, syndrome_dict, px, py, pz):\n",
    "    rate_output=0\n",
    "    pX = sp.symbols('pX')\n",
    "    pZ = sp.symbols('pZ')\n",
    "    pY = sp.symbols('pY')\n",
    "    \n",
    "    for s in range(2**(n-k)):\n",
    "        syndrome = np.array([int(x) for x in bin(s)[2:].zfill(n-k)])\n",
    "        syndrome_string = np.array2string(syndrome)\n",
    "        prob_dist =[]\n",
    "        for logical_class in syndrome_dict[syndrome_string]:\n",
    "            prob_dist.append(logical_class.evalf(subs={pX:px,pY:py,pZ:pz}))\n",
    "        p_s =  float(sum(prob_dist))\n",
    "        pmf = [float(p_l/p_s) for p_l in prob_dist]\n",
    "        e = entropy(pmf)\n",
    "        #rate += max(p_s*(1-e),0)\n",
    "        rate_output += p_s*rate(pmf)\n",
    "    rate_output = rate_output/n\n",
    "    return rate_output\n"
   ],
   "metadata": {
    "collapsed": false,
    "ExecuteTime": {
     "end_time": "2023-11-27T14:37:39.752064109Z",
     "start_time": "2023-11-27T14:37:39.708688925Z"
    }
   },
   "id": "92244cf1ff2a3fe6"
  },
  {
   "cell_type": "code",
   "execution_count": 81,
   "outputs": [],
   "source": [],
   "metadata": {
    "collapsed": false,
    "ExecuteTime": {
     "end_time": "2023-11-27T14:37:40.596856651Z",
     "start_time": "2023-11-27T14:37:40.593176803Z"
    }
   },
   "id": "2f627b1cd3a776d5"
  },
  {
   "cell_type": "code",
   "execution_count": 82,
   "outputs": [],
   "source": [
    "def get_best_rate(pX,pY,pZ,synddicts,max_num_repetitions):\n",
    "    pvec = [1-pX-pY-pZ,pX,pY,pZ]\n",
    "    best_rate = rate(pvec)\n",
    "    best_number_of_repetitions = 1\n",
    "    for repetitions in range(2,max_num_repetitions):\n",
    "        r = compute_rate(repetitions,1, synddicts[repetitions], pX, pY, pZ)\n",
    "        if r>=best_rate:\n",
    "            best_rate = r\n",
    "            best_number_of_repetitions = repetitions\n",
    "    print(pX+pY+pZ,best_rate,best_number_of_repetitions)\n",
    "    return best_rate"
   ],
   "metadata": {
    "collapsed": false,
    "ExecuteTime": {
     "end_time": "2023-11-27T14:37:44.720514082Z",
     "start_time": "2023-11-27T14:37:44.703626716Z"
    }
   },
   "id": "b0d8ae438cc31292"
  },
  {
   "cell_type": "code",
   "execution_count": 83,
   "outputs": [
    {
     "name": "stdout",
     "output_type": "stream",
     "text": [
      "2\n"
     ]
    },
    {
     "name": "stderr",
     "output_type": "stream",
     "text": [
      "100%|██████████| 4/4 [00:00<00:00, 220.01it/s]"
     ]
    },
    {
     "name": "stdout",
     "output_type": "stream",
     "text": [
      "[array([0])]\n",
      "[0] (-pX - pY - pZ + 1)**2\n",
      "[array([0])]\n",
      "[0] pZ*(-pX - pY - pZ + 1)\n",
      "[array([0])]\n",
      "[0] pZ*(-pX - pY - pZ + 1)\n",
      "[array([0])]\n",
      "[0] pZ**2\n",
      "[array([1])]\n",
      "[1] pX*(-pX - pY - pZ + 1)\n",
      "[array([1])]\n",
      "[1] pY*(-pX - pY - pZ + 1)\n",
      "[array([1])]\n",
      "[1] pX*pZ\n",
      "[array([1])]\n",
      "[1] pY*pZ\n",
      "[array([1])]\n",
      "[1] pX*(-pX - pY - pZ + 1)\n",
      "[array([1])]\n",
      "[1] pX*pZ\n",
      "[array([1])]\n",
      "[1] pY*(-pX - pY - pZ + 1)\n",
      "[array([1])]\n",
      "[1] pY*pZ\n",
      "[array([0])]\n",
      "[0] pX**2\n",
      "[array([0])]\n",
      "[0] pX*pY\n",
      "[array([0])]\n",
      "[0] pX*pY\n",
      "[array([0])]\n",
      "[0] pY**2\n"
     ]
    },
    {
     "name": "stderr",
     "output_type": "stream",
     "text": [
      "\n"
     ]
    }
   ],
   "source": [
    "max_num_repetitions = 3\n",
    "synddicts = dict()\n",
    "for r in range(2,max_num_repetitions):\n",
    "    lx, hx, lz, hz = repetition_code(r)\n",
    "    synddict = brute_calculator(lx, hx, lz, hz).syndrome_dictionary\n",
    "    synddicts[r] = synddict"
   ],
   "metadata": {
    "collapsed": false,
    "ExecuteTime": {
     "end_time": "2023-11-27T14:37:45.838211372Z",
     "start_time": "2023-11-27T14:37:45.796170375Z"
    }
   },
   "id": "1c39912831f53dea"
  },
  {
   "cell_type": "code",
   "execution_count": 84,
   "outputs": [
    {
     "data": {
      "text/plain": "{2: {'[0]': [pZ**2 + (-pX - pY - pZ + 1)**2,\n   2*pZ*(-pX - pY - pZ + 1),\n   pX**2 + pY**2,\n   2*pX*pY],\n  '[1]': [pX*(-pX - pY - pZ + 1) + pY*pZ,\n   pX*pZ + pY*(-pX - pY - pZ + 1),\n   pX*(-pX - pY - pZ + 1) + pY*pZ,\n   pX*pZ + pY*(-pX - pY - pZ + 1)]}}"
     },
     "execution_count": 84,
     "metadata": {},
     "output_type": "execute_result"
    }
   ],
   "source": [
    "synddicts"
   ],
   "metadata": {
    "collapsed": false,
    "ExecuteTime": {
     "end_time": "2023-11-27T14:37:46.580450224Z",
     "start_time": "2023-11-27T14:37:46.569295542Z"
    }
   },
   "id": "cb78137a2b1002cf"
  },
  {
   "cell_type": "code",
   "execution_count": 87,
   "outputs": [
    {
     "name": "stdout",
     "output_type": "stream",
     "text": [
      "0.2299999999999998 0.09506470943553097 1\n",
      "0.23100000000000007 0.09272289279250984 1\n",
      "0.23199999999999996 0.0903889188427709 1\n",
      "0.2330000000000004 0.08806276475402713 1\n",
      "0.23400000000000015 0.08574440792883115 1\n",
      "0.23500000000000038 0.0834338260016726 1\n",
      "0.23599999999999977 0.08113099683614527 1\n",
      "0.23700000000000004 0.07883589852214273 1\n",
      "0.23800000000000018 0.07654850937312507 1\n",
      "0.2389999999999999 0.074268807923412 1\n",
      "0.2399999999999997 0.07199677292553075 1\n",
      "0.24099999999999963 0.06973238334761128 1\n",
      "0.242 0.06747561837082133 1\n",
      "0.2430000000000005 0.06522645738684751 1\n",
      "0.24399999999999983 0.06298487999541896 1\n",
      "0.24499999999999947 0.060750866001862414 1\n",
      "0.24599999999999966 0.05852439541471488 1\n",
      "0.24700000000000016 0.05630544844336577 1\n",
      "0.24800000000000022 0.054094005495741004 1\n",
      "0.24900000000000008 0.05189004717601936 1\n",
      "0.25000000000000017 0.04969355428239408 1\n",
      "0.2509999999999998 0.0475045078048702 1\n",
      "0.2519999999999997 0.04532288892309 1\n",
      "0.25300000000000045 0.043148679004203716 1\n",
      "0.25399999999999984 0.04098185960077594 1\n",
      "0.2549999999999998 0.03882241244870582 1\n",
      "0.2560000000000002 0.036670319465206935 1\n",
      "0.257 0.03452556274680829 1\n",
      "0.2579999999999996 0.03238812456737983 1\n",
      "0.2589999999999999 0.030257987376198947 1\n",
      "0.2600000000000001 0.02813513379605026 1\n",
      "0.2609999999999997 0.026019546621346035 1\n",
      "0.2619999999999999 0.02391120881627723 1\n",
      "0.263 0.021810103513004997 1\n",
      "0.2639999999999997 0.01971621400986795 1\n",
      "0.2650000000000001 0.017629523769618793 1\n",
      "0.26599999999999985 0.01555001641770093 1\n",
      "0.2669999999999994 0.013477675740532491 1\n",
      "0.2680000000000002 0.011412485683829632 1\n",
      "0.2689999999999996 0.009354430350962395 1\n",
      "0.2700000000000002 0.007303494001308142 1\n",
      "0.2710000000000003 0.005259661048666542 1\n",
      "0.27200000000000024 0.0032229160596703443 1\n",
      "0.27300000000000035 0.0011932437522319539 1\n",
      "0.27400000000000013 -0.0008293710059835702 1\n",
      "0.27500000000000036 -0.0028449431990723584 1\n",
      "0.27600000000000047 -0.004853487664370215 1\n",
      "0.27700000000000036 -0.006855019093920389 1\n",
      "0.27799999999999986 -0.008849552035911978 1\n",
      "0.2789999999999998 -0.010837100896102236 1\n",
      "0.27999999999999997 -0.012817679939209403 1\n",
      "0.28099999999999964 -0.013403607074026071 2\n",
      "0.2820000000000003 -0.013841819980214755 2\n",
      "0.28300000000000014 -0.014276444640243736 2\n",
      "0.2840000000000001 -0.014707510865482106 2\n",
      "0.28500000000000003 -0.015135048312195363 2\n",
      "0.2860000000000005 -0.015559086482658338 2\n",
      "0.28699999999999976 -0.015979654726245893 2\n",
      "0.28800000000000014 -0.016396782240509587 2\n",
      "0.28900000000000026 -0.016810498072225795 2\n",
      "0.2899999999999998 -0.01722083111843188 2\n",
      "0.291 -0.017627810127441385 2\n",
      "0.2919999999999999 -0.018031463699837484 2\n",
      "0.29300000000000004 -0.018431820289452325 2\n",
      "0.29399999999999993 -0.018828908204325256 2\n",
      "0.29500000000000015 -0.019222755607644852 2\n",
      "0.29600000000000054 -0.01961339051867177 2\n",
      "0.29700000000000026 -0.020000840813645563 2\n",
      "0.29800000000000004 -0.02038513422667417 2\n",
      "0.29899999999999993 -0.02076629835060632 2\n",
      "0.3000000000000002 -0.021144360637887084 2\n",
      "0.301 -0.02151934840139701 2\n",
      "0.3020000000000002 -0.021891288815277167 2\n",
      "0.3030000000000003 -0.022260208915734686 2\n",
      "0.3040000000000002 -0.022626135601835837 2\n",
      "0.30499999999999994 -0.0229890956362828 2\n",
      "0.30600000000000044 -0.023349115646174663 2\n",
      "0.3069999999999998 -0.02370622212375306 2\n",
      "0.3080000000000003 -0.024060441427135766 2\n",
      "0.309 -0.024411799781031536 2\n",
      "0.31000000000000016 -0.02476032327744493 2\n",
      "0.31100000000000005 -0.0251060378763637 2\n",
      "0.3119999999999997 -0.025448969406434124 2\n",
      "0.3129999999999999 -0.02578914356562221 2\n",
      "0.314 -0.02612658592186077 2\n",
      "0.3149999999999997 -0.026461321913683583 2\n",
      "0.3160000000000006 -0.026793376850847365 2\n",
      "0.3170000000000004 -0.027122775914938026 2\n",
      "0.3180000000000003 -0.027449544159967823 2\n",
      "0.3190000000000004 -0.027773706512957096 2\n",
      "0.32000000000000073 -0.028095287774504034 2\n",
      "0.3209999999999999 -0.02841431261934296 2\n",
      "0.32199999999999984 -0.028730805596891354 2\n",
      "0.32299999999999995 -0.02904479113178117 2\n",
      "0.3239999999999998 -0.02935629352438294 2\n",
      "0.3250000000000003 -0.02966533695131551 2\n",
      "0.32599999999999973 -0.029971945465944273 2\n",
      "0.3270000000000002 -0.030276142998870964 2\n",
      "0.3280000000000006 -0.030577953358407302 2\n",
      "0.3290000000000006 -0.030877400231042275 2\n",
      "0.33 -0.031174507181896217 2\n",
      "0.331 -0.03146929765516517 2\n",
      "0.33199999999999974 -0.03176179497455292 2\n",
      "0.33299999999999985 -0.032052022343694725 2\n",
      "0.3340000000000002 -0.032340002846569765 2\n",
      "0.33500000000000046 -0.032625759447902816 2\n",
      "0.33599999999999985 -0.0329093149935568 2\n",
      "0.33700000000000047 -0.03319069221091604 2\n",
      "0.33800000000000024 -0.033469913709256574 2\n",
      "0.33900000000000063 -0.033747001980111664 2\n",
      "0.3399999999999998 -0.03402197939762229 2\n",
      "0.34100000000000064 -0.03429486821888433 2\n",
      "0.34199999999999947 -0.034565690584279246 2\n",
      "0.343 -0.03483446851780378 2\n",
      "0.34400000000000014 -0.035101223927382144 2\n",
      "0.34499999999999964 -0.03536597860517604 2\n",
      "0.34600000000000053 -0.035628754227882996 2\n",
      "0.3470000000000002 -0.03588957235702434 2\n",
      "0.3480000000000005 -0.03614845443922875 2\n",
      "0.349 -0.03640542180650316 2\n",
      "0.3500000000000004 -0.03666049567649846 2\n",
      "0.35100000000000015 -0.03691369715276352 2\n",
      "0.3520000000000001 -0.03716504722499519 2\n",
      "0.35300000000000004 -0.03741456676927627 2\n",
      "0.35399999999999954 -0.03766227654830793 2\n",
      "0.3550000000000002 -0.03790819721163364 2\n",
      "0.3560000000000001 -0.038152349295854135 2\n",
      "0.357 -0.038394753224837076 2\n",
      "0.35800000000000054 -0.03863542930991674 2\n",
      "0.359 -0.03887439775008715 2\n",
      "0.3600000000000005 -0.039111678632189034 2\n",
      "0.361 -0.03934729193108611 2\n",
      "0.3619999999999999 -0.039581257509838166 2\n",
      "0.3630000000000002 -0.03981359511986428 2\n",
      "0.3639999999999999 -0.04004432440109916 2\n",
      "0.36499999999999977 -0.04027346488214441 2\n",
      "0.3659999999999999 -0.04050103598041062 2\n",
      "0.36700000000000005 -0.04072705700225378 2\n",
      "0.3680000000000001 -0.04095154714310491 2\n",
      "0.3689999999999998 -0.04117452548759294 2\n",
      "0.37000000000000033 -0.041396011009661414 2\n",
      "0.3710000000000001 -0.041616022572677255 2\n",
      "0.3720000000000002 -0.041834578929535376 2\n",
      "0.3730000000000001 -0.04205169872275493 2\n",
      "0.37399999999999994 -0.04226740048457062 2\n",
      "0.37499999999999983 -0.04248170263701747 2\n",
      "0.3759999999999999 -0.04269462349200893 2\n",
      "0.377 -0.042906181251409915 2\n",
      "0.37800000000000045 -0.04311639400710277 2\n",
      "0.3790000000000002 -0.043325279741048627 2\n",
      "0.3799999999999999 -0.0435328563253423 2\n",
      "0.3810000000000001 -0.04373914152226131 2\n",
      "0.38200000000000023 -0.04394415298430901 2\n",
      "0.3830000000000001 -0.04414790825425309 2\n",
      "0.38400000000000056 -0.044350424765157895 2\n",
      "0.3849999999999998 -0.04455171984041099 2\n",
      "0.3860000000000004 -0.04475181069374536 2\n",
      "0.38699999999999996 -0.04495071442925467 2\n",
      "0.38799999999999985 -0.045148448041405394 2\n",
      "0.38900000000000023 -0.0453450284150416 2\n",
      "0.3899999999999997 -0.04554047232538593 2\n",
      "0.39099999999999974 -0.045734796438035685 2\n",
      "0.39200000000000024 -0.04592801730895249 2\n",
      "0.3930000000000005 -0.04612015138444836 2\n",
      "0.39399999999999963 -0.046311215001166355 2\n",
      "0.3949999999999997 -0.046501224386057194 2\n",
      "0.3960000000000001 -0.046690195656349215 2\n",
      "0.3970000000000001 -0.046878144819515286 2\n",
      "0.3979999999999997 -0.04706508777323522 2\n",
      "0.39899999999999985 -0.04725104030535238 2\n"
     ]
    },
    {
     "data": {
      "text/plain": "[<matplotlib.lines.Line2D at 0x7f4841b41b50>]"
     },
     "execution_count": 87,
     "metadata": {},
     "output_type": "execute_result"
    },
    {
     "data": {
      "text/plain": "<Figure size 640x480 with 1 Axes>",
      "image/png": "[encoded data removed]"
     },
     "metadata": {},
     "output_type": "display_data"
    }
   ],
   "source": [
    "concatenated_best_rate = []\n",
    "hashing_rate = []\n",
    "prange =np.arange(0.23,0.4,0.001)\n",
    "\n",
    "for p_total in prange:\n",
    "    if (10-np.sqrt(100-36*p_total) >=0) and (10-np.sqrt(100-36*p_total)<=1):\n",
    "        q = (10-np.sqrt(100-36*p_total))/18\n",
    "    else:\n",
    "        q = (10+np.sqrt(100-36*p_total))/18\n",
    "    qx = q\n",
    "    qz = 9*q\n",
    "    pX = qx*(1-qz)\n",
    "    pZ = qz*(1-qx)\n",
    "    pY = qx*qz\n",
    "#    pX = 0.25/3\n",
    "#    pY= 0.25/3\n",
    "#    pZ = 0.25/3\n",
    "    \n",
    "    pvec = [1-pX-pY-pZ,pX,pY,pZ]\n",
    "    hashing_rate.append(rate(pvec))\n",
    "    concatenated_best_rate.append(get_best_rate(pX,pY,pZ,synddicts,max_num_repetitions))\n",
    "plt.plot(prange,concatenated_best_rate,'r')\n",
    "plt.plot(prange,hashing_rate,'b')"
   ],
   "metadata": {
    "collapsed": false,
    "ExecuteTime": {
     "end_time": "2023-11-27T14:38:39.518730701Z",
     "start_time": "2023-11-27T14:38:38.205708967Z"
    }
   },
   "id": "c0b41b674583b260"
  },
  {
   "cell_type": "code",
   "execution_count": null,
   "outputs": [],
   "source": [],
   "metadata": {
    "collapsed": false
   },
   "id": "1d8ac8db6de0dc43"
  }
 ],
 "metadata": {
  "kernelspec": {
   "display_name": "Python 3",
   "language": "python",
   "name": "python3"
  },
  "language_info": {
   "codemirror_mode": {
    "name": "ipython",
    "version": 2
   },
   "file_extension": ".py",
   "mimetype": "text/x-python",
   "name": "python",
   "nbconvert_exporter": "python",
   "pygments_lexer": "ipython2",
   "version": "2.7.6"
  }
 },
 "nbformat": 4,
 "nbformat_minor": 5
}
