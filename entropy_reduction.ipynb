{
 "cells": [
  {
   "cell_type": "markdown",
   "source": [
    "### A check of how much the noise entropy is reduced by the repetition code of Smith-Smolin"
   ],
   "metadata": {
    "collapsed": false
   },
   "id": "da895df3c2891c88"
  },
  {
   "cell_type": "code",
   "execution_count": 4,
   "outputs": [],
   "source": [
    "import numpy as np\n",
    "from scipy.special import binom\n",
    "import matplotlib.pyplot as plt"
   ],
   "metadata": {
    "collapsed": false,
    "ExecuteTime": {
     "end_time": "2023-11-30T12:30:37.797472096Z",
     "start_time": "2023-11-30T12:30:37.783928054Z"
    }
   },
   "id": "9e3a442ce1474091"
  },
  {
   "cell_type": "code",
   "execution_count": 5,
   "outputs": [],
   "source": [
    "def joint_prob(u,v,r,m, px,py,pz):\n",
    "    #u: X error, v Zerror, r syndrome with weight r, m number of repetitions\n",
    "    first_term = (px+py)**(u*(m-2*r)+r)*(1-px-py)**((1-u)*(m-2*r)+r)\n",
    "    second_term = (px-py)**(u*(m-2*r)+r)*(1-px-py-2*pz)**((1-u)*(m-2*r)+r)\n",
    "    return 0.5*(first_term+(-1)**v*second_term)"
   ],
   "metadata": {
    "collapsed": false,
    "ExecuteTime": {
     "end_time": "2023-11-30T12:30:38.174546584Z",
     "start_time": "2023-11-30T12:30:38.162367640Z"
    }
   },
   "id": "bf70df986e9f02d2"
  },
  {
   "cell_type": "code",
   "execution_count": 6,
   "outputs": [],
   "source": [
    "def probability_of_a_syndrome(r,m,px,py,pz):\n",
    "    # r syndrome with weight r, m number of repetitions\n",
    "    return joint_prob(0,0,r,m, px,py,pz)+joint_prob(0,1,r,m, px,py,pz)+joint_prob(1,0,r,m, px,py,pz)+joint_prob(1,1,r,m, px,py,pz)"
   ],
   "metadata": {
    "collapsed": false,
    "ExecuteTime": {
     "end_time": "2023-11-30T12:30:38.530785469Z",
     "start_time": "2023-11-30T12:30:38.513068694Z"
    }
   },
   "id": "a20bce5c28e39e70"
  },
  {
   "cell_type": "code",
   "execution_count": 7,
   "outputs": [],
   "source": [
    "def new_channel(r,m,px,py,pz):\n",
    "    # r syndrome with weight r, m number of repetitions\n",
    "    prob_syndrome = probability_of_a_syndrome(r,m,px,py,pz)\n",
    "    pI = joint_prob(0,0,r,m, px,py,pz)/prob_syndrome\n",
    "    pZ = joint_prob(0,1,r,m, px,py,pz)/prob_syndrome\n",
    "    pX = joint_prob(1,0,r,m, px,py,pz)/prob_syndrome\n",
    "    pY = joint_prob(1,1,r,m, px,py,pz)/prob_syndrome\n",
    "    return pI,pX,pY,pZ"
   ],
   "metadata": {
    "collapsed": false,
    "ExecuteTime": {
     "end_time": "2023-11-30T12:30:38.998600266Z",
     "start_time": "2023-11-30T12:30:38.948572038Z"
    }
   },
   "id": "7272e079519ee7d1"
  },
  {
   "cell_type": "code",
   "execution_count": 39,
   "outputs": [],
   "source": [
    "def entropy(p):\n",
    "    pI = p[0]\n",
    "    pX = p[1]\n",
    "    pY = p[2]\n",
    "    pZ = p[3]\n",
    "    return -(pI*np.log2(pI)+pX*np.log2(pX)+pY*np.log2(pY)+pZ*np.log2(pZ))"
   ],
   "metadata": {
    "collapsed": false,
    "ExecuteTime": {
     "end_time": "2023-11-30T12:44:28.614274650Z",
     "start_time": "2023-11-30T12:44:28.572515719Z"
    }
   },
   "id": "7ad6fb6dbd4edf13"
  },
  {
   "cell_type": "code",
   "execution_count": 8,
   "outputs": [],
   "source": [
    "def rate(p):\n",
    "    pI = p[0]\n",
    "    pX = p[1]\n",
    "    pY = p[2]\n",
    "    pZ = p[3]\n",
    "    return 1+pI*np.log2(pI)+pX*np.log2(pX)+pY*np.log2(pY)+pZ*np.log2(pZ)"
   ],
   "metadata": {
    "collapsed": false,
    "ExecuteTime": {
     "end_time": "2023-11-30T12:30:39.552826714Z",
     "start_time": "2023-11-30T12:30:39.536559819Z"
    }
   },
   "id": "a775933857c781c8"
  },
  {
   "cell_type": "code",
   "execution_count": 9,
   "outputs": [],
   "source": [
    "def concatenated_channel_rate(m,px,py,pz):\n",
    "    # r syndrome with weight r, m number of repetitions\n",
    "    concatenated_rate = 0\n",
    "    for r in range(0,m):\n",
    "        concatenated_rate += binom(m-1,r)*probability_of_a_syndrome(r,m,px,py,pz)*rate(new_channel(r,m,px,py,pz))\n",
    "    return concatenated_rate/m"
   ],
   "metadata": {
    "collapsed": false,
    "ExecuteTime": {
     "end_time": "2023-11-30T12:30:40.041498932Z",
     "start_time": "2023-11-30T12:30:40.022939217Z"
    }
   },
   "id": "6ea017e2debad1fd"
  },
  {
   "cell_type": "code",
   "execution_count": 47,
   "outputs": [],
   "source": [
    "\n",
    "\n",
    "def get_best_rate(pX,pY,pZ):\n",
    "    pvec = [1-pX-pY-pZ,pX,pY,pZ]\n",
    "    best_rate = max(rate(pvec),0)\n",
    "    best_number_of_repetitions = 1\n",
    "    for repetitions in range(2,10):\n",
    "        r = concatenated_channel_rate(repetitions,pX,pY,pZ)\n",
    "        if r>=best_rate:\n",
    "            best_rate = r\n",
    "            best_number_of_repetitions = repetitions\n",
    "    return best_rate\n"
   ],
   "metadata": {
    "collapsed": false,
    "ExecuteTime": {
     "end_time": "2023-11-30T12:47:03.949653660Z",
     "start_time": "2023-11-30T12:47:03.914375049Z"
    }
   },
   "id": "8421f33ef67f3761"
  },
  {
   "cell_type": "code",
   "execution_count": 45,
   "outputs": [],
   "source": [
    "def distribution_gen(p_total):\n",
    "    if (10-np.sqrt(100-36*p_total) >=0) and (10-np.sqrt(100-36*p_total)<=1):\n",
    "        q = (10-np.sqrt(100-36*p_total))/18\n",
    "    else:\n",
    "        q = (10+np.sqrt(100-36*p_total))/18\n",
    "    qx = 9*q\n",
    "    qz = q\n",
    "    pX = qx*(1-qz)\n",
    "    pZ = qz*(1-qx)\n",
    "    pY = qx*qz\n",
    "    return pX,pY,pZ"
   ],
   "metadata": {
    "collapsed": false,
    "ExecuteTime": {
     "end_time": "2023-11-30T12:46:55.469030073Z",
     "start_time": "2023-11-30T12:46:55.454491242Z"
    }
   },
   "id": "984ceb66adf9be4"
  },
  {
   "cell_type": "code",
   "execution_count": 48,
   "outputs": [
    {
     "data": {
      "text/plain": "[<matplotlib.lines.Line2D at 0x7fb4e521d750>]"
     },
     "execution_count": 48,
     "metadata": {},
     "output_type": "execute_result"
    },
    {
     "data": {
      "text/plain": "<Figure size 640x480 with 1 Axes>",
      "image/png": "[encoded data removed]"
     },
     "metadata": {},
     "output_type": "display_data"
    }
   ],
   "source": [
    "concatenated_best_rate = []\n",
    "hashing_rate = []\n",
    "prange =np.arange(0.23,0.3,0.001)\n",
    "for p_total in prange:\n",
    "    pX,pY,pZ = distribution_gen(p_total)\n",
    "    pvec = [1-pX-pY-pZ,pX,pY,pZ]\n",
    "    hashing_rate.append(max(rate(pvec),0))\n",
    "    concatenated_best_rate.append(get_best_rate(pX,pY,pZ))\n",
    "plt.plot(prange,concatenated_best_rate,'r')\n",
    "plt.plot(prange,hashing_rate,'b')"
   ],
   "metadata": {
    "collapsed": false,
    "ExecuteTime": {
     "end_time": "2023-11-30T12:49:38.636137494Z",
     "start_time": "2023-11-30T12:49:38.296168225Z"
    }
   },
   "id": "233cf2b4a86d95a3"
  },
  {
   "cell_type": "code",
   "execution_count": 49,
   "outputs": [],
   "source": [
    "def averaged_entropy(m,px,py,pz):\n",
    "    avg_entropy = 0\n",
    "    for r in range(0,m):\n",
    "        avg_entropy += binom(m-1,r)*probability_of_a_syndrome(r,m,px,py,pz)*entropy(new_channel(r,m,px,py,pz))\n",
    "    return avg_entropy/m"
   ],
   "metadata": {
    "collapsed": false,
    "ExecuteTime": {
     "end_time": "2023-11-30T12:50:58.718974481Z",
     "start_time": "2023-11-30T12:50:58.664788169Z"
    }
   },
   "id": "9df1efc10ec69f3e"
  },
  {
   "cell_type": "code",
   "execution_count": 53,
   "outputs": [
    {
     "data": {
      "text/plain": "[<matplotlib.lines.Line2D at 0x7fb4e4f23b50>]"
     },
     "execution_count": 53,
     "metadata": {},
     "output_type": "execute_result"
    },
    {
     "data": {
      "text/plain": "<Figure size 640x480 with 1 Axes>",
      "image/png": "[encoded data removed]"
     },
     "metadata": {},
     "output_type": "display_data"
    }
   ],
   "source": [
    "avg_entropy_2 = []\n",
    "avg_entropy_4 = []\n",
    "avg_entropy_8 = []\n",
    "avg_entropy_9 = []\n",
    "\n",
    "\n",
    "initial_entropy = []\n",
    "prange =np.arange(0.1,0.3,0.001)\n",
    "for p_total in prange:\n",
    "    pX,pY,pZ = distribution_gen(p_total)\n",
    "    pvec = [1-pX-pY-pZ,pX,pY,pZ]\n",
    "    initial_entropy.append(entropy(pvec))\n",
    "    avg_entropy_2.append(averaged_entropy(2,pX,pY,pZ))\n",
    "    avg_entropy_4.append(averaged_entropy(4,pX,pY,pZ))\n",
    "    avg_entropy_8.append(averaged_entropy(8,pX,pY,pZ))\n",
    "    avg_entropy_9.append(averaged_entropy(9,pX,pY,pZ))\n",
    "plt.plot(prange,avg_entropy_2,'r')\n",
    "plt.plot(prange,avg_entropy_4,'g')\n",
    "plt.plot(prange,avg_entropy_8,'y')\n",
    "plt.plot(prange,initial_entropy,'b')"
   ],
   "metadata": {
    "collapsed": false,
    "ExecuteTime": {
     "end_time": "2023-11-30T12:53:52.907355187Z",
     "start_time": "2023-11-30T12:53:52.485075010Z"
    }
   },
   "id": "9554ff18a4b7c924"
  },
  {
   "cell_type": "code",
   "execution_count": null,
   "outputs": [],
   "source": [],
   "metadata": {
    "collapsed": false
   },
   "id": "9cd135c16197bffc"
  }
 ],
 "metadata": {
  "kernelspec": {
   "display_name": "Python 3",
   "language": "python",
   "name": "python3"
  },
  "language_info": {
   "codemirror_mode": {
    "name": "ipython",
    "version": 2
   },
   "file_extension": ".py",
   "mimetype": "text/x-python",
   "name": "python",
   "nbconvert_exporter": "python",
   "pygments_lexer": "ipython2",
   "version": "2.7.6"
  }
 },
 "nbformat": 4,
 "nbformat_minor": 5
}
