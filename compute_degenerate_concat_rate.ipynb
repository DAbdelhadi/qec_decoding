{
 "cells": [
  {
   "cell_type": "code",
   "execution_count": 2,
   "id": "initial_id",
   "metadata": {
    "collapsed": true,
    "ExecuteTime": {
     "end_time": "2023-11-29T12:24:43.157044587Z",
     "start_time": "2023-11-29T12:24:42.316620306Z"
    }
   },
   "outputs": [],
   "source": [
    "import numpy as np\n",
    "from tqdm import tqdm\n",
    "from ldpc.codes import rep_code\n",
    "from bposd.hgp import hgp\n",
    "\n",
    "from surface_code_ML import *"
   ]
  },
  {
   "cell_type": "code",
   "execution_count": 6,
   "outputs": [],
   "source": [
    "# Assuming one logical qubit into lowest level code\n",
    "def entropy(p):\n",
    "    e = 0\n",
    "    for pi in p:\n",
    "        if pi !=0:\n",
    "            e =e-pi*np.log2(pi)\n",
    "    return e\n",
    "\n",
    "            \n",
    "\n",
    "def compute_rate(n,k, syndrome_dict):\n",
    "    rate=0\n",
    "    syndrome_probz = []\n",
    "    for s in (range(2**(n-k))):\n",
    "        syndrome = np.array([int(x) for x in bin(s)[2:].zfill(n-k)])\n",
    "        syndrome_string = np.array2string(syndrome)\n",
    "        p_s =  sum(syndrome_dict[syndrome_string])\n",
    "        syndrome_probz.append(p_s)\n",
    "        pmf = syndrome_dict[syndrome_string]/p_s\n",
    "        \n",
    "        e = entropy(pmf)\n",
    "        rate += p_s*(1-e)\n",
    "    print(syndrome_probz)\n",
    "    rate = rate/n\n",
    "    return rate\n",
    "\n",
    "        \n",
    "        "
   ],
   "metadata": {
    "collapsed": false,
    "ExecuteTime": {
     "end_time": "2023-11-29T12:25:02.616128738Z",
     "start_time": "2023-11-29T12:25:02.547438645Z"
    }
   },
   "id": "d12f958aed1046f8"
  },
  {
   "cell_type": "code",
   "execution_count": 8,
   "outputs": [
    {
     "name": "stdout",
     "output_type": "stream",
     "text": [
      "<Unnamed CSS code>, (2,4)-[[13,1,3]]\n",
      " -Block dimensions: Pass\n",
      " -PCMs commute hz@hx.T==0: Pass\n",
      " -PCMs commute hx@hz.T==0: Pass\n",
      " -lx \\in ker{hz} AND lz \\in ker{hx}: Pass\n",
      " -lx and lz anticommute: Pass\n",
      " -<Unnamed CSS code> is a valid CSS code w/ params (2,4)-[[13,1,3]]\n"
     ]
    },
    {
     "name": "stderr",
     "output_type": "stream",
     "text": [
      "  0%|          | 2/8192 [00:07<8:40:03,  3.81s/it] \n"
     ]
    },
    {
     "ename": "KeyboardInterrupt",
     "evalue": "",
     "output_type": "error",
     "traceback": [
      "\u001B[0;31m---------------------------------------------------------------------------\u001B[0m",
      "\u001B[0;31mKeyboardInterrupt\u001B[0m                         Traceback (most recent call last)",
      "Cell \u001B[0;32mIn[8], line 7\u001B[0m\n\u001B[1;32m      4\u001B[0m surface_code\u001B[38;5;241m.\u001B[39mtest()\n\u001B[1;32m      6\u001B[0m \u001B[38;5;28;01mfor\u001B[39;00m p \u001B[38;5;129;01min\u001B[39;00m np\u001B[38;5;241m.\u001B[39marange(\u001B[38;5;241m0.111\u001B[39m,\u001B[38;5;241m0.12\u001B[39m,\u001B[38;5;241m0.01\u001B[39m):\n\u001B[0;32m----> 7\u001B[0m     SD \u001B[38;5;241m=\u001B[39m \u001B[43msurfaceMLdecoder\u001B[49m\u001B[43m(\u001B[49m\u001B[43msurface_code\u001B[49m\u001B[38;5;241;43m.\u001B[39;49m\u001B[43mlx\u001B[49m\u001B[43m,\u001B[49m\u001B[43m \u001B[49m\u001B[43msurface_code\u001B[49m\u001B[38;5;241;43m.\u001B[39;49m\u001B[43mhx\u001B[49m\u001B[43m,\u001B[49m\u001B[43msurface_code\u001B[49m\u001B[38;5;241;43m.\u001B[39;49m\u001B[43mlz\u001B[49m\u001B[43m,\u001B[49m\u001B[43m \u001B[49m\u001B[43msurface_code\u001B[49m\u001B[38;5;241;43m.\u001B[39;49m\u001B[43mhz\u001B[49m\u001B[43m,\u001B[49m\u001B[43mp\u001B[49m\u001B[43m,\u001B[49m\u001B[38;5;241;43m0\u001B[39;49m\u001B[43m,\u001B[49m\u001B[43mp\u001B[49m\u001B[43m)\u001B[49m\n\u001B[1;32m      8\u001B[0m     Rnew\u001B[38;5;241m=\u001B[39m compute_rate(surface_code\u001B[38;5;241m.\u001B[39mN,\u001B[38;5;241m1\u001B[39m, SD\u001B[38;5;241m.\u001B[39msyndrome_dictionary)\n\u001B[1;32m      9\u001B[0m     Rhash\u001B[38;5;241m=\u001B[39m (\u001B[38;5;241m1\u001B[39m\u001B[38;5;241m-\u001B[39mentropy([\u001B[38;5;241m1\u001B[39m\u001B[38;5;241m-\u001B[39m\u001B[38;5;241m2\u001B[39m\u001B[38;5;241m*\u001B[39mp,p,\u001B[38;5;241m0\u001B[39m,p]))\n",
      "File \u001B[0;32m~/qec_decoding/surface_code_ML.py:14\u001B[0m, in \u001B[0;36msurfaceMLdecoder.__init__\u001B[0;34m(self, lx, hx, lz, hz, pX, pY, pZ)\u001B[0m\n\u001B[1;32m     12\u001B[0m \u001B[38;5;28mself\u001B[39m\u001B[38;5;241m.\u001B[39mpI \u001B[38;5;241m=\u001B[39m \u001B[38;5;241m1\u001B[39m \u001B[38;5;241m-\u001B[39m pX \u001B[38;5;241m-\u001B[39m pY \u001B[38;5;241m-\u001B[39m pZ\n\u001B[1;32m     13\u001B[0m \u001B[38;5;28mself\u001B[39m\u001B[38;5;241m.\u001B[39msyndrome_dictionary \u001B[38;5;241m=\u001B[39m {} \u001B[38;5;66;03m#key: syndrome, value: [weight I class, weight LZ class, weight LX class, weight LY class]\u001B[39;00m\n\u001B[0;32m---> 14\u001B[0m \u001B[38;5;28;43mself\u001B[39;49m\u001B[38;5;241;43m.\u001B[39;49m\u001B[43merror_loop\u001B[49m\u001B[43m(\u001B[49m\u001B[43m)\u001B[49m\n",
      "File \u001B[0;32m~/qec_decoding/surface_code_ML.py:30\u001B[0m, in \u001B[0;36msurfaceMLdecoder.error_loop\u001B[0;34m(self)\u001B[0m\n\u001B[1;32m     28\u001B[0m ham_sum \u001B[38;5;241m=\u001B[39m hamming_weight_x_errors \u001B[38;5;241m+\u001B[39m hamming_weight_z_errors \u001B[38;5;241m+\u001B[39m hamming_weight_y_errors\n\u001B[1;32m     29\u001B[0m error_probability \u001B[38;5;241m=\u001B[39m (\u001B[38;5;28mself\u001B[39m\u001B[38;5;241m.\u001B[39mpI)\u001B[38;5;241m*\u001B[39m\u001B[38;5;241m*\u001B[39m(n\u001B[38;5;241m-\u001B[39mham_sum)\u001B[38;5;241m*\u001B[39m\u001B[38;5;28mself\u001B[39m\u001B[38;5;241m.\u001B[39mpX\u001B[38;5;241m*\u001B[39m\u001B[38;5;241m*\u001B[39mhamming_weight_x_errors\u001B[38;5;241m*\u001B[39m\u001B[38;5;28mself\u001B[39m\u001B[38;5;241m.\u001B[39mpZ\u001B[38;5;241m*\u001B[39m\u001B[38;5;241m*\u001B[39mhamming_weight_z_errors\u001B[38;5;241m*\u001B[39m\u001B[38;5;28mself\u001B[39m\u001B[38;5;241m.\u001B[39mpY\u001B[38;5;241m*\u001B[39m\u001B[38;5;241m*\u001B[39mhamming_weight_y_errors\n\u001B[0;32m---> 30\u001B[0m syndrome \u001B[38;5;241m=\u001B[39m \u001B[43mnp\u001B[49m\u001B[38;5;241;43m.\u001B[39;49m\u001B[43mappend\u001B[49m\u001B[43m(\u001B[49m\u001B[43m(\u001B[49m\u001B[38;5;28;43mself\u001B[39;49m\u001B[38;5;241;43m.\u001B[39;49m\u001B[43mhz\u001B[49m\u001B[38;5;129;43m@errorx\u001B[39;49m\u001B[43m)\u001B[49m\u001B[38;5;241;43m%\u001B[39;49m\u001B[38;5;241;43m2\u001B[39;49m\u001B[43m,\u001B[49m\u001B[43m \u001B[49m\u001B[43m(\u001B[49m\u001B[38;5;28;43mself\u001B[39;49m\u001B[38;5;241;43m.\u001B[39;49m\u001B[43mhx\u001B[49m\u001B[38;5;129;43m@errorz\u001B[39;49m\u001B[43m)\u001B[49m\u001B[38;5;241;43m%\u001B[39;49m\u001B[38;5;241;43m2\u001B[39;49m\u001B[43m)\u001B[49m\n\u001B[1;32m     31\u001B[0m syndrome_string \u001B[38;5;241m=\u001B[39m np\u001B[38;5;241m.\u001B[39marray2string(syndrome)\n\u001B[1;32m     32\u001B[0m error_class_x \u001B[38;5;241m=\u001B[39m \u001B[38;5;28mint\u001B[39m((\u001B[38;5;28mself\u001B[39m\u001B[38;5;241m.\u001B[39mlz[\u001B[38;5;241m0\u001B[39m]\u001B[38;5;129m@errorx\u001B[39m)\u001B[38;5;241m%\u001B[39m\u001B[38;5;241m2\u001B[39m)\n",
      "File \u001B[0;32m~/anaconda3/envs/qec_decoding/lib/python3.11/site-packages/numpy/lib/function_base.py:5617\u001B[0m, in \u001B[0;36mappend\u001B[0;34m(arr, values, axis)\u001B[0m\n\u001B[1;32m   5615\u001B[0m     values \u001B[38;5;241m=\u001B[39m ravel(values)\n\u001B[1;32m   5616\u001B[0m     axis \u001B[38;5;241m=\u001B[39m arr\u001B[38;5;241m.\u001B[39mndim\u001B[38;5;241m-\u001B[39m\u001B[38;5;241m1\u001B[39m\n\u001B[0;32m-> 5617\u001B[0m \u001B[38;5;28;01mreturn\u001B[39;00m \u001B[43mconcatenate\u001B[49m\u001B[43m(\u001B[49m\u001B[43m(\u001B[49m\u001B[43marr\u001B[49m\u001B[43m,\u001B[49m\u001B[43m \u001B[49m\u001B[43mvalues\u001B[49m\u001B[43m)\u001B[49m\u001B[43m,\u001B[49m\u001B[43m \u001B[49m\u001B[43maxis\u001B[49m\u001B[38;5;241;43m=\u001B[39;49m\u001B[43maxis\u001B[49m\u001B[43m)\u001B[49m\n",
      "\u001B[0;31mKeyboardInterrupt\u001B[0m: "
     ]
    }
   ],
   "source": [
    "\n",
    "h=rep_code(3)\n",
    "h2=rep_code(3)\n",
    "surface_code=hgp(h1=h,h2=h2,compute_distance=True) #nb. set compute_distance=False for larger codes\n",
    "surface_code.test()\n",
    "\n",
    "for p in np.arange(0.111,0.12,0.01):\n",
    "    SD = surfaceMLdecoder(surface_code.lx, surface_code.hx,surface_code.lz, surface_code.hz,p,0,p)\n",
    "    Rnew= compute_rate(surface_code.N,1, SD.syndrome_dictionary)\n",
    "    Rhash= (1-entropy([1-2*p,p,0,p]))\n",
    "    print(\"p=\",p)\n",
    "    print(\"Rhash=\",Rhash)\n",
    "    print(\"Rnew=\",Rnew)\n",
    "    "
   ],
   "metadata": {
    "collapsed": false,
    "ExecuteTime": {
     "end_time": "2023-11-29T12:25:32.459032092Z",
     "start_time": "2023-11-29T12:25:23.619232508Z"
    }
   },
   "id": "644d41e07ce845ef"
  },
  {
   "cell_type": "code",
   "execution_count": 5,
   "outputs": [
    {
     "data": {
      "text/plain": "0.007949891329932575"
     },
     "execution_count": 5,
     "metadata": {},
     "output_type": "execute_result"
    }
   ],
   "source": [
    "Rnew"
   ],
   "metadata": {
    "collapsed": false,
    "ExecuteTime": {
     "end_time": "2023-11-28T15:46:46.456527874Z",
     "start_time": "2023-11-28T15:46:46.400488385Z"
    }
   },
   "id": "9658b5838e01973a"
  },
  {
   "cell_type": "code",
   "execution_count": 14,
   "outputs": [
    {
     "name": "stderr",
     "output_type": "stream",
     "text": [
      "100%|██████████| 16/16 [00:00<00:00, 6678.83it/s]\n"
     ]
    },
    {
     "data": {
      "text/plain": "0.03827782019956926"
     },
     "execution_count": 14,
     "metadata": {},
     "output_type": "execute_result"
    }
   ],
   "source": [
    "compute_rate(5,1, SD.syndrome_dictionary)"
   ],
   "metadata": {
    "collapsed": false,
    "ExecuteTime": {
     "end_time": "2023-11-24T15:02:42.726975005Z",
     "start_time": "2023-11-24T15:02:42.671152930Z"
    }
   },
   "id": "9be7b2c8f1f88fb7"
  }
 ],
 "metadata": {
  "kernelspec": {
   "display_name": "Python 3",
   "language": "python",
   "name": "python3"
  },
  "language_info": {
   "codemirror_mode": {
    "name": "ipython",
    "version": 2
   },
   "file_extension": ".py",
   "mimetype": "text/x-python",
   "name": "python",
   "nbconvert_exporter": "python",
   "pygments_lexer": "ipython2",
   "version": "2.7.6"
  }
 },
 "nbformat": 4,
 "nbformat_minor": 5
}
