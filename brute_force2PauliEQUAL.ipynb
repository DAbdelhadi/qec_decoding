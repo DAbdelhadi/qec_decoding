{
 "cells": [
  {
   "cell_type": "code",
   "execution_count": 4,
   "id": "initial_id",
   "metadata": {
    "collapsed": true,
    "ExecuteTime": {
     "end_time": "2023-11-29T15:23:11.359200442Z",
     "start_time": "2023-11-29T15:23:09.601584298Z"
    }
   },
   "outputs": [],
   "source": [
    "import numpy as np\n",
    "from tqdm import tqdm\n",
    "import sympy as sp\n",
    "import matplotlib.pyplot as plt\n",
    "from ldpc.codes import rep_code\n",
    "from bposd.hgp import hgp,css_code\n",
    "import itertools\n",
    "from qecsim.models.rotatedplanar import RotatedPlanarCode\n",
    "\n",
    "\n",
    "\n",
    "\n",
    "class brute_calculator:\n",
    "    def __init__(self, lx, hx, lz, hz):\n",
    "        self.lz = lz\n",
    "        self.hz = hz\n",
    "        self.lx = lx\n",
    "        self.hx = hx\n",
    "        self.syndrome_dictionary = {} #key: syndrome, value: [weight I class, weight LZ class, weight LX class, weight LY class]\n",
    "        self.error_loop()\n",
    "        \n",
    "    def error_loop(self):\n",
    "        n = len(self.lz[0])\n",
    "        #loop over all errors\n",
    "        l = [0,1,2]\n",
    "        for i in tqdm(itertools.product(*([l] * n))):\n",
    "            err = np.array(i)\n",
    "            errorx = np.array([int(ei%2) for ei in err])\n",
    "            errorz = np.array([int(ei/2) for ei in err])\n",
    "            hamming_weight_x_errors = np.sum(errorx)\n",
    "            hamming_weight_z_errors = np.sum(errorz)\n",
    "            syndrome = np.append((self.hz@errorx)%2, (self.hx@errorz)%2)\n",
    "            syndrome_string = np.array2string(syndrome)\n",
    "            error_class_x = int((self.lz[0]@errorx)%2)\n",
    "            error_class_z = int((self.lx[0]@errorz)%2)\n",
    "            error_class = error_class_x*2+ error_class_z\n",
    "            if syndrome_string in self.syndrome_dictionary:\n",
    "                self.syndrome_dictionary[syndrome_string][error_class][hamming_weight_x_errors+hamming_weight_z_errors] += 1\n",
    "\n",
    "            else:\n",
    "                self.syndrome_dictionary[syndrome_string] = [np.zeros(n+1),np.zeros(n+1),np.zeros(n+1),np.zeros(n+1)]\n",
    "                self.syndrome_dictionary[syndrome_string][error_class][hamming_weight_x_errors+hamming_weight_z_errors] += 1\n",
    "    \n"
   ]
  },
  {
   "cell_type": "code",
   "execution_count": 5,
   "outputs": [],
   "source": [
    "def entropy(p):\n",
    "    e = 0\n",
    "    for pi in p:\n",
    "        if pi !=0:\n",
    "            e =e-pi*np.log2(pi)\n",
    "    return e\n",
    "\n",
    "def rate(p):\n",
    "    return 1-entropy(p)\n",
    "\n",
    "def compute_rate(n,k, syndrome_dict, p):\n",
    "    rate_output=0\n",
    "    check_sum = 0\n",
    "    for s in range(2**(n-k)):\n",
    "        syndrome = np.array([int(x) for x in bin(s)[2:].zfill(n-k)])\n",
    "        syndrome_string = np.array2string(syndrome)\n",
    "        #if(syndrome_string not in syndrome_dict):\n",
    "        #    break\n",
    "        prob_dist =[]\n",
    "        for logical_class in syndrome_dict[syndrome_string]:\n",
    "            p_logical_class = 0\n",
    "            for w in range(n+1):\n",
    "                p_logical_class += logical_class[w]*(1-2*p)**(n-w)*p**w\n",
    "                check_sum+=logical_class[w]\n",
    "            prob_dist.append(p_logical_class)\n",
    "        p_s =  float(sum(prob_dist))\n",
    "        pmf = [float(p_l/p_s) for p_l in prob_dist]\n",
    "        #rate += max(p_s*(1-e),0)\n",
    "        rate_output += p_s*rate(pmf)\n",
    "\n",
    "    rate_output = rate_output/n\n",
    "    return rate_output\n"
   ],
   "metadata": {
    "collapsed": false,
    "ExecuteTime": {
     "end_time": "2023-11-29T15:23:12.359891565Z",
     "start_time": "2023-11-29T15:23:12.344337391Z"
    }
   },
   "id": "92244cf1ff2a3fe6"
  },
  {
   "cell_type": "markdown",
   "source": [],
   "metadata": {
    "collapsed": false
   },
   "id": "8a48abd3168c3230"
  },
  {
   "cell_type": "code",
   "execution_count": 138,
   "outputs": [
    {
     "name": "stdout",
     "output_type": "stream",
     "text": [
      "<Unnamed CSS code>, (2,4)-[[18,1,3]]\n",
      " -Block dimensions: Pass\n",
      " -PCMs commute hz@hx.T==0: Pass\n",
      " -PCMs commute hx@hz.T==0: Pass\n",
      " -lx \\in ker{hz} AND lz \\in ker{hx}: Pass\n",
      " -lx and lz anticommute: Pass\n",
      " -<Unnamed CSS code> is a valid CSS code w/ params (2,4)-[[18,1,3]]\n"
     ]
    },
    {
     "name": "stderr",
     "output_type": "stream",
     "text": [
      "305215it [00:42, 7261.46it/s]\n"
     ]
    },
    {
     "ename": "KeyboardInterrupt",
     "evalue": "",
     "output_type": "error",
     "traceback": [
      "\u001B[0;31m---------------------------------------------------------------------------\u001B[0m",
      "\u001B[0;31mKeyboardInterrupt\u001B[0m                         Traceback (most recent call last)",
      "Cell \u001B[0;32mIn[138], line 5\u001B[0m\n\u001B[1;32m      3\u001B[0m surface_code\u001B[38;5;241m=\u001B[39mhgp(h1\u001B[38;5;241m=\u001B[39mh,h2\u001B[38;5;241m=\u001B[39mh2,compute_distance\u001B[38;5;241m=\u001B[39m\u001B[38;5;28;01mTrue\u001B[39;00m) \u001B[38;5;66;03m#nb. set compute_distance=False for larger codes\u001B[39;00m\n\u001B[1;32m      4\u001B[0m surface_code\u001B[38;5;241m.\u001B[39mtest()\n\u001B[0;32m----> 5\u001B[0m SD \u001B[38;5;241m=\u001B[39m  \u001B[43mbrute_calculator\u001B[49m\u001B[43m(\u001B[49m\u001B[43msurface_code\u001B[49m\u001B[38;5;241;43m.\u001B[39;49m\u001B[43mlx\u001B[49m\u001B[43m,\u001B[49m\u001B[43m \u001B[49m\u001B[43msurface_code\u001B[49m\u001B[38;5;241;43m.\u001B[39;49m\u001B[43mhx\u001B[49m\u001B[43m,\u001B[49m\u001B[43m \u001B[49m\u001B[43msurface_code\u001B[49m\u001B[38;5;241;43m.\u001B[39;49m\u001B[43mlz\u001B[49m\u001B[43m,\u001B[49m\u001B[43m \u001B[49m\u001B[43msurface_code\u001B[49m\u001B[38;5;241;43m.\u001B[39;49m\u001B[43mhz\u001B[49m\u001B[43m)\u001B[49m\u001B[38;5;241m.\u001B[39msyndrome_dictionary\n",
      "Cell \u001B[0;32mIn[136], line 18\u001B[0m, in \u001B[0;36mbrute_calculator.__init__\u001B[0;34m(self, lx, hx, lz, hz)\u001B[0m\n\u001B[1;32m     16\u001B[0m \u001B[38;5;28mself\u001B[39m\u001B[38;5;241m.\u001B[39mhx \u001B[38;5;241m=\u001B[39m hx\n\u001B[1;32m     17\u001B[0m \u001B[38;5;28mself\u001B[39m\u001B[38;5;241m.\u001B[39msyndrome_dictionary \u001B[38;5;241m=\u001B[39m {} \u001B[38;5;66;03m#key: syndrome, value: [weight I class, weight LZ class, weight LX class, weight LY class]\u001B[39;00m\n\u001B[0;32m---> 18\u001B[0m \u001B[38;5;28;43mself\u001B[39;49m\u001B[38;5;241;43m.\u001B[39;49m\u001B[43merror_loop\u001B[49m\u001B[43m(\u001B[49m\u001B[43m)\u001B[49m\n",
      "Cell \u001B[0;32mIn[136], line 32\u001B[0m, in \u001B[0;36mbrute_calculator.error_loop\u001B[0;34m(self)\u001B[0m\n\u001B[1;32m     30\u001B[0m syndrome \u001B[38;5;241m=\u001B[39m []\n\u001B[1;32m     31\u001B[0m syndrome \u001B[38;5;241m=\u001B[39m np\u001B[38;5;241m.\u001B[39mappend((\u001B[38;5;28mself\u001B[39m\u001B[38;5;241m.\u001B[39mhz\u001B[38;5;129m@errorx\u001B[39m)\u001B[38;5;241m%\u001B[39m\u001B[38;5;241m2\u001B[39m, (\u001B[38;5;28mself\u001B[39m\u001B[38;5;241m.\u001B[39mhx\u001B[38;5;129m@errorz\u001B[39m)\u001B[38;5;241m%\u001B[39m\u001B[38;5;241m2\u001B[39m)\n\u001B[0;32m---> 32\u001B[0m syndrome_string \u001B[38;5;241m=\u001B[39m \u001B[43mnp\u001B[49m\u001B[38;5;241;43m.\u001B[39;49m\u001B[43marray2string\u001B[49m\u001B[43m(\u001B[49m\u001B[43msyndrome\u001B[49m\u001B[43m)\u001B[49m\n\u001B[1;32m     33\u001B[0m error_class_x \u001B[38;5;241m=\u001B[39m \u001B[38;5;28mint\u001B[39m((\u001B[38;5;28mself\u001B[39m\u001B[38;5;241m.\u001B[39mlz[\u001B[38;5;241m0\u001B[39m]\u001B[38;5;129m@errorx\u001B[39m)\u001B[38;5;241m%\u001B[39m\u001B[38;5;241m2\u001B[39m)\n\u001B[1;32m     34\u001B[0m error_class_z \u001B[38;5;241m=\u001B[39m \u001B[38;5;28mint\u001B[39m((\u001B[38;5;28mself\u001B[39m\u001B[38;5;241m.\u001B[39mlx[\u001B[38;5;241m0\u001B[39m]\u001B[38;5;129m@errorz\u001B[39m)\u001B[38;5;241m%\u001B[39m\u001B[38;5;241m2\u001B[39m)\n",
      "File \u001B[0;32m~/anaconda3/envs/qec_decoding/lib/python3.11/site-packages/numpy/core/arrayprint.py:736\u001B[0m, in \u001B[0;36marray2string\u001B[0;34m(a, max_line_width, precision, suppress_small, separator, prefix, style, formatter, threshold, edgeitems, sign, floatmode, suffix, legacy)\u001B[0m\n\u001B[1;32m    733\u001B[0m \u001B[38;5;28;01mif\u001B[39;00m a\u001B[38;5;241m.\u001B[39msize \u001B[38;5;241m==\u001B[39m \u001B[38;5;241m0\u001B[39m:\n\u001B[1;32m    734\u001B[0m     \u001B[38;5;28;01mreturn\u001B[39;00m \u001B[38;5;124m\"\u001B[39m\u001B[38;5;124m[]\u001B[39m\u001B[38;5;124m\"\u001B[39m\n\u001B[0;32m--> 736\u001B[0m \u001B[38;5;28;01mreturn\u001B[39;00m \u001B[43m_array2string\u001B[49m\u001B[43m(\u001B[49m\u001B[43ma\u001B[49m\u001B[43m,\u001B[49m\u001B[43m \u001B[49m\u001B[43moptions\u001B[49m\u001B[43m,\u001B[49m\u001B[43m \u001B[49m\u001B[43mseparator\u001B[49m\u001B[43m,\u001B[49m\u001B[43m \u001B[49m\u001B[43mprefix\u001B[49m\u001B[43m)\u001B[49m\n",
      "File \u001B[0;32m~/anaconda3/envs/qec_decoding/lib/python3.11/site-packages/numpy/core/arrayprint.py:513\u001B[0m, in \u001B[0;36m_recursive_guard.<locals>.decorating_function.<locals>.wrapper\u001B[0;34m(self, *args, **kwargs)\u001B[0m\n\u001B[1;32m    511\u001B[0m repr_running\u001B[38;5;241m.\u001B[39madd(key)\n\u001B[1;32m    512\u001B[0m \u001B[38;5;28;01mtry\u001B[39;00m:\n\u001B[0;32m--> 513\u001B[0m     \u001B[38;5;28;01mreturn\u001B[39;00m \u001B[43mf\u001B[49m\u001B[43m(\u001B[49m\u001B[38;5;28;43mself\u001B[39;49m\u001B[43m,\u001B[49m\u001B[43m \u001B[49m\u001B[38;5;241;43m*\u001B[39;49m\u001B[43margs\u001B[49m\u001B[43m,\u001B[49m\u001B[43m \u001B[49m\u001B[38;5;241;43m*\u001B[39;49m\u001B[38;5;241;43m*\u001B[39;49m\u001B[43mkwargs\u001B[49m\u001B[43m)\u001B[49m\n\u001B[1;32m    514\u001B[0m \u001B[38;5;28;01mfinally\u001B[39;00m:\n\u001B[1;32m    515\u001B[0m     repr_running\u001B[38;5;241m.\u001B[39mdiscard(key)\n",
      "File \u001B[0;32m~/anaconda3/envs/qec_decoding/lib/python3.11/site-packages/numpy/core/arrayprint.py:546\u001B[0m, in \u001B[0;36m_array2string\u001B[0;34m(a, options, separator, prefix)\u001B[0m\n\u001B[1;32m    543\u001B[0m \u001B[38;5;66;03m# skip over array(\u001B[39;00m\n\u001B[1;32m    544\u001B[0m next_line_prefix \u001B[38;5;241m+\u001B[39m\u001B[38;5;241m=\u001B[39m \u001B[38;5;124m\"\u001B[39m\u001B[38;5;124m \u001B[39m\u001B[38;5;124m\"\u001B[39m\u001B[38;5;241m*\u001B[39m\u001B[38;5;28mlen\u001B[39m(prefix)\n\u001B[0;32m--> 546\u001B[0m lst \u001B[38;5;241m=\u001B[39m \u001B[43m_formatArray\u001B[49m\u001B[43m(\u001B[49m\u001B[43ma\u001B[49m\u001B[43m,\u001B[49m\u001B[43m \u001B[49m\u001B[43mformat_function\u001B[49m\u001B[43m,\u001B[49m\u001B[43m \u001B[49m\u001B[43moptions\u001B[49m\u001B[43m[\u001B[49m\u001B[38;5;124;43m'\u001B[39;49m\u001B[38;5;124;43mlinewidth\u001B[39;49m\u001B[38;5;124;43m'\u001B[39;49m\u001B[43m]\u001B[49m\u001B[43m,\u001B[49m\n\u001B[1;32m    547\u001B[0m \u001B[43m                   \u001B[49m\u001B[43mnext_line_prefix\u001B[49m\u001B[43m,\u001B[49m\u001B[43m \u001B[49m\u001B[43mseparator\u001B[49m\u001B[43m,\u001B[49m\u001B[43m \u001B[49m\u001B[43moptions\u001B[49m\u001B[43m[\u001B[49m\u001B[38;5;124;43m'\u001B[39;49m\u001B[38;5;124;43medgeitems\u001B[39;49m\u001B[38;5;124;43m'\u001B[39;49m\u001B[43m]\u001B[49m\u001B[43m,\u001B[49m\n\u001B[1;32m    548\u001B[0m \u001B[43m                   \u001B[49m\u001B[43msummary_insert\u001B[49m\u001B[43m,\u001B[49m\u001B[43m \u001B[49m\u001B[43moptions\u001B[49m\u001B[43m[\u001B[49m\u001B[38;5;124;43m'\u001B[39;49m\u001B[38;5;124;43mlegacy\u001B[39;49m\u001B[38;5;124;43m'\u001B[39;49m\u001B[43m]\u001B[49m\u001B[43m)\u001B[49m\n\u001B[1;32m    549\u001B[0m \u001B[38;5;28;01mreturn\u001B[39;00m lst\n",
      "File \u001B[0;32m~/anaconda3/envs/qec_decoding/lib/python3.11/site-packages/numpy/core/arrayprint.py:889\u001B[0m, in \u001B[0;36m_formatArray\u001B[0;34m(a, format_function, line_width, next_line_prefix, separator, edge_items, summary_insert, legacy)\u001B[0m\n\u001B[1;32m    885\u001B[0m     \u001B[38;5;28;01mreturn\u001B[39;00m s\n\u001B[1;32m    887\u001B[0m \u001B[38;5;28;01mtry\u001B[39;00m:\n\u001B[1;32m    888\u001B[0m     \u001B[38;5;66;03m# invoke the recursive part with an initial index and prefix\u001B[39;00m\n\u001B[0;32m--> 889\u001B[0m     \u001B[38;5;28;01mreturn\u001B[39;00m \u001B[43mrecurser\u001B[49m\u001B[43m(\u001B[49m\u001B[43mindex\u001B[49m\u001B[38;5;241;43m=\u001B[39;49m\u001B[43m(\u001B[49m\u001B[43m)\u001B[49m\u001B[43m,\u001B[49m\n\u001B[1;32m    890\u001B[0m \u001B[43m                    \u001B[49m\u001B[43mhanging_indent\u001B[49m\u001B[38;5;241;43m=\u001B[39;49m\u001B[43mnext_line_prefix\u001B[49m\u001B[43m,\u001B[49m\n\u001B[1;32m    891\u001B[0m \u001B[43m                    \u001B[49m\u001B[43mcurr_width\u001B[49m\u001B[38;5;241;43m=\u001B[39;49m\u001B[43mline_width\u001B[49m\u001B[43m)\u001B[49m\n\u001B[1;32m    892\u001B[0m \u001B[38;5;28;01mfinally\u001B[39;00m:\n\u001B[1;32m    893\u001B[0m     \u001B[38;5;66;03m# recursive closures have a cyclic reference to themselves, which\u001B[39;00m\n\u001B[1;32m    894\u001B[0m     \u001B[38;5;66;03m# requires gc to collect (gh-10620). To avoid this problem, for\u001B[39;00m\n\u001B[1;32m    895\u001B[0m     \u001B[38;5;66;03m# performance and PyPy friendliness, we break the cycle:\u001B[39;00m\n\u001B[1;32m    896\u001B[0m     recurser \u001B[38;5;241m=\u001B[39m \u001B[38;5;28;01mNone\u001B[39;00m\n",
      "File \u001B[0;32m~/anaconda3/envs/qec_decoding/lib/python3.11/site-packages/numpy/core/arrayprint.py:848\u001B[0m, in \u001B[0;36m_formatArray.<locals>.recurser\u001B[0;34m(index, hanging_indent, curr_width)\u001B[0m\n\u001B[1;32m    845\u001B[0m     word \u001B[38;5;241m=\u001B[39m recurser(index \u001B[38;5;241m+\u001B[39m (\u001B[38;5;241m-\u001B[39mi,), next_hanging_indent, next_width)\n\u001B[1;32m    846\u001B[0m     s, line \u001B[38;5;241m=\u001B[39m _extendLine_pretty(\n\u001B[1;32m    847\u001B[0m         s, line, word, elem_width, hanging_indent, legacy)\n\u001B[0;32m--> 848\u001B[0m     line \u001B[38;5;241m+\u001B[39m\u001B[38;5;241m=\u001B[39m separator\n\u001B[1;32m    850\u001B[0m \u001B[38;5;28;01mif\u001B[39;00m legacy \u001B[38;5;241m<\u001B[39m\u001B[38;5;241m=\u001B[39m \u001B[38;5;241m113\u001B[39m:\n\u001B[1;32m    851\u001B[0m     \u001B[38;5;66;03m# width of the separator is not considered on 1.13\u001B[39;00m\n\u001B[1;32m    852\u001B[0m     elem_width \u001B[38;5;241m=\u001B[39m curr_width\n",
      "\u001B[0;31mKeyboardInterrupt\u001B[0m: "
     ]
    }
   ],
   "source": [
    "h=rep_code(3)\n",
    "h2=rep_code(4)\n",
    "surface_code=hgp(h1=h,h2=h2,compute_distance=True) #nb. set compute_distance=False for larger codes\n",
    "surface_code.test()\n",
    "SD =  brute_calculator(surface_code.lx, surface_code.hx, surface_code.lz, surface_code.hz).syndrome_dictionary\n",
    "\n",
    "\n",
    "\n"
   ],
   "metadata": {
    "collapsed": false,
    "ExecuteTime": {
     "end_time": "2023-11-29T08:30:46.977697758Z",
     "start_time": "2023-11-29T08:30:04.822365796Z"
    }
   },
   "id": "2f627b1cd3a776d5"
  },
  {
   "cell_type": "code",
   "execution_count": 160,
   "outputs": [
    {
     "name": "stdout",
     "output_type": "stream",
     "text": [
      "<Unnamed CSS code>, (2,4)-[[16,1,nan]]\n",
      " -Block dimensions: Pass\n",
      " -PCMs commute hz@hx.T==0: Pass\n",
      " -PCMs commute hx@hz.T==0: Pass\n",
      " -lx \\in ker{hz} AND lz \\in ker{hx}: Pass\n",
      " -lx and lz anticommute: Pass\n",
      " -<Unnamed CSS code> is a valid CSS code w/ params (2,4)-[[16,1,nan]]\n"
     ]
    },
    {
     "data": {
      "text/plain": "True"
     },
     "execution_count": 160,
     "metadata": {},
     "output_type": "execute_result"
    }
   ],
   "source": [
    "d1 = 4\n",
    "d2 = 4\n",
    "code = RotatedPlanarCode(d1,d2)\n",
    "n,k,d = code.n_k_d\n",
    "stabs = code.stabilizers\n",
    "r,c = stabs.shape\n",
    "Hx = stabs[0:int(r/2),int(c/2):c]\n",
    "Hz = stabs[int(r/2):r,0:int(c/2)]\n",
    "\n",
    "rotated_code=css_code(hx=Hx,hz=Hz) #\n",
    "rotated_code.test()"
   ],
   "metadata": {
    "collapsed": false,
    "ExecuteTime": {
     "end_time": "2023-11-29T08:50:21.451862716Z",
     "start_time": "2023-11-29T08:50:21.407054741Z"
    }
   },
   "id": "888f5cc04dbc5a2"
  },
  {
   "cell_type": "code",
   "execution_count": 161,
   "outputs": [
    {
     "name": "stderr",
     "output_type": "stream",
     "text": [
      "43046721it [1:32:22, 7767.09it/s]\n"
     ]
    }
   ],
   "source": [
    "SD_R =  brute_calculator(rotated_code.lx, rotated_code.hx, rotated_code.lz, rotated_code.hz).syndrome_dictionary\n"
   ],
   "metadata": {
    "collapsed": false,
    "ExecuteTime": {
     "end_time": "2023-11-29T10:22:47.007457336Z",
     "start_time": "2023-11-29T08:50:24.715066646Z"
    }
   },
   "id": "ca48d9c41d89c0b9"
  },
  {
   "cell_type": "code",
   "execution_count": 162,
   "outputs": [
    {
     "name": "stdout",
     "output_type": "stream",
     "text": [
      "p= 0.01\n",
      "Rhash= 0.8385594574581794\n",
      "Rnew= 0.06174672605637942\n",
      "p= 0.02\n",
      "Rhash= 0.7177078109175852\n",
      "Rnew= 0.059470337520371855\n",
      "p= 0.03\n",
      "Rhash= 0.6125550808455238\n",
      "Rnew= 0.05577876687535158\n",
      "p= 0.04\n",
      "Rhash= 0.5178208097977272\n",
      "Rnew= 0.050863224883646176\n",
      "p= 0.05\n",
      "Rhash= 0.4310044064107188\n",
      "Rnew= 0.04494942014565282\n",
      "p= 0.060000000000000005\n",
      "Rhash= 0.35063913471263564\n",
      "Rnew= 0.038272457525650096\n",
      "p= 0.06999999999999999\n",
      "Rhash= 0.27576118835714414\n",
      "Rnew= 0.031061405774015362\n",
      "p= 0.08\n",
      "Rhash= 0.20569044535943393\n",
      "Rnew= 0.02352945338486452\n",
      "p= 0.09\n",
      "Rhash= 0.1399229542717203\n",
      "Rnew= 0.015867817367874796\n",
      "p= 0.09999999999999999\n",
      "Rhash= 0.07807190511263773\n",
      "Rnew= 0.008242362097515405\n",
      "p= 0.11\n",
      "Rhash= 0.019832497038034358\n",
      "Rnew= 0.000792231308891973\n",
      "p= 0.12\n",
      "Rhash= -0.035040279384522144\n",
      "Rnew= -0.006370025856486141\n",
      "p= 0.13\n",
      "Rhash= -0.08674637249261785\n",
      "Rnew= -0.013157245535297221\n",
      "p= 0.14\n",
      "Rhash= -0.13545081056013086\n",
      "Rnew= -0.019505689327387155\n"
     ]
    },
    {
     "ename": "KeyboardInterrupt",
     "evalue": "",
     "output_type": "error",
     "traceback": [
      "\u001B[0;31m---------------------------------------------------------------------------\u001B[0m",
      "\u001B[0;31mKeyboardInterrupt\u001B[0m                         Traceback (most recent call last)",
      "Cell \u001B[0;32mIn[162], line 2\u001B[0m\n\u001B[1;32m      1\u001B[0m \u001B[38;5;28;01mfor\u001B[39;00m p \u001B[38;5;129;01min\u001B[39;00m np\u001B[38;5;241m.\u001B[39marange(\u001B[38;5;241m0.01\u001B[39m, \u001B[38;5;241m0.3\u001B[39m, \u001B[38;5;241m0.01\u001B[39m):\n\u001B[0;32m----> 2\u001B[0m     Rnew \u001B[38;5;241m=\u001B[39m \u001B[43mcompute_rate\u001B[49m\u001B[43m(\u001B[49m\u001B[43mrotated_code\u001B[49m\u001B[38;5;241;43m.\u001B[39;49m\u001B[43mN\u001B[49m\u001B[43m,\u001B[49m\u001B[43m \u001B[49m\u001B[38;5;241;43m1\u001B[39;49m\u001B[43m,\u001B[49m\u001B[43m \u001B[49m\u001B[43mSD_R\u001B[49m\u001B[43m,\u001B[49m\u001B[43m \u001B[49m\u001B[43mp\u001B[49m\u001B[43m)\u001B[49m\n\u001B[1;32m      3\u001B[0m     Rhash \u001B[38;5;241m=\u001B[39m (\u001B[38;5;241m1\u001B[39m \u001B[38;5;241m-\u001B[39m entropy([\u001B[38;5;241m1\u001B[39m \u001B[38;5;241m-\u001B[39m \u001B[38;5;241m2\u001B[39m \u001B[38;5;241m*\u001B[39m p, p, \u001B[38;5;241m0\u001B[39m, p]))\n\u001B[1;32m      4\u001B[0m     \u001B[38;5;28mprint\u001B[39m(\u001B[38;5;124m\"\u001B[39m\u001B[38;5;124mp=\u001B[39m\u001B[38;5;124m\"\u001B[39m, p)\n",
      "Cell \u001B[0;32mIn[150], line 24\u001B[0m, in \u001B[0;36mcompute_rate\u001B[0;34m(n, k, syndrome_dict, p)\u001B[0m\n\u001B[1;32m     22\u001B[0m     \u001B[38;5;28;01mfor\u001B[39;00m w \u001B[38;5;129;01min\u001B[39;00m \u001B[38;5;28mrange\u001B[39m(n\u001B[38;5;241m+\u001B[39m\u001B[38;5;241m1\u001B[39m):\n\u001B[1;32m     23\u001B[0m         p_logical_class \u001B[38;5;241m+\u001B[39m\u001B[38;5;241m=\u001B[39m logical_class[w]\u001B[38;5;241m*\u001B[39m(\u001B[38;5;241m1\u001B[39m\u001B[38;5;241m-\u001B[39m\u001B[38;5;241m2\u001B[39m\u001B[38;5;241m*\u001B[39mp)\u001B[38;5;241m*\u001B[39m\u001B[38;5;241m*\u001B[39m(n\u001B[38;5;241m-\u001B[39mw)\u001B[38;5;241m*\u001B[39mp\u001B[38;5;241m*\u001B[39m\u001B[38;5;241m*\u001B[39mw\n\u001B[0;32m---> 24\u001B[0m         check_sum\u001B[38;5;241m+\u001B[39m\u001B[38;5;241m=\u001B[39mlogical_class[w]\n\u001B[1;32m     25\u001B[0m     prob_dist\u001B[38;5;241m.\u001B[39mappend(p_logical_class)\n\u001B[1;32m     26\u001B[0m p_s \u001B[38;5;241m=\u001B[39m  \u001B[38;5;28mfloat\u001B[39m(\u001B[38;5;28msum\u001B[39m(prob_dist))\n",
      "\u001B[0;31mKeyboardInterrupt\u001B[0m: "
     ]
    }
   ],
   "source": [
    "\n",
    "for p in np.arange(0.01, 0.3, 0.01):\n",
    "    Rnew = compute_rate(rotated_code.N, 1, SD_R, p)\n",
    "    Rhash = (1 - entropy([1 - 2 * p, p, 0, p]))\n",
    "    print(\"p=\", p)\n",
    "    print(\"Rhash=\", Rhash)\n",
    "    print(\"Rnew=\", Rnew)"
   ],
   "metadata": {
    "collapsed": false,
    "ExecuteTime": {
     "end_time": "2023-11-29T10:35:36.686296698Z",
     "start_time": "2023-11-29T10:34:34.324950114Z"
    }
   },
   "id": "e6adbbf5cae6a638"
  },
  {
   "cell_type": "code",
   "execution_count": 134,
   "outputs": [
    {
     "name": "stdout",
     "output_type": "stream",
     "text": [
      "p= 0.01\n",
      "Rhash= 0.8385594574581794\n",
      "Rnew= 0.18293185925000188\n",
      "p= 0.02\n",
      "Rhash= 0.7177078109175852\n",
      "Rnew= 0.1647273328791772\n",
      "p= 0.03\n",
      "Rhash= 0.6125550808455238\n",
      "Rnew= 0.1459658006642225\n",
      "p= 0.04\n",
      "Rhash= 0.5178208097977272\n",
      "Rnew= 0.12695725838361255\n",
      "p= 0.05\n",
      "Rhash= 0.4310044064107188\n",
      "Rnew= 0.10791596828047237\n",
      "p= 0.060000000000000005\n",
      "Rhash= 0.35063913471263564\n",
      "Rnew= 0.08900425393635071\n",
      "p= 0.06999999999999999\n",
      "Rhash= 0.27576118835714414\n",
      "Rnew= 0.07035127386609898\n",
      "p= 0.08\n",
      "Rhash= 0.20569044535943393\n",
      "Rnew= 0.05206283178953056\n",
      "p= 0.09\n",
      "Rhash= 0.1399229542717203\n",
      "Rnew= 0.03422709532720224\n",
      "p= 0.09999999999999999\n",
      "Rhash= 0.07807190511263773\n",
      "Rnew= 0.016918158722596388\n",
      "p= 0.11\n",
      "Rhash= 0.019832497038034358\n",
      "Rnew= 0.00019835650698489857\n",
      "p= 0.12\n",
      "Rhash= -0.035040279384522144\n",
      "Rnew= -0.01588019371325115\n",
      "p= 0.13\n",
      "Rhash= -0.08674637249261785\n",
      "Rnew= -0.03127454202532657\n",
      "p= 0.14\n",
      "Rhash= -0.13545081056013086\n",
      "Rnew= -0.045950175452778075\n",
      "p= 0.15000000000000002\n",
      "Rhash= -0.18129089923069275\n",
      "Rnew= -0.059880486011358626\n",
      "p= 0.16\n",
      "Rhash= -0.22438145772449403\n",
      "Rnew= -0.07304634980533947\n",
      "p= 0.17\n",
      "Rhash= -0.2648187049730302\n",
      "Rnew= -0.08543574935855419\n",
      "p= 0.18000000000000002\n",
      "Rhash= -0.3026831892554924\n",
      "Rnew= -0.09704338580586025\n",
      "p= 0.19\n",
      "Rhash= -0.33804202222629964\n",
      "Rnew= -0.10787024023952412\n",
      "p= 0.2\n",
      "Rhash= -0.3709505944546687\n",
      "Rnew= -0.1179230566031791\n",
      "p= 0.21000000000000002\n",
      "Rhash= -0.4014538950336537\n",
      "Rnew= -0.12721373297219893\n",
      "p= 0.22\n",
      "Rhash= -0.42958752122205546\n",
      "Rnew= -0.1357586234670411\n",
      "p= 0.23\n",
      "Rhash= -0.4553784388202258\n",
      "Rnew= -0.14357776756861945\n",
      "p= 0.24000000000000002\n",
      "Rhash= -0.47884553599520174\n",
      "Rnew= -0.15069407385208244\n",
      "p= 0.25\n",
      "Rhash= -0.5\n",
      "Rnew= -0.15713248644272423\n",
      "p= 0.26\n",
      "Rhash= -0.5188455359952018\n",
      "Rnew= -0.16291914977519042\n",
      "p= 0.27\n",
      "Rhash= -0.5353784388202258\n",
      "Rnew= -0.16808055699407579\n",
      "p= 0.28\n",
      "Rhash= -0.5495875212220558\n",
      "Rnew= -0.17264262033312958\n",
      "p= 0.29000000000000004\n",
      "Rhash= -0.5614538950336536\n",
      "Rnew= -0.17662954565918773\n"
     ]
    }
   ],
   "source": [
    "for p in np.arange(0.01,0.3,0.01):\n",
    "    Rnew= compute_rate(surface_code.N,1, SD,p)\n",
    "    Rhash= (1-entropy([1-2*p,p,0,p]))\n",
    "    print(\"p=\",p)\n",
    "    print(\"Rhash=\",Rhash)\n",
    "    print(\"Rnew=\",Rnew)\n",
    "    "
   ],
   "metadata": {
    "collapsed": false,
    "ExecuteTime": {
     "end_time": "2023-11-29T08:27:02.774909211Z",
     "start_time": "2023-11-29T08:27:02.720525187Z"
    }
   },
   "id": "d53f5d6fa495b64b"
  },
  {
   "cell_type": "code",
   "execution_count": 7,
   "outputs": [],
   "source": [
    "hamming_code = np.array([[ 1,  1,  1,  1,  0,  0,  0],[ 1,  1 , 0 , 0 , 1,  1 , 0 ],[1 , 0 , 1 , 0,  1,  0,  1 ]])"
   ],
   "metadata": {
    "collapsed": false,
    "ExecuteTime": {
     "end_time": "2023-11-29T15:23:32.752293875Z",
     "start_time": "2023-11-29T15:23:32.720861775Z"
    }
   },
   "id": "4ab0ebffa9dbb1ba"
  },
  {
   "cell_type": "code",
   "execution_count": 9,
   "outputs": [
    {
     "name": "stdout",
     "output_type": "stream",
     "text": [
      "<Unnamed CSS code>, (3,4)-[[7,1,nan]]\n",
      " -Block dimensions: Pass\n",
      " -PCMs commute hz@hx.T==0: Pass\n",
      " -PCMs commute hx@hz.T==0: Pass\n",
      " -lx \\in ker{hz} AND lz \\in ker{hx}: Pass\n",
      " -lx and lz anticommute: Pass\n",
      " -<Unnamed CSS code> is a valid CSS code w/ params (3,4)-[[7,1,nan]]\n"
     ]
    },
    {
     "data": {
      "text/plain": "True"
     },
     "execution_count": 9,
     "metadata": {},
     "output_type": "execute_result"
    }
   ],
   "source": [
    "steane_code = css_code(hx=hamming_code,hz=hamming_code)\n",
    "steane_code.test()"
   ],
   "metadata": {
    "collapsed": false,
    "ExecuteTime": {
     "end_time": "2023-11-29T15:23:40.203171132Z",
     "start_time": "2023-11-29T15:23:40.146793443Z"
    }
   },
   "id": "716c5c558b2893f4"
  },
  {
   "cell_type": "code",
   "execution_count": 10,
   "outputs": [
    {
     "name": "stderr",
     "output_type": "stream",
     "text": [
      "2187it [00:00, 4478.69it/s]\n"
     ]
    }
   ],
   "source": [
    "SD_S =  brute_calculator(steane_code.lx, steane_code.hx, steane_code.lz, steane_code.hz).syndrome_dictionary\n"
   ],
   "metadata": {
    "collapsed": false,
    "ExecuteTime": {
     "end_time": "2023-11-29T15:24:04.574519186Z",
     "start_time": "2023-11-29T15:24:04.026435823Z"
    }
   },
   "id": "4686b03e8b165284"
  },
  {
   "cell_type": "code",
   "execution_count": 12,
   "outputs": [
    {
     "name": "stdout",
     "output_type": "stream",
     "text": [
      "p= 0.01\n",
      "Rhash= 0.8385594574581794\n",
      "Rnew= 0.1391322972682378\n",
      "p= 0.02\n",
      "Rhash= 0.7177078109175852\n",
      "Rnew= 0.13079752365912958\n",
      "p= 0.03\n",
      "Rhash= 0.6125550808455238\n",
      "Rnew= 0.11963353275413295\n",
      "p= 0.04\n",
      "Rhash= 0.5178208097977272\n",
      "Rnew= 0.10661655580923966\n",
      "p= 0.05\n",
      "Rhash= 0.4310044064107188\n",
      "Rnew= 0.09240528022432015\n",
      "p= 0.060000000000000005\n",
      "Rhash= 0.35063913471263564\n",
      "Rnew= 0.07747678239612207\n",
      "p= 0.06999999999999999\n",
      "Rhash= 0.27576118835714414\n",
      "Rnew= 0.06218997189886344\n",
      "p= 0.08\n",
      "Rhash= 0.20569044535943393\n",
      "Rnew= 0.04682138997056211\n",
      "p= 0.09\n",
      "Rhash= 0.1399229542717203\n",
      "Rnew= 0.03158757106046532\n",
      "p= 0.09999999999999999\n",
      "Rhash= 0.07807190511263773\n",
      "Rnew= 0.01665987113480092\n",
      "p= 0.11\n",
      "Rhash= 0.019832497038034358\n",
      "Rnew= 0.0021746593310453493\n",
      "p= 0.12\n",
      "Rhash= -0.035040279384522144\n",
      "Rnew= -0.011759529078318402\n",
      "p= 0.13\n",
      "Rhash= -0.08674637249261785\n",
      "Rnew= -0.025056913488725067\n",
      "p= 0.14\n",
      "Rhash= -0.13545081056013086\n",
      "Rnew= -0.037650834673170964\n",
      "p= 0.15000000000000002\n",
      "Rhash= -0.18129089923069275\n",
      "Rnew= -0.049491131653650725\n",
      "p= 0.16\n",
      "Rhash= -0.22438145772449403\n",
      "Rnew= -0.06054220951629226\n",
      "p= 0.17\n",
      "Rhash= -0.2648187049730302\n",
      "Rnew= -0.07078155564251308\n",
      "p= 0.18000000000000002\n",
      "Rhash= -0.3026831892554924\n",
      "Rnew= -0.08019851948643676\n",
      "p= 0.19\n",
      "Rhash= -0.33804202222629964\n",
      "Rnew= -0.088793222692959\n",
      "p= 0.2\n",
      "Rhash= -0.3709505944546687\n",
      "Rnew= -0.09657551903485824\n",
      "p= 0.21000000000000002\n",
      "Rhash= -0.4014538950336537\n",
      "Rnew= -0.10356397729636835\n",
      "p= 0.22\n",
      "Rhash= -0.42958752122205546\n",
      "Rnew= -0.10978490610548906\n",
      "p= 0.23\n",
      "Rhash= -0.4553784388202258\n",
      "Rnew= -0.11527146071780821\n",
      "p= 0.24000000000000002\n",
      "Rhash= -0.47884553599520174\n",
      "Rnew= -0.12006284691988288\n",
      "p= 0.25\n",
      "Rhash= -0.5\n",
      "Rnew= -0.1242035513144729\n",
      "p= 0.26\n",
      "Rhash= -0.5188455359952018\n",
      "Rnew= -0.12774238412629144\n",
      "p= 0.27\n",
      "Rhash= -0.5353784388202258\n",
      "Rnew= -0.13073095588253517\n",
      "p= 0.28\n",
      "Rhash= -0.5495875212220558\n",
      "Rnew= -0.13322109376151317\n",
      "p= 0.29000000000000004\n",
      "Rhash= -0.5614538950336536\n",
      "Rnew= -0.1352607291484149\n"
     ]
    }
   ],
   "source": [
    "for p in np.arange(0.01,0.3,0.01):\n",
    "    Rnew= compute_rate(steane_code.N,1, SD_S,p)\n",
    "    Rhash= (1-entropy([1-2*p,p,0,p]))\n",
    "    print(\"p=\",p)\n",
    "    print(\"Rhash=\",Rhash)\n",
    "    print(\"Rnew=\",Rnew)\n",
    "    "
   ],
   "metadata": {
    "collapsed": false,
    "ExecuteTime": {
     "end_time": "2023-11-29T15:24:28.383234218Z",
     "start_time": "2023-11-29T15:24:28.064799136Z"
    }
   },
   "id": "6e7464f9ed8aec71"
  },
  {
   "cell_type": "code",
   "execution_count": null,
   "outputs": [],
   "source": [],
   "metadata": {
    "collapsed": false
   },
   "id": "f78e7370f365fe5c"
  }
 ],
 "metadata": {
  "kernelspec": {
   "display_name": "Python 3",
   "language": "python",
   "name": "python3"
  },
  "language_info": {
   "codemirror_mode": {
    "name": "ipython",
    "version": 2
   },
   "file_extension": ".py",
   "mimetype": "text/x-python",
   "name": "python",
   "nbconvert_exporter": "python",
   "pygments_lexer": "ipython2",
   "version": "2.7.6"
  }
 },
 "nbformat": 4,
 "nbformat_minor": 5
}
