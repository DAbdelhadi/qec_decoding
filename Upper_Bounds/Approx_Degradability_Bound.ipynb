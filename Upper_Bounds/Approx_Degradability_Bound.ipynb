{
 "cells": [
  {
   "cell_type": "code",
   "execution_count": 34,
   "id": "initial_id",
   "metadata": {
    "collapsed": true,
    "ExecuteTime": {
     "end_time": "2023-12-04T10:17:44.797985260Z",
     "start_time": "2023-12-04T10:17:44.782503292Z"
    }
   },
   "outputs": [],
   "source": [
    "# implements SDP for approx. degradability bound https://github.com/vsiddhu/SDP-Quantum-OR/blob/main/Notebook%205%20-%20Quantum%20Channel%20Capacity.ipynb for Pauli channels"
   ]
  },
  {
   "cell_type": "code",
   "execution_count": 89,
   "outputs": [],
   "source": [
    "import numpy as np\n",
    "import matplotlib.pyplot as plt\n",
    "import HelperFunctionsforNotebook5 as crp\n",
    "import picos as pic\n",
    "import cvxopt as cvx\n",
    "import qutip as qutip"
   ],
   "metadata": {
    "collapsed": false,
    "ExecuteTime": {
     "end_time": "2023-12-04T13:52:56.814970791Z",
     "start_time": "2023-12-04T13:52:56.797273419Z"
    }
   },
   "id": "62f122c1ffb6e8f3"
  },
  {
   "cell_type": "code",
   "execution_count": 90,
   "outputs": [
    {
     "name": "stdout",
     "output_type": "stream",
     "text": [
      "Solvers available to picos on this machine : ['cvxopt']\n"
     ]
    }
   ],
   "source": [
    "print('Solvers available to picos on this machine :', pic.solvers.available_solvers())"
   ],
   "metadata": {
    "collapsed": false,
    "ExecuteTime": {
     "end_time": "2023-12-04T13:52:56.996104026Z",
     "start_time": "2023-12-04T13:52:56.976190992Z"
    }
   },
   "id": "87a21accec2b327f"
  },
  {
   "cell_type": "code",
   "execution_count": 91,
   "outputs": [],
   "source": [
    "def Pauli_Channel_Kraus(pX,pY,pZ):\n",
    "    pI = 1 - pX - pY - pZ\n",
    "    KI = np.sqrt(pI)*np.eye(2)\n",
    "    KX = np.sqrt(pX)*np.array([[0,1],[1,0]])\n",
    "    KY = np.sqrt(pY)*np.array([[0,-1j],[1j,0]])\n",
    "    KZ = np.sqrt(pZ)*np.array([[1,0],[0,-1]])\n",
    "    return [KI,KX,KY,KZ]\n",
    "    "
   ],
   "metadata": {
    "collapsed": false,
    "ExecuteTime": {
     "end_time": "2023-12-04T13:52:57.170379770Z",
     "start_time": "2023-12-04T13:52:57.157239494Z"
    }
   },
   "id": "e66e28e3aba31d71"
  },
  {
   "cell_type": "code",
   "execution_count": 92,
   "outputs": [],
   "source": [
    "def hb(p):\n",
    "    return -p*np.log2(p)-(1-p)*np.log2(1-p)\n",
    "\n",
    "def entropy(p):\n",
    "    e = 0\n",
    "    for pi in p:\n",
    "        if pi !=0:\n",
    "            e =e-pi*np.log2(pi)\n",
    "    return e\n",
    "\n",
    "def coherent_info_Pauli(p):\n",
    "    return 1-entropy(p)"
   ],
   "metadata": {
    "collapsed": false,
    "ExecuteTime": {
     "end_time": "2023-12-04T13:52:57.362834381Z",
     "start_time": "2023-12-04T13:52:57.350634382Z"
    }
   },
   "id": "7a51edf52b95100c"
  },
  {
   "cell_type": "code",
   "execution_count": 93,
   "outputs": [],
   "source": [
    "def capacity_difference_bound(eps, dc):\n",
    "    return eps*np.log2(dc-1)/2+eps*np.log2(dc)+hb(eps/2)+(1+eps/2)*hb(eps/(2+eps))\n",
    "    "
   ],
   "metadata": {
    "collapsed": false,
    "ExecuteTime": {
     "end_time": "2023-12-04T13:52:57.538672859Z",
     "start_time": "2023-12-04T13:52:57.525039921Z"
    }
   },
   "id": "1d7e76e02bef5c93"
  },
  {
   "cell_type": "code",
   "execution_count": 94,
   "outputs": [],
   "source": [
    "def approx_degradability_param_Pauli(pX,pY,pZ):\n",
    "    krsLstF = Pauli_Channel_Kraus(pX,pY,pZ)\n",
    "    (dc,db,da) = np.shape(krsLstF) #why dc? \n",
    "    #Choi-Jamiolkowski representations of channel and its complement \n",
    "    (jbaF, jcaF) = crp.krausToChoiJ(krsLstF)\n",
    "    #Constants\n",
    "    #----------\n",
    "    JbaFPic = pic.Constant(\"J(B)_ba\", jbaF)\n",
    "    JcaFPic = pic.Constant(\"J(B)_ca\", jcaF) #check reasoning!\n",
    "    \n",
    "    iMatA = pic.Constant('Ia', np.eye(da))\n",
    "    iMatB = pic.Constant('Ib', np.eye(db))\n",
    "    shpCA = (dc*da,dc*da)\n",
    "    shpCB = (dc*db,dc*db)\n",
    "    \n",
    "    \n",
    "    #Variables\n",
    "    #----------\n",
    "    ZPic = pic.HermitianVariable(\"Zca\", shpCA)\n",
    "    JPic = pic.HermitianVariable(\"Jcb\", shpCB)\n",
    "    mu = pic.RealVariable(\"mu\")\n",
    "    prob1P = pic.Problem()\n",
    "\n",
    "    #Constraint\n",
    "    #----------\n",
    "    prob1P.add_constraint(ZPic >> 0)\n",
    "    prob1P.add_constraint(JPic >> 0)\n",
    "    \n",
    "    ZaPic = pic.partial_trace(ZPic,subsystems=(0), dimensions=(dc,da))\n",
    "    JbPic = pic.partial_trace(JPic,subsystems=(0), dimensions=(dc,db))\n",
    "    \n",
    "    prob1P.add_constraint(ZaPic << mu*iMatA)\n",
    "    prob1P.add_constraint(JbPic == iMatB)\n",
    "    \n",
    "    JcaPic = crp.choiJOfChanInSeriesPic(JbaFPic,JPic,da,db,dc)\n",
    "    prob1P.add_constraint(ZPic >> JcaFPic-JcaPic)\n",
    "    \n",
    "\n",
    "    #Objective\n",
    "    #----------\n",
    "    prob1P.set_objective('min',mu)\n",
    "    \n",
    "    #User readable view of the problem being composed in PICOS'\n",
    "    #print(prob1P)\n",
    "    #Solve the problem using cvxopt as a solver\n",
    "    prob1P.solve(verbosity=False,solver='cvxopt')\n",
    "    \n",
    "    \n",
    "    \n",
    "    #Solver claims to have found optimal saolution\n",
    "    mu1P =  prob1P.value\n",
    "    eps1 = 2*mu1P\n",
    "    return eps1, capacity_difference_bound(eps1, dc)+coherent_info_Pauli([1-pX-pY-pZ,pX,pY,pZ])\n"
   ],
   "metadata": {
    "collapsed": false,
    "ExecuteTime": {
     "end_time": "2023-12-04T13:52:57.732049608Z",
     "start_time": "2023-12-04T13:52:57.723092551Z"
    }
   },
   "id": "238a4f473e27be1d"
  },
  {
   "cell_type": "code",
   "execution_count": 95,
   "outputs": [
    {
     "name": "stdout",
     "output_type": "stream",
     "text": [
      "4.005735442193845e-06 0.987685033833084\n",
      "0.0004891726021144856 0.9095885963865206\n",
      "0.0017989297206531436 0.8578024809801534\n",
      "0.003952749373799927 0.8218655668199396\n",
      "0.0069667053150079695 0.7985319830558134\n",
      "0.01085307843448206 0.7860124056653829\n",
      "0.015620036249648138 0.7830989702611424\n",
      "0.021271410871221457 0.7888760056264776\n",
      "0.02780658777140131 0.8025944959869357\n",
      "0.035220511979352886 0.8236089736559967\n",
      "0.04350381034048059 0.8513429496847553\n",
      "0.05264302233612173 0.8852690515001647\n",
      "0.06262092351887424 0.9248973584735263\n",
      "0.07341692758750155 0.9697685846667711\n",
      "0.0850075302764112 1.0194500695360043\n",
      "0.09736679833264236 1.0735336178900454\n",
      "0.11046685510337295 1.1316342510002289\n",
      "0.12427836210943169 1.193389543558914\n",
      "0.13877096934324593 1.2584591625657149\n",
      "0.15391374246593786 1.3265245582883487\n",
      "0.16967552728232282 1.397288482974158\n",
      "0.1860252791131992 1.4704744988590643\n",
      "0.20293233904161495 1.5458263399244256\n",
      "0.2203666572550901 1.6231071280237268\n",
      "0.23829898037967365 1.7020985448594088\n",
      "0.256700988280887 1.782599868148502\n",
      "0.2755453983412416 1.8644269792735704\n",
      "0.29480603676051165 1.9474113335778953\n",
      "0.31445788252885315 2.031398920310548\n",
      "0.33447708865283915 2.1162492309488874\n",
      "0.3548409847515841 2.2018342506916944\n",
      "0.3755280648098977 2.28803748515389\n",
      "0.39651796319443017 2.3747530300571187\n",
      "0.417791421575913 2.4618846890854034\n",
      "0.4393302500566865 2.5493451482683263\n",
      "0.46111728336926905 2.637055202907626\n",
      "0.4831363331876457 2.7249430348076698\n",
      "0.5053721400798815 2.8129435499542854\n",
      "0.5278103248129042 2.9009977681424735\n",
      "0.5504373381202224 2.9890522545060683\n",
      "0.5732404140937036 3.0770586116536514\n",
      "0.5962075217030954 3.164973001592707\n",
      "0.6193273201701418 3.2527557195907084\n",
      "0.6425891149084486 3.3403708006376287\n",
      "0.6659828157705503 3.427785662898824\n",
      "0.6894988971904197 3.5149707830321044\n",
      "0.7131283606547368 3.6018994023559014\n",
      "0.7368626978067423 3.6885472542028994\n",
      "0.7606938613634946 3.774892339977604\n",
      "0.784614225528705 3.8609146760744144\n",
      "0.8086165610702674 3.946596114384621\n",
      "0.8326940076359343 4.031920161818936\n",
      "0.856840046384382 4.1168718110336755\n",
      "0.8810484710768919 4.2014373745197195\n",
      "0.9053133713644683 4.285604373807315\n",
      "0.9296291055784832 4.369361394680776\n",
      "0.9539902818066108 4.4526979806188605\n",
      "0.9783917393070325 4.53560453250236\n",
      "1.0028285224223277 4.618072186159688\n",
      "1.0272958772255547 4.700092776784139\n",
      "1.0506680910967698 4.777749142442466\n",
      "1.069541083786946 4.839456609632471\n",
      "1.0842582823590323 4.886881932959172\n",
      "1.0953476952991428 4.92217601447778\n",
      "1.1032366799629147 4.947021680570691\n",
      "1.1082750432407473 4.962751152380212\n",
      "1.1107517324517586 4.97042874614546\n",
      "1.1109071914372413 4.97091052695597\n",
      "1.108942620990122 4.964887971706327\n",
      "1.1050270754640648 4.952920590227148\n",
      "1.099302917574384 4.935460427131035\n",
      "1.0918901108751558 4.912870826572096\n",
      "1.0828895593577699 4.885440676924591\n",
      "1.072385754099523 4.853395358197659\n",
      "1.060448875032801 4.816905128252248\n",
      "1.0471363869374741 4.7760912326116856\n",
      "1.032494340414167 4.731030562731324\n",
      "1.0165583104366185 4.681758690395439\n",
      "0.9993540550504093 4.628271587566378\n",
      "0.9808979475872275 4.570526219274562\n"
     ]
    },
    {
     "ename": "KeyboardInterrupt",
     "evalue": "",
     "output_type": "error",
     "traceback": [
      "\u001B[0;31m---------------------------------------------------------------------------\u001B[0m",
      "\u001B[0;31mKeyboardInterrupt\u001B[0m                         Traceback (most recent call last)",
      "Cell \u001B[0;32mIn[95], line 9\u001B[0m\n\u001B[1;32m      7\u001B[0m pY \u001B[38;5;241m=\u001B[39m \u001B[38;5;241m0\u001B[39m\n\u001B[1;32m      8\u001B[0m pZ \u001B[38;5;241m=\u001B[39m p\u001B[38;5;241m/\u001B[39m\u001B[38;5;241m2\u001B[39m\n\u001B[0;32m----> 9\u001B[0m e,c \u001B[38;5;241m=\u001B[39m \u001B[43mapprox_degradability_param_Pauli\u001B[49m\u001B[43m(\u001B[49m\u001B[43mpX\u001B[49m\u001B[43m,\u001B[49m\u001B[43mpY\u001B[49m\u001B[43m,\u001B[49m\u001B[43mpZ\u001B[49m\u001B[43m)\u001B[49m\n\u001B[1;32m     10\u001B[0m \u001B[38;5;28mprint\u001B[39m(e,c)\n\u001B[1;32m     11\u001B[0m upper_bound\u001B[38;5;241m.\u001B[39mappend(c)\n",
      "Cell \u001B[0;32mIn[94], line 35\u001B[0m, in \u001B[0;36mapprox_degradability_param_Pauli\u001B[0;34m(pX, pY, pZ)\u001B[0m\n\u001B[1;32m     32\u001B[0m prob1P\u001B[38;5;241m.\u001B[39madd_constraint(ZaPic \u001B[38;5;241m<<\u001B[39m mu\u001B[38;5;241m*\u001B[39miMatA)\n\u001B[1;32m     33\u001B[0m prob1P\u001B[38;5;241m.\u001B[39madd_constraint(JbPic \u001B[38;5;241m==\u001B[39m iMatB)\n\u001B[0;32m---> 35\u001B[0m JcaPic \u001B[38;5;241m=\u001B[39m \u001B[43mcrp\u001B[49m\u001B[38;5;241;43m.\u001B[39;49m\u001B[43mchoiJOfChanInSeriesPic\u001B[49m\u001B[43m(\u001B[49m\u001B[43mJbaFPic\u001B[49m\u001B[43m,\u001B[49m\u001B[43mJPic\u001B[49m\u001B[43m,\u001B[49m\u001B[43mda\u001B[49m\u001B[43m,\u001B[49m\u001B[43mdb\u001B[49m\u001B[43m,\u001B[49m\u001B[43mdc\u001B[49m\u001B[43m)\u001B[49m\n\u001B[1;32m     36\u001B[0m prob1P\u001B[38;5;241m.\u001B[39madd_constraint(ZPic \u001B[38;5;241m>>\u001B[39m JcaFPic\u001B[38;5;241m-\u001B[39mJcaPic)\n\u001B[1;32m     39\u001B[0m \u001B[38;5;66;03m#Objective\u001B[39;00m\n\u001B[1;32m     40\u001B[0m \u001B[38;5;66;03m#----------\u001B[39;00m\n",
      "File \u001B[0;32m~/qec_decoding/Upper_Bounds/HelperFunctionsforNotebook5.py:144\u001B[0m, in \u001B[0;36mchoiJOfChanInSeriesPic\u001B[0;34m(cj1, cj2, da, db, dc)\u001B[0m\n\u001B[1;32m    142\u001B[0m Tcb \u001B[38;5;241m=\u001B[39m choiJToLinPic(cj2,db,dc)\n\u001B[1;32m    143\u001B[0m Tac \u001B[38;5;241m=\u001B[39m Tcb\u001B[38;5;241m*\u001B[39mTba\n\u001B[0;32m--> 144\u001B[0m \u001B[38;5;28;01mreturn\u001B[39;00m \u001B[43mlinTochoiJPic\u001B[49m\u001B[43m(\u001B[49m\u001B[43mTac\u001B[49m\u001B[43m,\u001B[49m\u001B[43mda\u001B[49m\u001B[43m,\u001B[49m\u001B[43mdc\u001B[49m\u001B[43m)\u001B[49m\n",
      "File \u001B[0;32m~/qec_decoding/Upper_Bounds/HelperFunctionsforNotebook5.py:107\u001B[0m, in \u001B[0;36mlinTochoiJPic\u001B[0;34m(TbaP, da, db)\u001B[0m\n\u001B[1;32m     86\u001B[0m \u001B[38;5;28;01mdef\u001B[39;00m \u001B[38;5;21mlinTochoiJPic\u001B[39m(TbaP,da,db):\n\u001B[1;32m     87\u001B[0m \u001B[38;5;250m    \u001B[39m\u001B[38;5;124mr\u001B[39m\u001B[38;5;124;03m\"\"\"Takes the Choi-Jamiolkowski representation, the\u001B[39;00m\n\u001B[1;32m     88\u001B[0m \u001B[38;5;124;03m    input and output dimensions for the channel and returns\u001B[39;00m\n\u001B[1;32m     89\u001B[0m \u001B[38;5;124;03m    the transfer matrix\u001B[39;00m\n\u001B[0;32m   (...)\u001B[0m\n\u001B[1;32m    105\u001B[0m \u001B[38;5;124;03m           Choi-Jamiolkowski representation for the channel, dimension (db*da, db*da)\u001B[39;00m\n\u001B[1;32m    106\u001B[0m \u001B[38;5;124;03m    \"\"\"\u001B[39;00m\n\u001B[0;32m--> 107\u001B[0m     JbaP \u001B[38;5;241m=\u001B[39m \u001B[43mTbaP\u001B[49m\u001B[38;5;241;43m.\u001B[39;49m\u001B[43mreshuffled\u001B[49m\u001B[43m(\u001B[49m\u001B[43mpermutation\u001B[49m\u001B[38;5;241;43m=\u001B[39;49m\u001B[38;5;124;43m'\u001B[39;49m\u001B[38;5;124;43mikjl\u001B[39;49m\u001B[38;5;124;43m'\u001B[39;49m\u001B[43m,\u001B[49m\u001B[43m \u001B[49m\u001B[43mdimensions\u001B[49m\u001B[38;5;241;43m=\u001B[39;49m\u001B[43m(\u001B[49m\u001B[43mdb\u001B[49m\u001B[43m,\u001B[49m\u001B[43mdb\u001B[49m\u001B[43m,\u001B[49m\u001B[43mda\u001B[49m\u001B[43m,\u001B[49m\u001B[43mda\u001B[49m\u001B[43m)\u001B[49m\u001B[43m,\u001B[49m\u001B[43morder\u001B[49m\u001B[38;5;241;43m=\u001B[39;49m\u001B[38;5;124;43m'\u001B[39;49m\u001B[38;5;124;43mC\u001B[39;49m\u001B[38;5;124;43m'\u001B[39;49m\u001B[43m)\u001B[49m\n\u001B[1;32m    108\u001B[0m     \u001B[38;5;28;01mreturn\u001B[39;00m JbaP\u001B[38;5;241m.\u001B[39mT\u001B[38;5;241m.\u001B[39mreshaped((da\u001B[38;5;241m*\u001B[39mdb, da\u001B[38;5;241m*\u001B[39mdb))\u001B[38;5;241m.\u001B[39mT\n",
      "File \u001B[0;32m~/anaconda3/envs/qec_decoding/lib/python3.11/site-packages/picos/expressions/exp_biaffine.py:1920\u001B[0m, in \u001B[0;36mBiaffineExpression.reshuffled\u001B[0;34m(self, permutation, dimensions, order)\u001B[0m\n\u001B[1;32m   1917\u001B[0m shape \u001B[38;5;241m=\u001B[39m (m, n)\n\u001B[1;32m   1918\u001B[0m coefs \u001B[38;5;241m=\u001B[39m {mtbs: R \u001B[38;5;241m*\u001B[39m coef \u001B[38;5;28;01mfor\u001B[39;00m mtbs, coef \u001B[38;5;129;01min\u001B[39;00m \u001B[38;5;28mself\u001B[39m\u001B[38;5;241m.\u001B[39m_coefs\u001B[38;5;241m.\u001B[39mitems()}\n\u001B[0;32m-> 1920\u001B[0m \u001B[38;5;28;01mreturn\u001B[39;00m \u001B[38;5;28;43mself\u001B[39;49m\u001B[38;5;241;43m.\u001B[39;49m\u001B[43m_basetype\u001B[49m\u001B[43m(\u001B[49m\u001B[43mstring\u001B[49m\u001B[43m,\u001B[49m\u001B[43m \u001B[49m\u001B[43mshape\u001B[49m\u001B[43m,\u001B[49m\u001B[43m \u001B[49m\u001B[43mcoefs\u001B[49m\u001B[43m)\u001B[49m\n",
      "File \u001B[0;32m~/anaconda3/envs/qec_decoding/lib/python3.11/site-packages/picos/expressions/exp_biaffine.py:135\u001B[0m, in \u001B[0;36mBiaffineExpression.__init__\u001B[0;34m(self, string, shape, coefficients)\u001B[0m\n\u001B[1;32m    109\u001B[0m \u001B[38;5;250m\u001B[39m\u001B[38;5;124;03m\"\"\"Initialize a (complex) biaffine expression.\u001B[39;00m\n\u001B[1;32m    110\u001B[0m \n\u001B[1;32m    111\u001B[0m \u001B[38;5;124;03m:param str string: A symbolic string description.\u001B[39;00m\n\u001B[0;32m   (...)\u001B[0m\n\u001B[1;32m    131\u001B[0m \u001B[38;5;124;03m    modifications to it from causing inconsistencies.\u001B[39;00m\n\u001B[1;32m    132\u001B[0m \u001B[38;5;124;03m\"\"\"\u001B[39;00m\n\u001B[1;32m    133\u001B[0m \u001B[38;5;28;01mfrom\u001B[39;00m \u001B[38;5;21;01m.\u001B[39;00m\u001B[38;5;21;01mvariables\u001B[39;00m \u001B[38;5;28;01mimport\u001B[39;00m BaseVariable\n\u001B[0;32m--> 135\u001B[0m shape  \u001B[38;5;241m=\u001B[39m \u001B[43mload_shape\u001B[49m\u001B[43m(\u001B[49m\u001B[43mshape\u001B[49m\u001B[43m)\u001B[49m\n\u001B[1;32m    136\u001B[0m length \u001B[38;5;241m=\u001B[39m shape[\u001B[38;5;241m0\u001B[39m]\u001B[38;5;241m*\u001B[39mshape[\u001B[38;5;241m1\u001B[39m]\n\u001B[1;32m    138\u001B[0m \u001B[38;5;28;01mif\u001B[39;00m \u001B[38;5;129;01mnot\u001B[39;00m \u001B[38;5;28misinstance\u001B[39m(coefficients, \u001B[38;5;28mdict\u001B[39m):\n",
      "File \u001B[0;32m~/anaconda3/envs/qec_decoding/lib/python3.11/site-packages/picos/expressions/data.py:44\u001B[0m, in \u001B[0;36mload_shape\u001B[0;34m(shape, squareMatrix, wildcards)\u001B[0m\n\u001B[1;32m     37\u001B[0m \u001B[38;5;66;03m# -------------------------------\u001B[39;00m\n\u001B[1;32m     38\u001B[0m \n\u001B[1;32m     39\u001B[0m \n\u001B[1;32m     40\u001B[0m \u001B[38;5;66;03m#: Maximum entrywise absolute deviation allowed for numeric equality checks.\u001B[39;00m\n\u001B[1;32m     41\u001B[0m TOLERANCE \u001B[38;5;241m=\u001B[39m \u001B[38;5;241m1e-6\u001B[39m\n\u001B[0;32m---> 44\u001B[0m \u001B[38;5;28;01mdef\u001B[39;00m \u001B[38;5;21mload_shape\u001B[39m(shape, squareMatrix\u001B[38;5;241m=\u001B[39m\u001B[38;5;28;01mFalse\u001B[39;00m, wildcards\u001B[38;5;241m=\u001B[39m\u001B[38;5;28;01mFalse\u001B[39;00m):\n\u001B[1;32m     45\u001B[0m \u001B[38;5;250m    \u001B[39m\u001B[38;5;124;03m\"\"\"Parse the argument as a matrix shape.\u001B[39;00m\n\u001B[1;32m     46\u001B[0m \n\u001B[1;32m     47\u001B[0m \u001B[38;5;124;03m    PICOS uses this function whenever you supply a shape parameter to a method.\u001B[39;00m\n\u001B[0;32m   (...)\u001B[0m\n\u001B[1;32m     56\u001B[0m \u001B[38;5;124;03m    :param bool wildcards: Whether the wildcard token :obj:`None` is allowed.\u001B[39;00m\n\u001B[1;32m     57\u001B[0m \u001B[38;5;124;03m    \"\"\"\u001B[39;00m\n\u001B[1;32m     58\u001B[0m     \u001B[38;5;28;01mif\u001B[39;00m shape \u001B[38;5;129;01mis\u001B[39;00m \u001B[38;5;28;01mNone\u001B[39;00m:\n",
      "\u001B[0;31mKeyboardInterrupt\u001B[0m: "
     ]
    }
   ],
   "source": [
    "# Depolarizing Channel\n",
    "upper_bound = []\n",
    "hashing = []\n",
    "p_range = np.arange(0.001,1, 0.01)\n",
    "for p in p_range:\n",
    "    pX = p/2\n",
    "    pY = 0\n",
    "    pZ = p/2\n",
    "    e,c = approx_degradability_param_Pauli(pX,pY,pZ)\n",
    "    print(e,c)\n",
    "    upper_bound.append(c)\n",
    "    hashing.append(1-entropy([1-pX-pY-pZ,pX,pY,pZ]))\n",
    "    \n",
    "plt.figure()\n",
    "plt.grid()\n",
    "plt.plot(p_range,upper_bound, label='upper_bound')\n",
    "plt.plot(p_range,hashing, label='hashing')\n",
    "plt.xlabel('p')\n",
    "plt.legend()\n",
    "plt.show()"
   ],
   "metadata": {
    "collapsed": false,
    "ExecuteTime": {
     "end_time": "2023-12-04T13:53:24.693546501Z",
     "start_time": "2023-12-04T13:52:57.897987703Z"
    }
   },
   "id": "bef1f37ab0bfb8ea"
  },
  {
   "cell_type": "code",
   "execution_count": 105,
   "outputs": [],
   "source": [
    "# Compute UE eq(5) in https://ieeexplore.ieee.org/stamp/stamp.jsp?tp=&arnumber=8046086\n",
    "def isometric_ext(Kraus): \n",
    "    U = 0\n",
    "    I = np.eye(len(Kraus))\n",
    "    for j in range(len(Kraus)):\n",
    "        jvector = I[:,j]\n",
    "        jvector.shape = (len(Kraus),1)\n",
    "        U = U + np.kron(Kraus[j],jvector)\n",
    "    return U      \n",
    "\n",
    "def UE(rho,Channel_Kraus,Complementary_Channel_Choi,dc,db):\n",
    "    complementary_choi = qutip.Qobj(Complementary_Channel_Choi)\n",
    "    complementary_choi.dims = [[dc,db],[dc,db]]\n",
    "    print(complementary_choi)\n",
    "    Complementary_Channel_Kraus = qutip.choi_to_kraus(complementary_choi)\n",
    "    V = isometric_ext(Channel_Kraus)\n",
    "    W = isometric_ext(Complementary_Channel_Kraus)\n",
    "    dE = len(Channel_Kraus)\n",
    "    dEt = np.shape(Complementary_Channel_Kraus[0])[1]\n",
    "    dF = len(Complementary_Channel_Kraus)    \n",
    "    omega_EEtF = np.kron(W,np.eye(dE))@V@rho@np.conj(np.transpose(np.kron(W,np.eye(dE))))\n",
    "    omega_EtF = pic.partial_trace(omega_EEtF,subsystems=(0), dimensions=(dE,dEt,dF))\n",
    "    omega_Et = pic.partial_trace(omega_EtF,subsystems=(1), dimensions=(dEt,dF))\n",
    "    eigsEtF = np.linalg.eigvalsh(omega_EtF)\n",
    "    eigsEt = np.linalg.eigvalsh(omega_Et)\n",
    "    return entropy(eigsEtF)-entropy(eigsEt)\n",
    "    "
   ],
   "metadata": {
    "collapsed": false,
    "ExecuteTime": {
     "end_time": "2023-12-04T13:57:55.271401644Z",
     "start_time": "2023-12-04T13:57:55.221792512Z"
    }
   },
   "id": "1eb909f44083b5c7"
  },
  {
   "cell_type": "code",
   "execution_count": 106,
   "outputs": [],
   "source": [
    "def objective(rho,pX,pY,pZ,dc,db): \n",
    "    krsLstF = Pauli_Channel_Kraus(pX,pY,pZ)\n",
    "    #Choi-Jamiolkowski representations of channel and its complement \n",
    "    (jbaF, jcaF) = crp.krausToChoiJ(krsLstF)\n",
    "    print(np.shape(jcaF))\n",
    "    return UE(rho,krsLstF,jcaF,dc,db)\n"
   ],
   "metadata": {
    "collapsed": false,
    "ExecuteTime": {
     "end_time": "2023-12-04T13:57:55.513542434Z",
     "start_time": "2023-12-04T13:57:55.494357078Z"
    }
   },
   "id": "59c225dfb66793d"
  },
  {
   "cell_type": "code",
   "execution_count": 107,
   "outputs": [
    {
     "name": "stdout",
     "output_type": "stream",
     "text": [
      "(8, 8)\n",
      "Quantum object: dims = [[4, 2], [4, 2]], shape = (8, 8), type = oper, isherm = True\n",
      "Qobj data =\n",
      "[[ 0.6       +0.j          0.        +0.j          0.        +0.j\n",
      "   0.24494897+0.j          0.        +0.j          0.        +0.34641016j\n",
      "   0.24494897+0.j          0.        +0.j        ]\n",
      " [ 0.        +0.j          0.6       +0.j          0.24494897+0.j\n",
      "   0.        +0.j          0.        -0.34641016j  0.        +0.j\n",
      "   0.        +0.j         -0.24494897+0.j        ]\n",
      " [ 0.        +0.j          0.24494897+0.j          0.1       +0.j\n",
      "   0.        +0.j          0.        -0.14142136j  0.        +0.j\n",
      "   0.        +0.j         -0.1       +0.j        ]\n",
      " [ 0.24494897+0.j          0.        +0.j          0.        +0.j\n",
      "   0.1       +0.j          0.        +0.j          0.        +0.14142136j\n",
      "   0.1       +0.j          0.        +0.j        ]\n",
      " [ 0.        +0.j          0.        +0.34641016j  0.        +0.14142136j\n",
      "   0.        +0.j          0.2       +0.j          0.        +0.j\n",
      "   0.        +0.j          0.        -0.14142136j]\n",
      " [ 0.        -0.34641016j  0.        +0.j          0.        +0.j\n",
      "   0.        -0.14142136j  0.        +0.j          0.2       +0.j\n",
      "   0.        -0.14142136j  0.        +0.j        ]\n",
      " [ 0.24494897+0.j          0.        +0.j          0.        +0.j\n",
      "   0.1       +0.j          0.        +0.j          0.        +0.14142136j\n",
      "   0.1       +0.j          0.        +0.j        ]\n",
      " [ 0.        +0.j         -0.24494897+0.j         -0.1       +0.j\n",
      "   0.        +0.j          0.        +0.14142136j  0.        +0.j\n",
      "   0.        +0.j          0.1       +0.j        ]]\n"
     ]
    },
    {
     "ename": "TypeError",
     "evalue": "arrays to stack must be passed as a \"sequence\" type such as list or tuple.",
     "output_type": "error",
     "traceback": [
      "\u001B[0;31m---------------------------------------------------------------------------\u001B[0m",
      "\u001B[0;31mTypeError\u001B[0m                                 Traceback (most recent call last)",
      "Cell \u001B[0;32mIn[107], line 1\u001B[0m\n\u001B[0;32m----> 1\u001B[0m \u001B[43mobjective\u001B[49m\u001B[43m(\u001B[49m\u001B[43mnp\u001B[49m\u001B[38;5;241;43m.\u001B[39;49m\u001B[43meye\u001B[49m\u001B[43m(\u001B[49m\u001B[38;5;241;43m2\u001B[39;49m\u001B[43m)\u001B[49m\u001B[38;5;241;43m/\u001B[39;49m\u001B[38;5;241;43m2\u001B[39;49m\u001B[43m,\u001B[49m\u001B[38;5;241;43m0.1\u001B[39;49m\u001B[43m,\u001B[49m\u001B[38;5;241;43m0.2\u001B[39;49m\u001B[43m,\u001B[49m\u001B[38;5;241;43m0.1\u001B[39;49m\u001B[43m,\u001B[49m\u001B[38;5;241;43m4\u001B[39;49m\u001B[43m,\u001B[49m\u001B[38;5;241;43m2\u001B[39;49m\u001B[43m)\u001B[49m\n",
      "Cell \u001B[0;32mIn[106], line 6\u001B[0m, in \u001B[0;36mobjective\u001B[0;34m(rho, pX, pY, pZ, dc, db)\u001B[0m\n\u001B[1;32m      4\u001B[0m (jbaF, jcaF) \u001B[38;5;241m=\u001B[39m crp\u001B[38;5;241m.\u001B[39mkrausToChoiJ(krsLstF)\n\u001B[1;32m      5\u001B[0m \u001B[38;5;28mprint\u001B[39m(np\u001B[38;5;241m.\u001B[39mshape(jcaF))\n\u001B[0;32m----> 6\u001B[0m \u001B[38;5;28;01mreturn\u001B[39;00m \u001B[43mUE\u001B[49m\u001B[43m(\u001B[49m\u001B[43mrho\u001B[49m\u001B[43m,\u001B[49m\u001B[43mkrsLstF\u001B[49m\u001B[43m,\u001B[49m\u001B[43mjcaF\u001B[49m\u001B[43m,\u001B[49m\u001B[43mdc\u001B[49m\u001B[43m,\u001B[49m\u001B[43mdb\u001B[49m\u001B[43m)\u001B[49m\n",
      "Cell \u001B[0;32mIn[105], line 15\u001B[0m, in \u001B[0;36mUE\u001B[0;34m(rho, Channel_Kraus, Complementary_Channel_Choi, dc, db)\u001B[0m\n\u001B[1;32m     13\u001B[0m complementary_choi\u001B[38;5;241m.\u001B[39mdims \u001B[38;5;241m=\u001B[39m [[dc,db],[dc,db]]\n\u001B[1;32m     14\u001B[0m \u001B[38;5;28mprint\u001B[39m(complementary_choi)\n\u001B[0;32m---> 15\u001B[0m Complementary_Channel_Kraus \u001B[38;5;241m=\u001B[39m \u001B[43mqutip\u001B[49m\u001B[38;5;241;43m.\u001B[39;49m\u001B[43mchoi_to_kraus\u001B[49m\u001B[43m(\u001B[49m\u001B[43mcomplementary_choi\u001B[49m\u001B[43m)\u001B[49m\n\u001B[1;32m     16\u001B[0m V \u001B[38;5;241m=\u001B[39m isometric_ext(Channel_Kraus)\n\u001B[1;32m     17\u001B[0m W \u001B[38;5;241m=\u001B[39m isometric_ext(Complementary_Channel_Kraus)\n",
      "File \u001B[0;32m~/anaconda3/envs/qec_decoding/lib/python3.11/site-packages/qutip/superop_reps.py:196\u001B[0m, in \u001B[0;36mchoi_to_kraus\u001B[0;34m(q_oper, tol)\u001B[0m\n\u001B[1;32m    194\u001B[0m vecs \u001B[38;5;241m=\u001B[39m [array(_) \u001B[38;5;28;01mfor\u001B[39;00m _ \u001B[38;5;129;01min\u001B[39;00m \u001B[38;5;28mzip\u001B[39m(\u001B[38;5;241m*\u001B[39mvecs)]\n\u001B[1;32m    195\u001B[0m shape \u001B[38;5;241m=\u001B[39m [np\u001B[38;5;241m.\u001B[39mprod(q_oper\u001B[38;5;241m.\u001B[39mdims[\u001B[38;5;241m0\u001B[39m][i]) \u001B[38;5;28;01mfor\u001B[39;00m i \u001B[38;5;129;01min\u001B[39;00m \u001B[38;5;28mrange\u001B[39m(\u001B[38;5;241m2\u001B[39m)][::\u001B[38;5;241m-\u001B[39m\u001B[38;5;241m1\u001B[39m]\n\u001B[0;32m--> 196\u001B[0m \u001B[38;5;28;01mreturn\u001B[39;00m \u001B[43m[\u001B[49m\u001B[43mQobj\u001B[49m\u001B[43m(\u001B[49m\u001B[43minpt\u001B[49m\u001B[38;5;241;43m=\u001B[39;49m\u001B[43msqrt\u001B[49m\u001B[43m(\u001B[49m\u001B[43mval\u001B[49m\u001B[43m)\u001B[49m\u001B[38;5;241;43m*\u001B[39;49m\u001B[43mvec2mat\u001B[49m\u001B[43m(\u001B[49m\u001B[43mvec\u001B[49m\u001B[43m,\u001B[49m\u001B[43m \u001B[49m\u001B[43mshape\u001B[49m\u001B[38;5;241;43m=\u001B[39;49m\u001B[43mshape\u001B[49m\u001B[43m)\u001B[49m\u001B[43m,\u001B[49m\n\u001B[1;32m    197\u001B[0m \u001B[43m        \u001B[49m\u001B[43mdims\u001B[49m\u001B[38;5;241;43m=\u001B[39;49m\u001B[43mq_oper\u001B[49m\u001B[38;5;241;43m.\u001B[39;49m\u001B[43mdims\u001B[49m\u001B[43m[\u001B[49m\u001B[38;5;241;43m0\u001B[39;49m\u001B[43m]\u001B[49m\u001B[43m[\u001B[49m\u001B[43m:\u001B[49m\u001B[43m:\u001B[49m\u001B[38;5;241;43m-\u001B[39;49m\u001B[38;5;241;43m1\u001B[39;49m\u001B[43m]\u001B[49m\u001B[43m)\u001B[49m\n\u001B[1;32m    198\u001B[0m \u001B[43m        \u001B[49m\u001B[38;5;28;43;01mfor\u001B[39;49;00m\u001B[43m \u001B[49m\u001B[43mval\u001B[49m\u001B[43m,\u001B[49m\u001B[43m \u001B[49m\u001B[43mvec\u001B[49m\u001B[43m \u001B[49m\u001B[38;5;129;43;01min\u001B[39;49;00m\u001B[43m \u001B[49m\u001B[38;5;28;43mzip\u001B[39;49m\u001B[43m(\u001B[49m\u001B[43mvals\u001B[49m\u001B[43m,\u001B[49m\u001B[43m \u001B[49m\u001B[43mvecs\u001B[49m\u001B[43m)\u001B[49m\u001B[43m \u001B[49m\u001B[38;5;28;43;01mif\u001B[39;49;00m\u001B[43m \u001B[49m\u001B[38;5;28;43mabs\u001B[39;49m\u001B[43m(\u001B[49m\u001B[43mval\u001B[49m\u001B[43m)\u001B[49m\u001B[43m \u001B[49m\u001B[38;5;241;43m>\u001B[39;49m\u001B[38;5;241;43m=\u001B[39;49m\u001B[43m \u001B[49m\u001B[43mtol\u001B[49m\u001B[43m]\u001B[49m\n",
      "File \u001B[0;32m~/anaconda3/envs/qec_decoding/lib/python3.11/site-packages/qutip/superop_reps.py:196\u001B[0m, in \u001B[0;36m<listcomp>\u001B[0;34m(.0)\u001B[0m\n\u001B[1;32m    194\u001B[0m vecs \u001B[38;5;241m=\u001B[39m [array(_) \u001B[38;5;28;01mfor\u001B[39;00m _ \u001B[38;5;129;01min\u001B[39;00m \u001B[38;5;28mzip\u001B[39m(\u001B[38;5;241m*\u001B[39mvecs)]\n\u001B[1;32m    195\u001B[0m shape \u001B[38;5;241m=\u001B[39m [np\u001B[38;5;241m.\u001B[39mprod(q_oper\u001B[38;5;241m.\u001B[39mdims[\u001B[38;5;241m0\u001B[39m][i]) \u001B[38;5;28;01mfor\u001B[39;00m i \u001B[38;5;129;01min\u001B[39;00m \u001B[38;5;28mrange\u001B[39m(\u001B[38;5;241m2\u001B[39m)][::\u001B[38;5;241m-\u001B[39m\u001B[38;5;241m1\u001B[39m]\n\u001B[0;32m--> 196\u001B[0m \u001B[38;5;28;01mreturn\u001B[39;00m [\u001B[43mQobj\u001B[49m\u001B[43m(\u001B[49m\u001B[43minpt\u001B[49m\u001B[38;5;241;43m=\u001B[39;49m\u001B[43msqrt\u001B[49m\u001B[43m(\u001B[49m\u001B[43mval\u001B[49m\u001B[43m)\u001B[49m\u001B[38;5;241;43m*\u001B[39;49m\u001B[43mvec2mat\u001B[49m\u001B[43m(\u001B[49m\u001B[43mvec\u001B[49m\u001B[43m,\u001B[49m\u001B[43m \u001B[49m\u001B[43mshape\u001B[49m\u001B[38;5;241;43m=\u001B[39;49m\u001B[43mshape\u001B[49m\u001B[43m)\u001B[49m\u001B[43m,\u001B[49m\n\u001B[1;32m    197\u001B[0m \u001B[43m        \u001B[49m\u001B[43mdims\u001B[49m\u001B[38;5;241;43m=\u001B[39;49m\u001B[43mq_oper\u001B[49m\u001B[38;5;241;43m.\u001B[39;49m\u001B[43mdims\u001B[49m\u001B[43m[\u001B[49m\u001B[38;5;241;43m0\u001B[39;49m\u001B[43m]\u001B[49m\u001B[43m[\u001B[49m\u001B[43m:\u001B[49m\u001B[43m:\u001B[49m\u001B[38;5;241;43m-\u001B[39;49m\u001B[38;5;241;43m1\u001B[39;49m\u001B[43m]\u001B[49m\u001B[43m)\u001B[49m\n\u001B[1;32m    198\u001B[0m         \u001B[38;5;28;01mfor\u001B[39;00m val, vec \u001B[38;5;129;01min\u001B[39;00m \u001B[38;5;28mzip\u001B[39m(vals, vecs) \u001B[38;5;28;01mif\u001B[39;00m \u001B[38;5;28mabs\u001B[39m(val) \u001B[38;5;241m>\u001B[39m\u001B[38;5;241m=\u001B[39m tol]\n",
      "File \u001B[0;32m~/anaconda3/envs/qec_decoding/lib/python3.11/site-packages/qutip/qobj.py:335\u001B[0m, in \u001B[0;36mQobj.__init__\u001B[0;34m(self, inpt, dims, shape, type, isherm, copy, fast, superrep, isunitary)\u001B[0m\n\u001B[1;32m    329\u001B[0m         \u001B[38;5;28mself\u001B[39m\u001B[38;5;241m.\u001B[39msuperrep \u001B[38;5;241m=\u001B[39m \u001B[38;5;124m'\u001B[39m\u001B[38;5;124msuper\u001B[39m\u001B[38;5;124m'\u001B[39m\n\u001B[1;32m    331\u001B[0m \u001B[38;5;66;03m# While the obvious check would be != that would fail valid\u001B[39;00m\n\u001B[1;32m    332\u001B[0m \u001B[38;5;66;03m# use cases such as enr_fock and other enr_ functions.\u001B[39;00m\n\u001B[1;32m    333\u001B[0m \u001B[38;5;66;03m# This does leave open the possibility of data still being\u001B[39;00m\n\u001B[1;32m    334\u001B[0m \u001B[38;5;66;03m# misused such as Qobj(complex[n**2][1], dims = [[n],[n]])\u001B[39;00m\n\u001B[0;32m--> 335\u001B[0m \u001B[38;5;28;01mif\u001B[39;00m (\u001B[38;5;28mself\u001B[39m\u001B[38;5;241m.\u001B[39m_data\u001B[38;5;241m.\u001B[39mshape[\u001B[38;5;241m0\u001B[39m] \u001B[38;5;241m>\u001B[39m np\u001B[38;5;241m.\u001B[39mprod(\u001B[43mnp\u001B[49m\u001B[38;5;241;43m.\u001B[39;49m\u001B[43mhstack\u001B[49m\u001B[43m(\u001B[49m\u001B[38;5;28;43mself\u001B[39;49m\u001B[38;5;241;43m.\u001B[39;49m\u001B[43mdims\u001B[49m\u001B[43m[\u001B[49m\u001B[38;5;241;43m0\u001B[39;49m\u001B[43m]\u001B[49m\u001B[43m)\u001B[49m) \u001B[38;5;129;01mor\u001B[39;00m\n\u001B[1;32m    336\u001B[0m    \u001B[38;5;28mself\u001B[39m\u001B[38;5;241m.\u001B[39m_data\u001B[38;5;241m.\u001B[39mshape[\u001B[38;5;241m1\u001B[39m] \u001B[38;5;241m>\u001B[39m np\u001B[38;5;241m.\u001B[39mprod(np\u001B[38;5;241m.\u001B[39mhstack(\u001B[38;5;28mself\u001B[39m\u001B[38;5;241m.\u001B[39mdims[\u001B[38;5;241m1\u001B[39m]))) \u001B[38;5;129;01mand\u001B[39;00m \\\n\u001B[1;32m    337\u001B[0m    \u001B[38;5;28mself\u001B[39m\u001B[38;5;241m.\u001B[39mtype \u001B[38;5;241m!=\u001B[39m \u001B[38;5;124m'\u001B[39m\u001B[38;5;124msuper\u001B[39m\u001B[38;5;124m'\u001B[39m:\n\u001B[1;32m    339\u001B[0m     \u001B[38;5;28;01mraise\u001B[39;00m \u001B[38;5;167;01mValueError\u001B[39;00m(\u001B[38;5;124mf\u001B[39m\u001B[38;5;124m\"\u001B[39m\u001B[38;5;124mQobj has smaller dims \u001B[39m\u001B[38;5;132;01m{\u001B[39;00m\u001B[38;5;28mself\u001B[39m\u001B[38;5;241m.\u001B[39mdims\u001B[38;5;132;01m}\u001B[39;00m\u001B[38;5;124m \u001B[39m\u001B[38;5;124m\"\u001B[39m \u001B[38;5;241m+\u001B[39m\n\u001B[1;32m    340\u001B[0m                      \u001B[38;5;124mf\u001B[39m\u001B[38;5;124m\"\u001B[39m\u001B[38;5;124mthan underlying shape \u001B[39m\u001B[38;5;132;01m{\u001B[39;00m\u001B[38;5;28mself\u001B[39m\u001B[38;5;241m.\u001B[39m_data\u001B[38;5;241m.\u001B[39mshape\u001B[38;5;132;01m}\u001B[39;00m\u001B[38;5;124m\"\u001B[39m)\n\u001B[1;32m    342\u001B[0m \u001B[38;5;66;03m# clear type cache\u001B[39;00m\n",
      "File \u001B[0;32m~/anaconda3/envs/qec_decoding/lib/python3.11/site-packages/numpy/core/shape_base.py:216\u001B[0m, in \u001B[0;36m_vhstack_dispatcher\u001B[0;34m(tup, dtype, casting)\u001B[0m\n\u001B[1;32m    215\u001B[0m \u001B[38;5;28;01mdef\u001B[39;00m \u001B[38;5;21m_vhstack_dispatcher\u001B[39m(tup, \u001B[38;5;241m*\u001B[39m, dtype\u001B[38;5;241m=\u001B[39m\u001B[38;5;28;01mNone\u001B[39;00m, casting\u001B[38;5;241m=\u001B[39m\u001B[38;5;28;01mNone\u001B[39;00m):\n\u001B[0;32m--> 216\u001B[0m     \u001B[38;5;28;01mreturn\u001B[39;00m \u001B[43m_arrays_for_stack_dispatcher\u001B[49m\u001B[43m(\u001B[49m\u001B[43mtup\u001B[49m\u001B[43m)\u001B[49m\n",
      "File \u001B[0;32m~/anaconda3/envs/qec_decoding/lib/python3.11/site-packages/numpy/core/shape_base.py:209\u001B[0m, in \u001B[0;36m_arrays_for_stack_dispatcher\u001B[0;34m(arrays)\u001B[0m\n\u001B[1;32m    207\u001B[0m \u001B[38;5;28;01mdef\u001B[39;00m \u001B[38;5;21m_arrays_for_stack_dispatcher\u001B[39m(arrays):\n\u001B[1;32m    208\u001B[0m     \u001B[38;5;28;01mif\u001B[39;00m \u001B[38;5;129;01mnot\u001B[39;00m \u001B[38;5;28mhasattr\u001B[39m(arrays, \u001B[38;5;124m\"\u001B[39m\u001B[38;5;124m__getitem__\u001B[39m\u001B[38;5;124m\"\u001B[39m):\n\u001B[0;32m--> 209\u001B[0m         \u001B[38;5;28;01mraise\u001B[39;00m \u001B[38;5;167;01mTypeError\u001B[39;00m(\u001B[38;5;124m'\u001B[39m\u001B[38;5;124marrays to stack must be passed as a \u001B[39m\u001B[38;5;124m\"\u001B[39m\u001B[38;5;124msequence\u001B[39m\u001B[38;5;124m\"\u001B[39m\u001B[38;5;124m type \u001B[39m\u001B[38;5;124m'\u001B[39m\n\u001B[1;32m    210\u001B[0m                         \u001B[38;5;124m'\u001B[39m\u001B[38;5;124msuch as list or tuple.\u001B[39m\u001B[38;5;124m'\u001B[39m)\n\u001B[1;32m    212\u001B[0m     \u001B[38;5;28;01mreturn\u001B[39;00m \u001B[38;5;28mtuple\u001B[39m(arrays)\n",
      "\u001B[0;31mTypeError\u001B[0m: arrays to stack must be passed as a \"sequence\" type such as list or tuple."
     ]
    }
   ],
   "source": [
    "objective(np.eye(2)/2,0.1,0.2,0.1,4,2)"
   ],
   "metadata": {
    "collapsed": false,
    "ExecuteTime": {
     "end_time": "2023-12-04T13:57:56.570906974Z",
     "start_time": "2023-12-04T13:57:56.454264047Z"
    }
   },
   "id": "a45e0911ea8d99e9"
  },
  {
   "cell_type": "code",
   "execution_count": null,
   "outputs": [],
   "source": [
    "def constraint():\n",
    "    #ωE ˜E F = (W ⊗ 1)VρV †(W ⊗ 1)†"
   ],
   "metadata": {
    "collapsed": false
   },
   "id": "512a483fdd762c94"
  }
 ],
 "metadata": {
  "kernelspec": {
   "display_name": "Python 3",
   "language": "python",
   "name": "python3"
  },
  "language_info": {
   "codemirror_mode": {
    "name": "ipython",
    "version": 2
   },
   "file_extension": ".py",
   "mimetype": "text/x-python",
   "name": "python",
   "nbconvert_exporter": "python",
   "pygments_lexer": "ipython2",
   "version": "2.7.6"
  }
 },
 "nbformat": 4,
 "nbformat_minor": 5
}
