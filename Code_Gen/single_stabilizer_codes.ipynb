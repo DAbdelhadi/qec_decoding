{
 "cells": [
  {
   "cell_type": "code",
   "execution_count": 46,
   "id": "initial_id",
   "metadata": {
    "collapsed": true,
    "ExecuteTime": {
     "end_time": "2023-12-01T10:16:36.554548101Z",
     "start_time": "2023-12-01T10:16:36.520499483Z"
    }
   },
   "outputs": [],
   "source": [
    "from qecsim import paulitools as pt\n",
    "import numpy as np\n",
    "from bposd import stab\n"
   ]
  },
  {
   "cell_type": "code",
   "execution_count": 39,
   "outputs": [],
   "source": [
    "def all_possible_stabilizers(n):\n",
    "    \"\"\"\n",
    "    Returns a stabilizer of a code with a single stabilizer and n qubits. \n",
    "    Loops over different weight distributions dX dY dZ dI of such stabilizer.\n",
    "    \"\"\"\n",
    "    stabilizers = []\n",
    "    stabilizers_bsf = []\n",
    "\n",
    "    for dX in range(0,n+1):\n",
    "        for dY in range(0,n-dX+1):\n",
    "            for dZ in range(0,n-dX-dY+1):\n",
    "                dI = n-dX-dY-dZ\n",
    "                S = 'X'*dX+'Y'*dY+'Z'*dZ+'I'*dI\n",
    "                if(dI!=n):\n",
    "                    stabilizers.append(S)\n",
    "                    stabilizers_bsf.append(pt.pauli_to_bsf(S))\n",
    "                \n",
    "    return stabilizers,stabilizers_bsf"
   ],
   "metadata": {
    "collapsed": false,
    "ExecuteTime": {
     "end_time": "2023-12-01T10:14:54.164525488Z",
     "start_time": "2023-12-01T10:14:54.145734705Z"
    }
   },
   "id": "8a65a2dd71547f46"
  },
  {
   "cell_type": "code",
   "execution_count": 44,
   "outputs": [
    {
     "name": "stdout",
     "output_type": "stream",
     "text": [
      "[0 0 0 0 0 1 0 0 0 0]\n"
     ]
    }
   ],
   "source": [
    "# test\n",
    "n = 5\n",
    "codes,codes_bsf = all_possible_stabilizers(n)\n",
    "code0 = codes_bsf[0]\n",
    "print(code0)\n",
    "code0_hx = code0[0:n]\n",
    "code0_hz = code0[n:2*n]\n",
    "code = stab.stab_code(hx =np.array([code0_hx]),hz = np.array([code0_hz]))\n",
    "code.test()"
   ],
   "metadata": {
    "collapsed": false,
    "ExecuteTime": {
     "end_time": "2023-12-01T10:15:57.340327437Z",
     "start_time": "2023-12-01T10:15:57.317089426Z"
    }
   },
   "id": "1b377247d269507e"
  },
  {
   "cell_type": "code",
   "execution_count": 45,
   "outputs": [
    {
     "name": "stdout",
     "output_type": "stream",
     "text": [
      "<Unamed stabiliser code>, [[5,4,nan]]\n",
      " -Block dimensions: Pass\n",
      " -PCMs commute hz@hx.T==0: Pass\n",
      " -lx and lz anticommute: Pass\n",
      "<Unamed stabiliser code> is a valid stabiliser code w/ params [[5,4,nan]]\n"
     ]
    },
    {
     "data": {
      "text/plain": "True"
     },
     "execution_count": 45,
     "metadata": {},
     "output_type": "execute_result"
    }
   ],
   "source": [],
   "metadata": {
    "collapsed": false,
    "ExecuteTime": {
     "end_time": "2023-12-01T10:16:22.558076291Z",
     "start_time": "2023-12-01T10:16:22.507922645Z"
    }
   },
   "id": "865d89093c4aeaf9"
  },
  {
   "cell_type": "code",
   "execution_count": null,
   "outputs": [],
   "source": [],
   "metadata": {
    "collapsed": false
   },
   "id": "bd2c3672d7fe9127"
  }
 ],
 "metadata": {
  "kernelspec": {
   "display_name": "Python 3",
   "language": "python",
   "name": "python3"
  },
  "language_info": {
   "codemirror_mode": {
    "name": "ipython",
    "version": 2
   },
   "file_extension": ".py",
   "mimetype": "text/x-python",
   "name": "python",
   "nbconvert_exporter": "python",
   "pygments_lexer": "ipython2",
   "version": "2.7.6"
  }
 },
 "nbformat": 4,
 "nbformat_minor": 5
}
