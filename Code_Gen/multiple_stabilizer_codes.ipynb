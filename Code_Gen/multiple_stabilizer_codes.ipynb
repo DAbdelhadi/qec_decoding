{
 "cells": [
  {
   "cell_type": "code",
   "execution_count": 25,
   "id": "initial_id",
   "metadata": {
    "collapsed": true,
    "ExecuteTime": {
     "end_time": "2023-12-01T10:11:26.647843026Z",
     "start_time": "2023-12-01T10:11:26.624061274Z"
    }
   },
   "outputs": [],
   "source": [
    "from qecsim import paulitools as pt\n",
    "import itertools\n",
    "import numpy as np\n",
    "from bposd import stab\n"
   ]
  },
  {
   "cell_type": "code",
   "execution_count": 30,
   "outputs": [],
   "source": [
    "def all_possible_pauli_strings_no_I(n):\n",
    "    \"\"\"\n",
    "     Returns a list of all possible pauli strings of length n (with Identity removed)\n",
    "     \"\"\"\n",
    "    pauli_strings = []\n",
    "    for i in itertools.product('IXYZ', repeat=n):\n",
    "        pauli_strings.append(''.join(i))\n",
    "    pauli_strings.remove('I'*n)\n",
    "    return pauli_strings\n",
    " "
   ],
   "metadata": {
    "collapsed": false,
    "ExecuteTime": {
     "end_time": "2023-12-01T10:18:10.657508132Z",
     "start_time": "2023-12-01T10:18:10.594130542Z"
    }
   },
   "id": "49c0d77b4eb30673"
  },
  {
   "cell_type": "code",
   "execution_count": 38,
   "outputs": [],
   "source": [
    "def double_stabilizer_code(n):\n",
    "    Possible_Double_Stabilizer_Codes = []\n",
    "    all_Paulis = all_possible_pauli_strings_no_I(n)\n",
    "    for i in range(len(all_Paulis)):\n",
    "        for j in range(i+1,len(all_Paulis)):\n",
    "            if pt.bsp(pt.pauli_to_bsf(all_Paulis[i]), pt.pauli_to_bsf(all_Paulis[j])) == 0:\n",
    "                Possible_Double_Stabilizer_Codes.append([all_Paulis[i], all_Paulis[j]])\n",
    "    return Possible_Double_Stabilizer_Codes\n",
    "    \n",
    "    "
   ],
   "metadata": {
    "collapsed": false,
    "ExecuteTime": {
     "end_time": "2023-12-01T10:20:11.295290396Z",
     "start_time": "2023-12-01T10:20:11.246726415Z"
    }
   },
   "id": "c0cd10546c94fe0d"
  },
  {
   "cell_type": "code",
   "execution_count": 52,
   "outputs": [],
   "source": [
    "n=4\n",
    "All_Codes = double_stabilizer_code(n)"
   ],
   "metadata": {
    "collapsed": false,
    "ExecuteTime": {
     "end_time": "2023-12-01T10:23:19.169559463Z",
     "start_time": "2023-12-01T10:23:16.941104266Z"
    }
   },
   "id": "47bf180690b66757"
  },
  {
   "cell_type": "code",
   "execution_count": 53,
   "outputs": [
    {
     "name": "stdout",
     "output_type": "stream",
     "text": [
      "<Unamed stabiliser code>, [[4,2,nan]]\n",
      " -Block dimensions: Pass\n",
      " -PCMs commute hz@hx.T==0: Pass\n",
      " -lx and lz anticommute: Pass\n",
      "<Unamed stabiliser code> is a valid stabiliser code w/ params [[4,2,nan]]\n"
     ]
    },
    {
     "data": {
      "text/plain": "True"
     },
     "execution_count": 53,
     "metadata": {},
     "output_type": "execute_result"
    }
   ],
   "source": [
    "#test\n",
    "code_stabilizers = pt.pauli_to_bsf(All_Codes[11])\n",
    "code_hx = code_stabilizers[:,0:n]\n",
    "code_hz = code_stabilizers[:,n:2*n]\n",
    "code = stab.stab_code(hx =np.array(code_hx),hz = np.array(code_hz))\n",
    "code.test()"
   ],
   "metadata": {
    "collapsed": false,
    "ExecuteTime": {
     "end_time": "2023-12-01T10:23:19.188210377Z",
     "start_time": "2023-12-01T10:23:19.174415904Z"
    }
   },
   "id": "20bef858ed199d1"
  },
  {
   "cell_type": "code",
   "execution_count": null,
   "outputs": [],
   "source": [
    "def multiple_stabilizer_code(n,k):\n",
    "    Possible_Double_Stabilizer_Codes = []\n",
    "    all_Paulis = all_possible_pauli_strings_no_I(n)\n",
    "    for i in range(len(all_Paulis)):\n",
    "        for j in range(i+1,len(all_Paulis)):\n",
    "            if pt.bsp(pt.pauli_to_bsf(all_Paulis[i]), pt.pauli_to_bsf(all_Paulis[j])) == 0:\n",
    "                Possible_Double_Stabilizer_Codes.append([all_Paulis[i], all_Paulis[j]])\n",
    "    return Possible_Double_Stabilizer_Codes"
   ],
   "metadata": {
    "collapsed": false
   },
   "id": "596eb777ec8b8c29"
  }
 ],
 "metadata": {
  "kernelspec": {
   "display_name": "Python 3",
   "language": "python",
   "name": "python3"
  },
  "language_info": {
   "codemirror_mode": {
    "name": "ipython",
    "version": 2
   },
   "file_extension": ".py",
   "mimetype": "text/x-python",
   "name": "python",
   "nbconvert_exporter": "python",
   "pygments_lexer": "ipython2",
   "version": "2.7.6"
  }
 },
 "nbformat": 4,
 "nbformat_minor": 5
}
