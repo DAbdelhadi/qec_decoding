{
 "cells": [
  {
   "cell_type": "code",
   "execution_count": 1,
   "id": "initial_id",
   "metadata": {
    "collapsed": true,
    "ExecuteTime": {
     "end_time": "2023-11-29T10:36:25.008277448Z",
     "start_time": "2023-11-29T10:36:24.278158640Z"
    }
   },
   "outputs": [],
   "source": [
    "import numpy as np\n",
    "from scipy.special import binom\n",
    "import matplotlib.pyplot as plt"
   ]
  },
  {
   "cell_type": "code",
   "execution_count": 2,
   "outputs": [],
   "source": [
    "def joint_prob(u,v,r,m, px,py,pz):\n",
    "    #u: X error, v Zerror, r syndrome with weight r, m number of repetitions\n",
    "    first_term = (px+py)**(u*(m-2*r)+r)*(1-px-py)**((1-u)*(m-2*r)+r)\n",
    "    second_term = (px-py)**(u*(m-2*r)+r)*(1-px-py-2*pz)**((1-u)*(m-2*r)+r)\n",
    "    return 0.5*(first_term+(-1)**v*second_term)"
   ],
   "metadata": {
    "collapsed": false,
    "ExecuteTime": {
     "end_time": "2023-11-29T10:36:25.008507259Z",
     "start_time": "2023-11-29T10:36:24.991085147Z"
    }
   },
   "id": "6e01ea1fb7fa6a0c"
  },
  {
   "cell_type": "code",
   "execution_count": 3,
   "outputs": [],
   "source": [
    "def probability_of_a_syndrome(r,m,px,py,pz):\n",
    "    # r syndrome with weight r, m number of repetitions\n",
    "    return joint_prob(0,0,r,m, px,py,pz)+joint_prob(0,1,r,m, px,py,pz)+joint_prob(1,0,r,m, px,py,pz)+joint_prob(1,1,r,m, px,py,pz)"
   ],
   "metadata": {
    "collapsed": false,
    "ExecuteTime": {
     "end_time": "2023-11-29T10:36:25.027561033Z",
     "start_time": "2023-11-29T10:36:25.002493291Z"
    }
   },
   "id": "9f7aa58279d4b3a9"
  },
  {
   "cell_type": "code",
   "execution_count": 4,
   "outputs": [],
   "source": [
    "def new_channel(r,m,px,py,pz):\n",
    "    # r syndrome with weight r, m number of repetitions\n",
    "    prob_syndrome = probability_of_a_syndrome(r,m,px,py,pz)\n",
    "    pI = joint_prob(0,0,r,m, px,py,pz)/prob_syndrome\n",
    "    pZ = joint_prob(0,1,r,m, px,py,pz)/prob_syndrome\n",
    "    pX = joint_prob(1,0,r,m, px,py,pz)/prob_syndrome\n",
    "    pY = joint_prob(1,1,r,m, px,py,pz)/prob_syndrome\n",
    "    return pI,pX,pY,pZ"
   ],
   "metadata": {
    "collapsed": false,
    "ExecuteTime": {
     "end_time": "2023-11-29T10:36:25.088005708Z",
     "start_time": "2023-11-29T10:36:25.022411427Z"
    }
   },
   "id": "7bcd3bc8a701d297"
  },
  {
   "cell_type": "code",
   "execution_count": 5,
   "outputs": [],
   "source": [
    "def rate(p):\n",
    "    pI = p[0]\n",
    "    pX = p[1]\n",
    "    pY = p[2]\n",
    "    pZ = p[3]\n",
    "    return 1+pI*np.log2(pI)+pX*np.log2(pX)+pY*np.log2(pY)+pZ*np.log2(pZ)"
   ],
   "metadata": {
    "collapsed": false,
    "ExecuteTime": {
     "end_time": "2023-11-29T10:36:25.088289831Z",
     "start_time": "2023-11-29T10:36:25.044322838Z"
    }
   },
   "id": "aad9803048bfc84b"
  },
  {
   "cell_type": "code",
   "execution_count": 6,
   "outputs": [],
   "source": [
    "def concatenated_channel_rate(m,px,py,pz):\n",
    "    # r syndrome with weight r, m number of repetitions\n",
    "    concatenated_rate = 0\n",
    "    for r in range(0,m):\n",
    "        concatenated_rate += binom(m-1,r)*probability_of_a_syndrome(r,m,px,py,pz)*rate(new_channel(r,m,px,py,pz))\n",
    "    return concatenated_rate/m"
   ],
   "metadata": {
    "collapsed": false,
    "ExecuteTime": {
     "end_time": "2023-11-29T10:36:26.094210868Z",
     "start_time": "2023-11-29T10:36:26.079144484Z"
    }
   },
   "id": "bc3fab4d577b7939"
  },
  {
   "cell_type": "code",
   "execution_count": 7,
   "outputs": [],
   "source": [
    "\n",
    "\n",
    "def get_best_rate(pX,pY,pZ):\n",
    "    pvec = [1-pX-pY-pZ,pX,pY,pZ]\n",
    "    best_rate = rate(pvec)\n",
    "    best_number_of_repetitions = 1\n",
    "    for repetitions in range(2,37):\n",
    "        r = concatenated_channel_rate(repetitions,pX,pY,pZ)\n",
    "        if r>=best_rate:\n",
    "            best_rate = r\n",
    "            best_number_of_repetitions = repetitions\n",
    "    print(best_rate,best_number_of_repetitions)\n",
    "    return best_rate\n"
   ],
   "metadata": {
    "collapsed": false,
    "ExecuteTime": {
     "end_time": "2023-11-29T10:36:27.170358578Z",
     "start_time": "2023-11-29T10:36:27.159834276Z"
    }
   },
   "id": "41366584236b0488"
  },
  {
   "cell_type": "code",
   "execution_count": 8,
   "outputs": [
    {
     "name": "stdout",
     "output_type": "stream",
     "text": [
      "probz 0.2299999999999998 0.23\n",
      "0.09506470943553091 1\n",
      "probz 0.2310000000000001 0.231\n",
      "0.09272289279250989 1\n",
      "probz 0.23199999999999996 0.232\n",
      "0.09038891884277095 1\n",
      "probz 0.23300000000000037 0.233\n",
      "0.08806276475402715 1\n",
      "probz 0.23400000000000015 0.234\n",
      "0.08574440792883121 1\n",
      "probz 0.23500000000000035 0.23500000000000001\n",
      "0.08343382600167253 1\n",
      "probz 0.23599999999999977 0.23600000000000002\n",
      "0.08113099683614532 1\n",
      "probz 0.23700000000000004 0.23700000000000002\n",
      "0.07883589852214273 1\n",
      "probz 0.23800000000000018 0.23800000000000002\n",
      "0.07654850937312503 1\n",
      "probz 0.2389999999999999 0.23900000000000002\n",
      "0.07426880792341199 1\n",
      "probz 0.2399999999999997 0.24000000000000002\n",
      "0.07199677292553065 1\n",
      "probz 0.24099999999999963 0.24100000000000002\n",
      "0.06973238334761135 1\n",
      "probz 0.242 0.24200000000000002\n",
      "0.06747561837082126 1\n",
      "probz 0.2430000000000005 0.24300000000000002\n",
      "0.06522645738684758 1\n",
      "probz 0.24399999999999983 0.24400000000000002\n",
      "0.06298487999541896 1\n",
      "probz 0.24499999999999947 0.24500000000000002\n",
      "0.060750866001862566 1\n",
      "probz 0.2459999999999997 0.24600000000000002\n",
      "0.0585243954147148 1\n",
      "probz 0.24700000000000016 0.24700000000000003\n",
      "0.056305448443365796 1\n",
      "probz 0.2480000000000002 0.24800000000000003\n",
      "0.05409400549574099 1\n",
      "probz 0.24900000000000008 0.24900000000000003\n",
      "0.05189004717601946 1\n",
      "probz 0.25000000000000017 0.25\n",
      "0.04969355428239408 1\n",
      "probz 0.2509999999999998 0.251\n",
      "0.0475045078048703 1\n",
      "probz 0.2519999999999997 0.252\n",
      "0.04532288892308997 1\n",
      "probz 0.25300000000000045 0.253\n",
      "0.04314867900420381 1\n",
      "probz 0.25399999999999984 0.254\n",
      "0.04108397088716115 2\n",
      "probz 0.2549999999999998 0.255\n",
      "0.039471488990021356 2\n",
      "probz 0.2560000000000002 0.256\n",
      "0.03786190479725477 2\n",
      "probz 0.25700000000000006 0.257\n",
      "0.03625523490919463 2\n",
      "probz 0.2579999999999996 0.258\n",
      "0.034651495909338303 2\n",
      "probz 0.2589999999999999 0.259\n",
      "0.03305070436422013 2\n",
      "probz 0.26000000000000006 0.26\n",
      "0.03145287682328926 2\n",
      "probz 0.2609999999999997 0.261\n",
      "0.029858029818773724 2\n",
      "probz 0.26199999999999996 0.262\n",
      "0.02826617986554994 2\n",
      "probz 0.263 0.263\n",
      "0.026677343461015635 2\n",
      "probz 0.2639999999999996 0.264\n",
      "0.025091537084951675 2\n",
      "probz 0.2650000000000001 0.265\n",
      "0.023512832592858756 3\n",
      "probz 0.26599999999999985 0.266\n",
      "0.02225122161690055 3\n",
      "probz 0.2669999999999994 0.267\n",
      "0.020990689775168315 3\n",
      "probz 0.2680000000000002 0.268\n",
      "0.019731259782681695 3\n",
      "probz 0.2689999999999996 0.269\n",
      "0.018472954379720734 3\n",
      "probz 0.2700000000000002 0.27\n",
      "0.01721579633170871 3\n",
      "probz 0.27100000000000024 0.271\n",
      "0.015959808429113223 3\n",
      "probz 0.27200000000000024 0.272\n",
      "0.014705013487322784 3\n",
      "probz 0.2730000000000004 0.273\n",
      "0.013500751316554012 4\n",
      "probz 0.27400000000000013 0.274\n",
      "0.012475713483511374 4\n",
      "probz 0.27500000000000036 0.275\n",
      "0.011450659299885492 4\n",
      "probz 0.27600000000000047 0.276\n",
      "0.010425612502828596 4\n",
      "probz 0.27700000000000036 0.277\n",
      "0.009400596925751865 4\n",
      "probz 0.27799999999999986 0.278\n",
      "0.008482516562190335 5\n",
      "probz 0.27899999999999986 0.279\n",
      "0.007628817313268374 5\n",
      "probz 0.27999999999999997 0.28\n",
      "0.006774427735779328 5\n",
      "probz 0.2809999999999996 0.281\n",
      "0.0059304988663468365 6\n",
      "probz 0.2820000000000003 0.28200000000000003\n",
      "0.005210740577954381 6\n",
      "probz 0.28300000000000014 0.28300000000000003\n",
      "0.004489825791603689 6\n",
      "probz 0.2840000000000001 0.28400000000000003\n",
      "0.0038337177237661476 7\n",
      "probz 0.28500000000000003 0.28500000000000003\n",
      "0.003220143036548509 7\n",
      "probz 0.2860000000000005 0.28600000000000003\n",
      "0.002656371922948911 8\n",
      "probz 0.28699999999999976 0.28700000000000003\n",
      "0.002132715322555915 9\n",
      "probz 0.28800000000000014 0.28800000000000003\n",
      "0.0016804811515924742 9\n",
      "probz 0.28900000000000026 0.28900000000000003\n",
      "0.0012725754828939544 10\n",
      "probz 0.2899999999999998 0.29000000000000004\n",
      "0.0009180744389284926 11\n",
      "probz 0.29100000000000004 0.29100000000000004\n",
      "0.0006185440053836503 13\n",
      "probz 0.292 0.29200000000000004\n",
      "0.00037714279707374166 14\n",
      "probz 0.29300000000000004 0.29300000000000004\n",
      "0.00019383074676670073 17\n",
      "probz 0.29399999999999993 0.29400000000000004\n",
      "6.864145302014457e-05 20\n",
      "probz 0.29500000000000015 0.29500000000000004\n",
      "4.456385363879752e-06 29\n",
      "probz 0.29600000000000054 0.29600000000000004\n",
      "-1.1090608009394816e-05 36\n",
      "probz 0.29700000000000026 0.29700000000000004\n",
      "-2.451592264295084e-05 36\n",
      "probz 0.29800000000000004 0.29800000000000004\n",
      "-3.825427774654829e-05 36\n",
      "probz 0.29899999999999993 0.29900000000000004\n",
      "-5.231767891920877e-05 36\n"
     ]
    },
    {
     "data": {
      "text/plain": "[<matplotlib.lines.Line2D at 0x7fb0edd15990>]"
     },
     "execution_count": 8,
     "metadata": {},
     "output_type": "execute_result"
    },
    {
     "data": {
      "text/plain": "<Figure size 640x480 with 1 Axes>",
      "image/png": "[encoded data removed]"
     },
     "metadata": {},
     "output_type": "display_data"
    }
   ],
   "source": [
    "concatenated_best_rate = []\n",
    "hashing_rate = []\n",
    "prange =np.arange(0.23,0.3,0.001)\n",
    "for p_total in prange:\n",
    "    if (10-np.sqrt(100-36*p_total) >=0) and (10-np.sqrt(100-36*p_total)<=1):\n",
    "        q = (10-np.sqrt(100-36*p_total))/18\n",
    "    else:\n",
    "        q = (10+np.sqrt(100-36*p_total))/18\n",
    "    qx = 9*q\n",
    "    qz = q\n",
    "    pX = qx*(1-qz)\n",
    "    pZ = qz*(1-qx)\n",
    "    pY = qx*qz\n",
    "\n",
    "    print('probz', pX+pY+pZ, p_total)\n",
    "    pvec = [1-pX-pY-pZ,pX,pY,pZ]\n",
    "    hashing_rate.append(max(rate(pvec),0))\n",
    "    concatenated_best_rate.append(get_best_rate(pX,pY,pZ))\n",
    "plt.plot(prange,concatenated_best_rate,'r')\n",
    "plt.plot(prange,hashing_rate,'b')"
   ],
   "metadata": {
    "collapsed": false,
    "ExecuteTime": {
     "end_time": "2023-11-29T10:36:29.501033696Z",
     "start_time": "2023-11-29T10:36:27.831386444Z"
    }
   },
   "id": "4d9503a7f3d12cb6"
  },
  {
   "cell_type": "code",
   "execution_count": 12,
   "outputs": [],
   "source": [],
   "metadata": {
    "collapsed": false,
    "ExecuteTime": {
     "end_time": "2023-11-25T09:22:53.826205995Z",
     "start_time": "2023-11-25T09:22:53.770207712Z"
    }
   },
   "id": "d8d0ece2ad01569b"
  },
  {
   "cell_type": "code",
   "execution_count": 12,
   "outputs": [],
   "source": [],
   "metadata": {
    "collapsed": false,
    "ExecuteTime": {
     "end_time": "2023-11-25T09:22:53.826805144Z",
     "start_time": "2023-11-25T09:22:53.811024074Z"
    }
   },
   "id": "60dfe2a7d4efaeaf"
  },
  {
   "cell_type": "code",
   "execution_count": 14,
   "outputs": [
    {
     "name": "stderr",
     "output_type": "stream",
     "text": [
      "/tmp/ipykernel_36521/1856837085.py:6: RuntimeWarning: divide by zero encountered in log2\n",
      "  b1.append(1+p*np.log2(p)+(1-p)*np.log2(1-p))\n",
      "/tmp/ipykernel_36521/1856837085.py:6: RuntimeWarning: invalid value encountered in scalar multiply\n",
      "  b1.append(1+p*np.log2(p)+(1-p)*np.log2(1-p))\n"
     ]
    },
    {
     "data": {
      "text/plain": "[<matplotlib.lines.Line2D at 0x7fb0eb605010>]"
     },
     "execution_count": 14,
     "metadata": {},
     "output_type": "execute_result"
    },
    {
     "data": {
      "text/plain": "<Figure size 640x480 with 1 Axes>",
      "image/png": "[encoded data removed]"
     },
     "metadata": {},
     "output_type": "display_data"
    }
   ],
   "source": [],
   "metadata": {
    "collapsed": false,
    "ExecuteTime": {
     "end_time": "2023-11-29T12:09:29.122128422Z",
     "start_time": "2023-11-29T12:09:28.886217160Z"
    }
   },
   "id": "a0196b34a7d81e28"
  },
  {
   "cell_type": "code",
   "execution_count": null,
   "outputs": [],
   "source": [],
   "metadata": {
    "collapsed": false
   },
   "id": "dc036918e2a41aed"
  }
 ],
 "metadata": {
  "kernelspec": {
   "display_name": "Python 3",
   "language": "python",
   "name": "python3"
  },
  "language_info": {
   "codemirror_mode": {
    "name": "ipython",
    "version": 2
   },
   "file_extension": ".py",
   "mimetype": "text/x-python",
   "name": "python",
   "nbconvert_exporter": "python",
   "pygments_lexer": "ipython2",
   "version": "2.7.6"
  }
 },
 "nbformat": 4,
 "nbformat_minor": 5
}
