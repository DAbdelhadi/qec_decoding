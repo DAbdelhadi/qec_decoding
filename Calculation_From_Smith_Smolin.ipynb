{
 "cells": [
  {
   "cell_type": "code",
   "execution_count": 27,
   "id": "initial_id",
   "metadata": {
    "collapsed": true,
    "ExecuteTime": {
     "end_time": "2023-11-27T14:40:04.690887670Z",
     "start_time": "2023-11-27T14:40:04.677776031Z"
    }
   },
   "outputs": [],
   "source": [
    "import numpy as np\n",
    "from scipy.special import binom\n",
    "import matplotlib.pyplot as plt"
   ]
  },
  {
   "cell_type": "code",
   "execution_count": 28,
   "outputs": [],
   "source": [
    "def joint_prob(u,v,r,m, px,py,pz):\n",
    "    #u: X error, v Zerror, r syndrome with weight r, m number of repetitions\n",
    "    first_term = (px+py)**(u*(m-2*r)+r)*(1-px-py)**((1-u)*(m-2*r)+r)\n",
    "    second_term = (px-py)**(u*(m-2*r)+r)*(1-px-py-2*pz)**((1-u)*(m-2*r)+r)\n",
    "    return 0.5*(first_term+(-1)**v*second_term)"
   ],
   "metadata": {
    "collapsed": false,
    "ExecuteTime": {
     "end_time": "2023-11-27T14:40:05.311588423Z",
     "start_time": "2023-11-27T14:40:05.288266999Z"
    }
   },
   "id": "6e01ea1fb7fa6a0c"
  },
  {
   "cell_type": "code",
   "execution_count": 29,
   "outputs": [],
   "source": [
    "def probability_of_a_syndrome(r,m,px,py,pz):\n",
    "    # r syndrome with weight r, m number of repetitions\n",
    "    return joint_prob(0,0,r,m, px,py,pz)+joint_prob(0,1,r,m, px,py,pz)+joint_prob(1,0,r,m, px,py,pz)+joint_prob(1,1,r,m, px,py,pz)"
   ],
   "metadata": {
    "collapsed": false,
    "ExecuteTime": {
     "end_time": "2023-11-27T14:40:06.349116221Z",
     "start_time": "2023-11-27T14:40:06.333210874Z"
    }
   },
   "id": "9f7aa58279d4b3a9"
  },
  {
   "cell_type": "code",
   "execution_count": 30,
   "outputs": [],
   "source": [
    "def new_channel(r,m,px,py,pz):\n",
    "    # r syndrome with weight r, m number of repetitions\n",
    "    prob_syndrome = probability_of_a_syndrome(r,m,px,py,pz)\n",
    "    pI = joint_prob(0,0,r,m, px,py,pz)/prob_syndrome\n",
    "    pZ = joint_prob(0,1,r,m, px,py,pz)/prob_syndrome\n",
    "    pX = joint_prob(1,0,r,m, px,py,pz)/prob_syndrome\n",
    "    pY = joint_prob(1,1,r,m, px,py,pz)/prob_syndrome\n",
    "    return pI,pX,pY,pZ"
   ],
   "metadata": {
    "collapsed": false,
    "ExecuteTime": {
     "end_time": "2023-11-27T14:40:07.219271386Z",
     "start_time": "2023-11-27T14:40:07.208726048Z"
    }
   },
   "id": "7bcd3bc8a701d297"
  },
  {
   "cell_type": "code",
   "execution_count": 31,
   "outputs": [],
   "source": [
    "def rate(p):\n",
    "    pI = p[0]\n",
    "    pX = p[1]\n",
    "    pY = p[2]\n",
    "    pZ = p[3]\n",
    "    return 1+pI*np.log2(pI)+pX*np.log2(pX)+pY*np.log2(pY)+pZ*np.log2(pZ)"
   ],
   "metadata": {
    "collapsed": false,
    "ExecuteTime": {
     "end_time": "2023-11-27T14:40:07.934836650Z",
     "start_time": "2023-11-27T14:40:07.917688770Z"
    }
   },
   "id": "aad9803048bfc84b"
  },
  {
   "cell_type": "code",
   "execution_count": 32,
   "outputs": [],
   "source": [
    "def concatenated_channel_rate(m,px,py,pz):\n",
    "    # r syndrome with weight r, m number of repetitions\n",
    "    concatenated_rate = 0\n",
    "    for r in range(0,m):\n",
    "        concatenated_rate += binom(m-1,r)*probability_of_a_syndrome(r,m,px,py,pz)*rate(new_channel(r,m,px,py,pz))\n",
    "    return concatenated_rate/m"
   ],
   "metadata": {
    "collapsed": false,
    "ExecuteTime": {
     "end_time": "2023-11-27T14:40:10.765819019Z",
     "start_time": "2023-11-27T14:40:10.724065611Z"
    }
   },
   "id": "bc3fab4d577b7939"
  },
  {
   "cell_type": "code",
   "execution_count": 33,
   "outputs": [],
   "source": [
    "\n",
    "\n",
    "def get_best_rate(pX,pY,pZ):\n",
    "    pvec = [1-pX-pY-pZ,pX,pY,pZ]\n",
    "    best_rate = rate(pvec)\n",
    "    best_number_of_repetitions = 1\n",
    "    for repetitions in range(2,37):\n",
    "        r = concatenated_channel_rate(repetitions,pX,pY,pZ)\n",
    "        if r>=best_rate:\n",
    "            best_rate = r\n",
    "            best_number_of_repetitions = repetitions\n",
    "    print(best_rate,best_number_of_repetitions)\n",
    "    return best_rate\n"
   ],
   "metadata": {
    "collapsed": false,
    "ExecuteTime": {
     "end_time": "2023-11-27T14:40:12.242274318Z",
     "start_time": "2023-11-27T14:40:12.220471021Z"
    }
   },
   "id": "41366584236b0488"
  },
  {
   "cell_type": "code",
   "execution_count": 38,
   "outputs": [
    {
     "name": "stdout",
     "output_type": "stream",
     "text": [
      "probz 0.25 0.23\n",
      "-2.419778503393722e-07 36\n",
      "probz 0.25 0.231\n",
      "-2.419778503393722e-07 36\n",
      "probz 0.25 0.232\n",
      "-2.419778503393722e-07 36\n",
      "probz 0.25 0.233\n",
      "-2.419778503393722e-07 36\n",
      "probz 0.25 0.234\n",
      "-2.419778503393722e-07 36\n",
      "probz 0.25 0.23500000000000001\n",
      "-2.419778503393722e-07 36\n",
      "probz 0.25 0.23600000000000002\n",
      "-2.419778503393722e-07 36\n",
      "probz 0.25 0.23700000000000002\n",
      "-2.419778503393722e-07 36\n",
      "probz 0.25 0.23800000000000002\n",
      "-2.419778503393722e-07 36\n",
      "probz 0.25 0.23900000000000002\n",
      "-2.419778503393722e-07 36\n",
      "probz 0.25 0.24000000000000002\n",
      "-2.419778503393722e-07 36\n",
      "probz 0.25 0.24100000000000002\n",
      "-2.419778503393722e-07 36\n",
      "probz 0.25 0.24200000000000002\n",
      "-2.419778503393722e-07 36\n",
      "probz 0.25 0.24300000000000002\n",
      "-2.419778503393722e-07 36\n",
      "probz 0.25 0.24400000000000002\n",
      "-2.419778503393722e-07 36\n",
      "probz 0.25 0.24500000000000002\n",
      "-2.419778503393722e-07 36\n",
      "probz 0.25 0.24600000000000002\n",
      "-2.419778503393722e-07 36\n",
      "probz 0.25 0.24700000000000003\n",
      "-2.419778503393722e-07 36\n",
      "probz 0.25 0.24800000000000003\n",
      "-2.419778503393722e-07 36\n",
      "probz 0.25 0.24900000000000003\n",
      "-2.419778503393722e-07 36\n",
      "probz 0.25 0.25\n",
      "-2.419778503393722e-07 36\n",
      "probz 0.25 0.251\n",
      "-2.419778503393722e-07 36\n",
      "probz 0.25 0.252\n",
      "-2.419778503393722e-07 36\n",
      "probz 0.25 0.253\n",
      "-2.419778503393722e-07 36\n",
      "probz 0.25 0.254\n",
      "-2.419778503393722e-07 36\n",
      "probz 0.25 0.255\n",
      "-2.419778503393722e-07 36\n",
      "probz 0.25 0.256\n",
      "-2.419778503393722e-07 36\n",
      "probz 0.25 0.257\n",
      "-2.419778503393722e-07 36\n",
      "probz 0.25 0.258\n",
      "-2.419778503393722e-07 36\n",
      "probz 0.25 0.259\n",
      "-2.419778503393722e-07 36\n",
      "probz 0.25 0.26\n",
      "-2.419778503393722e-07 36\n",
      "probz 0.25 0.261\n",
      "-2.419778503393722e-07 36\n",
      "probz 0.25 0.262\n",
      "-2.419778503393722e-07 36\n",
      "probz 0.25 0.263\n",
      "-2.419778503393722e-07 36\n",
      "probz 0.25 0.264\n",
      "-2.419778503393722e-07 36\n",
      "probz 0.25 0.265\n",
      "-2.419778503393722e-07 36\n",
      "probz 0.25 0.266\n",
      "-2.419778503393722e-07 36\n",
      "probz 0.25 0.267\n",
      "-2.419778503393722e-07 36\n",
      "probz 0.25 0.268\n",
      "-2.419778503393722e-07 36\n",
      "probz 0.25 0.269\n",
      "-2.419778503393722e-07 36\n",
      "probz 0.25 0.27\n",
      "-2.419778503393722e-07 36\n",
      "probz 0.25 0.271\n",
      "-2.419778503393722e-07 36\n",
      "probz 0.25 0.272\n",
      "-2.419778503393722e-07 36\n",
      "probz 0.25 0.273\n",
      "-2.419778503393722e-07 36\n",
      "probz 0.25 0.274\n",
      "-2.419778503393722e-07 36\n",
      "probz 0.25 0.275\n",
      "-2.419778503393722e-07 36\n",
      "probz 0.25 0.276\n",
      "-2.419778503393722e-07 36\n",
      "probz 0.25 0.277\n",
      "-2.419778503393722e-07 36\n",
      "probz 0.25 0.278\n",
      "-2.419778503393722e-07 36\n",
      "probz 0.25 0.279\n",
      "-2.419778503393722e-07 36\n",
      "probz 0.25 0.28\n",
      "-2.419778503393722e-07 36\n",
      "probz 0.25 0.281\n",
      "-2.419778503393722e-07 36\n",
      "probz 0.25 0.28200000000000003\n",
      "-2.419778503393722e-07 36\n",
      "probz 0.25 0.28300000000000003\n",
      "-2.419778503393722e-07 36\n",
      "probz 0.25 0.28400000000000003\n",
      "-2.419778503393722e-07 36\n",
      "probz 0.25 0.28500000000000003\n",
      "-2.419778503393722e-07 36\n",
      "probz 0.25 0.28600000000000003\n",
      "-2.419778503393722e-07 36\n",
      "probz 0.25 0.28700000000000003\n",
      "-2.419778503393722e-07 36\n",
      "probz 0.25 0.28800000000000003\n",
      "-2.419778503393722e-07 36\n",
      "probz 0.25 0.28900000000000003\n",
      "-2.419778503393722e-07 36\n",
      "probz 0.25 0.29000000000000004\n",
      "-2.419778503393722e-07 36\n",
      "probz 0.25 0.29100000000000004\n",
      "-2.419778503393722e-07 36\n",
      "probz 0.25 0.29200000000000004\n",
      "-2.419778503393722e-07 36\n",
      "probz 0.25 0.29300000000000004\n",
      "-2.419778503393722e-07 36\n",
      "probz 0.25 0.29400000000000004\n",
      "-2.419778503393722e-07 36\n",
      "probz 0.25 0.29500000000000004\n",
      "-2.419778503393722e-07 36\n",
      "probz 0.25 0.29600000000000004\n",
      "-2.419778503393722e-07 36\n",
      "probz 0.25 0.29700000000000004\n",
      "-2.419778503393722e-07 36\n",
      "probz 0.25 0.29800000000000004\n",
      "-2.419778503393722e-07 36\n",
      "probz 0.25 0.29900000000000004\n",
      "-2.419778503393722e-07 36\n"
     ]
    },
    {
     "data": {
      "text/plain": "[<matplotlib.lines.Line2D at 0x7f9451b47050>]"
     },
     "execution_count": 38,
     "metadata": {},
     "output_type": "execute_result"
    },
    {
     "data": {
      "text/plain": "<Figure size 640x480 with 1 Axes>",
      "image/png": "[encoded data removed]"
     },
     "metadata": {},
     "output_type": "display_data"
    }
   ],
   "source": [
    "concatenated_best_rate = []\n",
    "hashing_rate = []\n",
    "prange =np.arange(0.23,0.3,0.001)\n",
    "for p_total in prange:\n",
    "    if (10-np.sqrt(100-36*p_total) >=0) and (10-np.sqrt(100-36*p_total)<=1):\n",
    "        q = (10-np.sqrt(100-36*p_total))/18\n",
    "    else:\n",
    "        q = (10+np.sqrt(100-36*p_total))/18\n",
    "    qx = 9*q\n",
    "    qz = q\n",
    "    pX = qx*(1-qz)\n",
    "    pZ = qz*(1-qx)\n",
    "    pY = qx*qz\n",
    "    pX = 0.25/3\n",
    "    pY=0.25/3\n",
    "    pZ=0.25/3\n",
    "    print('probz', pX+pY+pZ, p_total)\n",
    "    pvec = [1-pX-pY-pZ,pX,pY,pZ]\n",
    "    hashing_rate.append(max(rate(pvec),0))\n",
    "    concatenated_best_rate.append(get_best_rate(pX,pY,pZ))\n",
    "plt.plot(prange,concatenated_best_rate,'r')\n",
    "plt.plot(prange,hashing_rate,'b')"
   ],
   "metadata": {
    "collapsed": false,
    "ExecuteTime": {
     "end_time": "2023-11-27T14:49:15.080041097Z",
     "start_time": "2023-11-27T14:49:13.768477076Z"
    }
   },
   "id": "4d9503a7f3d12cb6"
  },
  {
   "cell_type": "code",
   "execution_count": 12,
   "outputs": [],
   "source": [],
   "metadata": {
    "collapsed": false,
    "ExecuteTime": {
     "end_time": "2023-11-25T09:22:53.826205995Z",
     "start_time": "2023-11-25T09:22:53.770207712Z"
    }
   },
   "id": "d8d0ece2ad01569b"
  },
  {
   "cell_type": "code",
   "execution_count": 12,
   "outputs": [],
   "source": [],
   "metadata": {
    "collapsed": false,
    "ExecuteTime": {
     "end_time": "2023-11-25T09:22:53.826805144Z",
     "start_time": "2023-11-25T09:22:53.811024074Z"
    }
   },
   "id": "60dfe2a7d4efaeaf"
  },
  {
   "cell_type": "code",
   "execution_count": null,
   "outputs": [],
   "source": [],
   "metadata": {
    "collapsed": false
   },
   "id": "a0196b34a7d81e28"
  }
 ],
 "metadata": {
  "kernelspec": {
   "display_name": "Python 3",
   "language": "python",
   "name": "python3"
  },
  "language_info": {
   "codemirror_mode": {
    "name": "ipython",
    "version": 2
   },
   "file_extension": ".py",
   "mimetype": "text/x-python",
   "name": "python",
   "nbconvert_exporter": "python",
   "pygments_lexer": "ipython2",
   "version": "2.7.6"
  }
 },
 "nbformat": 4,
 "nbformat_minor": 5
}
