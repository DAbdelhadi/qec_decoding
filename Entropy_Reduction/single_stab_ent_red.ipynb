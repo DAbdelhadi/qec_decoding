{
 "cells": [
  {
   "cell_type": "code",
   "execution_count": 19,
   "id": "initial_id",
   "metadata": {
    "collapsed": true,
    "ExecuteTime": {
     "end_time": "2023-12-08T10:33:09.581943712Z",
     "start_time": "2023-12-08T10:33:09.560231856Z"
    }
   },
   "outputs": [],
   "source": [
    "from scipy.special import comb\n",
    "import numpy as np\n",
    "import matplotlib.pyplot as plt\n",
    "%matplotlib notebook"
   ]
  },
  {
   "cell_type": "markdown",
   "source": [
    " Stabilizer of the form $$I^{\\otimes dI}\\otimes X^{\\otimes dX}\\otimes Y^{\\otimes dY}\\otimes Z^{\\otimes dZ}$$\n",
    " Each error pattern weight distribution can be expressed as four weight distributions within the intervals $[0,dI), [dI,dI+dX), [dI+dX,dI+dX+dY), [dI+dX+dY,dI+dX+dY+dZ)$."
   ],
   "metadata": {
    "collapsed": false
   },
   "id": "380589e3050018f6"
  },
  {
   "cell_type": "code",
   "execution_count": 44,
   "outputs": [],
   "source": [
    "class wgt_dist:\n",
    "    def __init__(self, dI, dX, dY, dZ):\n",
    "        self.dI = dI\n",
    "        self.dX = dX\n",
    "        self.dY = dY\n",
    "        self.dZ = dZ\n",
    "    def display(self):\n",
    "        print('I: ',self.dI,'X: ',self.dX,'Y: ',self.dY,'Z: ',self.dZ)\n",
    "    def num_Pauli(self, Pauli):\n",
    "        if Pauli == 'I':\n",
    "            return self.dI\n",
    "        elif Pauli == 'X':\n",
    "            return self.dX\n",
    "        elif Pauli == 'Y':\n",
    "            return self.dY\n",
    "        elif Pauli == 'Z':\n",
    "            return self.dZ\n",
    "        else:\n",
    "            raise ValueError('Pauli must be I, X, Y, or Z')\n",
    "    def apply_Pauli(self,Pauli):\n",
    "        if Pauli == 'I':\n",
    "            return wgt_dist(self.dI, self.dX, self.dY, self.dZ)\n",
    "        elif Pauli == 'X':\n",
    "            return wgt_dist(self.dX, self.dI, self.dZ, self.dY)\n",
    "        elif Pauli == 'Y':\n",
    "            return wgt_dist(self.dY, self.dZ, self.dI, self.dX)\n",
    "        elif Pauli == 'Z':\n",
    "            return wgt_dist(self.dZ, self.dY, self.dX, self.dI)\n",
    "        else:\n",
    "            raise ValueError('Pauli must be I, X, Y, or Z')\n",
    "        \n",
    "class error_wgt_dist:\n",
    "    def __init__(self, wgt_dist_I_interval, wgt_dist_X_interval, wgt_dist_Y_interval, wgt_dist_Z_interval):\n",
    "        \n",
    "        self.wgt_dist_I_interval = wgt_dist_I_interval\n",
    "        self.wgt_dist_X_interval = wgt_dist_X_interval\n",
    "        self.wgt_dist_Y_interval = wgt_dist_Y_interval\n",
    "        self.wgt_dist_Z_interval = wgt_dist_Z_interval\n",
    "        self.all_wgts = [self.wgt_dist_I_interval, self.wgt_dist_X_interval, self.wgt_dist_Y_interval, self.wgt_dist_Z_interval]\n",
    "        \n",
    "    def num_Pauli(self, Pauli):\n",
    "        # Returns the number of Pauli errors of type Pauli within the error\n",
    "        weight = 0\n",
    "        \n",
    "        for wgt_dist in self.all_wgts:\n",
    "            weight += wgt_dist.num_Pauli(Pauli)\n",
    "        return weight\n",
    "    \n",
    "    def error_wgt_dist_plus_stabilizer(self):\n",
    "        return error_wgt_dist(self.wgt_dist_I_interval,\n",
    "                              self.wgt_dist_X_interval.apply_Pauli('X'), \n",
    "                              self.wgt_dist_Y_interval.apply_Pauli('Y'), \n",
    "                              self.wgt_dist_Z_interval.apply_Pauli('Z'))\n",
    "    \n",
    "     \n",
    "            "
   ],
   "metadata": {
    "collapsed": false,
    "ExecuteTime": {
     "end_time": "2023-12-08T10:37:21.313413901Z",
     "start_time": "2023-12-08T10:37:21.265734326Z"
    }
   },
   "id": "850889a3ea322f48"
  },
  {
   "cell_type": "code",
   "execution_count": 45,
   "outputs": [],
   "source": [
    "def entropy(p):\n",
    "    e = 0\n",
    "    for pi in p:\n",
    "        if pi !=0:\n",
    "            e =e-pi*np.log2(pi)\n",
    "    return e\n",
    "\n",
    "def binary_entropy(p):\n",
    "    if p == 0 or p == 1:\n",
    "        return 0\n",
    "    else:\n",
    "        return -p*np.log2(p)-(1-p)*np.log2(1-p)"
   ],
   "metadata": {
    "collapsed": false,
    "ExecuteTime": {
     "end_time": "2023-12-08T10:37:21.514241764Z",
     "start_time": "2023-12-08T10:37:21.500054231Z"
    }
   },
   "id": "2ed7473172ea6ab4"
  },
  {
   "cell_type": "code",
   "execution_count": 46,
   "outputs": [],
   "source": [
    "def probability_of_error(error_wgt_dist,pX,pY,pZ):\n",
    "    pI = 1-pX-pY-pZ\n",
    "    p = [pI,pX,pY,pZ]\n",
    "    Paulis = ['I','X','Y','Z']\n",
    "    prob = 1\n",
    "    for i in range(4):\n",
    "        prob *= p[i]**(error_wgt_dist.num_Pauli(Paulis[i]))\n",
    "    return prob\n",
    "    \n"
   ],
   "metadata": {
    "collapsed": false,
    "ExecuteTime": {
     "end_time": "2023-12-08T10:37:21.756003622Z",
     "start_time": "2023-12-08T10:37:21.727718875Z"
    }
   },
   "id": "2a8a9605bb50043c"
  },
  {
   "cell_type": "code",
   "execution_count": 72,
   "outputs": [],
   "source": [
    "def all_possible_wgt_dists_within_interval(d):\n",
    "\n",
    "    wgt_dists = []\n",
    "    multiplier = []\n",
    "    for kI in range(d+1):\n",
    "        for kX in range(d+1-kI):\n",
    "            for kY in range(d+1-kI-kX):\n",
    "                kZ = d-kI-kX-kY\n",
    "                wgt_dists.append(wgt_dist(kI,kX,kY,kZ))\n",
    "                multiplier.append(comb(d,kI)*comb(d-kI,kX)*comb(d-kI-kX,kY))\n",
    "    return wgt_dists,multiplier"
   ],
   "metadata": {
    "collapsed": false,
    "ExecuteTime": {
     "end_time": "2023-12-08T10:51:10.844370593Z",
     "start_time": "2023-12-08T10:51:10.789955134Z"
    }
   },
   "id": "8ccfd8e9fee26efa"
  },
  {
   "cell_type": "code",
   "execution_count": 73,
   "outputs": [],
   "source": [
    "w,m = all_possible_wgt_dists_within_interval(2)\n"
   ],
   "metadata": {
    "collapsed": false,
    "ExecuteTime": {
     "end_time": "2023-12-08T10:51:11.072286267Z",
     "start_time": "2023-12-08T10:51:11.054751162Z"
    }
   },
   "id": "851c7abca771f62c"
  },
  {
   "cell_type": "code",
   "execution_count": 84,
   "outputs": [],
   "source": [
    "def joint_degeneracy_entropy_post_mmt(Stabilizer_dI,Stabilizer_dX,Stabilizer_dY,Stabilizer_dZ,pX,pY,pZ):\n",
    "    wI, mI =  all_possible_wgt_dists_within_interval(Stabilizer_dI)\n",
    "    wX, mX =  all_possible_wgt_dists_within_interval(Stabilizer_dX)\n",
    "    wY, mY =  all_possible_wgt_dists_within_interval(Stabilizer_dY)\n",
    "    wZ, mZ =  all_possible_wgt_dists_within_interval(Stabilizer_dZ)\n",
    "    \n",
    "    entropy = 0 \n",
    "    \n",
    "    for i in range(len(wI)):\n",
    "        for j in range(len(wX)):\n",
    "            for k in range(len(wY)):\n",
    "                for l in range(len(wZ)):\n",
    "                    wgt_dist_I_interval = wI[i]\n",
    "                    wgt_dist_X_interval = wX[j]\n",
    "                    wgt_dist_Y_interval = wY[k]\n",
    "                    wgt_dist_Z_interval = wZ[l]\n",
    "                    error_wgt_dist_interval = error_wgt_dist(wgt_dist_I_interval, wgt_dist_X_interval, wgt_dist_Y_interval, wgt_dist_Z_interval)\n",
    "                    error_wgt_dist_plus_stabilizer_interval = error_wgt_dist_interval.error_wgt_dist_plus_stabilizer()\n",
    "                    pE = probability_of_error(error_wgt_dist_interval,pX,pY,pZ)\n",
    "                    pE_plus_stabilizer = probability_of_error(error_wgt_dist_plus_stabilizer_interval,pX,pY,pZ)\n",
    "                    ptot = pE+pE_plus_stabilizer\n",
    "                    if ptot != 0:\n",
    "                        entropy+= -1*mI[i]*mX[j]*mY[k]*mZ[l]*ptot*np.log2(ptot)\n",
    "                        \n",
    "    entropy = 0.5*entropy\n",
    "    return entropy\n"
   ],
   "metadata": {
    "collapsed": false,
    "ExecuteTime": {
     "end_time": "2023-12-08T12:11:54.471597262Z",
     "start_time": "2023-12-08T12:11:54.418495715Z"
    }
   },
   "id": "2cc51b177447d961"
  },
  {
   "cell_type": "code",
   "execution_count": 85,
   "outputs": [],
   "source": [
    "def syndrome_probability(dI,dX,dY,dZ,pX,pY,pZ): \n",
    "    # dI assumed  = 0 \n",
    "    return (1/2) *(1 - (1 - 2*pY - 2*pZ )**dX *(1 - 2*pX - 2*pZ )**dY* (1 - 2*pX - 2*pY )**dZ)"
   ],
   "metadata": {
    "collapsed": false,
    "ExecuteTime": {
     "end_time": "2023-12-08T12:11:54.738580121Z",
     "start_time": "2023-12-08T12:11:54.720313599Z"
    }
   },
   "id": "a7819b8163bfe702"
  },
  {
   "cell_type": "code",
   "execution_count": 86,
   "outputs": [
    {
     "data": {
      "text/plain": "5.229613015646783"
     },
     "execution_count": 86,
     "metadata": {},
     "output_type": "execute_result"
    }
   ],
   "source": [
    "joint_degeneracy_entropy_post_mmt(Stabilizer_dI=0,Stabilizer_dX=2,Stabilizer_dY=0,Stabilizer_dZ=2,pX=0.1,pY=0.1,pZ=0.1)"
   ],
   "metadata": {
    "collapsed": false,
    "ExecuteTime": {
     "end_time": "2023-12-08T12:11:55.213855924Z",
     "start_time": "2023-12-08T12:11:55.179818124Z"
    }
   },
   "id": "8ad9274c28b6e820"
  },
  {
   "cell_type": "code",
   "execution_count": 87,
   "outputs": [],
   "source": [
    "def rate_improvement_possible(Stabilizer_dI,Stabilizer_dX,Stabilizer_dY,Stabilizer_dZ,pX,pY,pZ):\n",
    "    #dI assumed  = 0\n",
    "    #Delta = nh(p) − 1 − H(L, Ssyn) + H(Ssyn) \n",
    "    n = Stabilizer_dI+Stabilizer_dX+Stabilizer_dY+Stabilizer_dZ\n",
    "    Delta = n*entropy([1-pX-pY-pZ,pX,pY,pZ]) - 1 - joint_degeneracy_entropy_post_mmt(Stabilizer_dI,Stabilizer_dX,Stabilizer_dY,Stabilizer_dZ,pX,pY,pZ) + binary_entropy(syndrome_probability(Stabilizer_dI,Stabilizer_dX,Stabilizer_dY,Stabilizer_dZ,pX,pY,pZ))\n",
    "    if Delta > 0:\n",
    "        return True\n",
    "    else:\n",
    "        return False"
   ],
   "metadata": {
    "collapsed": false,
    "ExecuteTime": {
     "end_time": "2023-12-08T12:11:55.879046583Z",
     "start_time": "2023-12-08T12:11:55.865121535Z"
    }
   },
   "id": "fe987eab7631fb9e"
  },
  {
   "cell_type": "code",
   "execution_count": 94,
   "outputs": [
    {
     "data": {
      "text/plain": "False"
     },
     "execution_count": 94,
     "metadata": {},
     "output_type": "execute_result"
    }
   ],
   "source": [
    "rate_improvement_possible(0,9,0,0,0.1,0,0)"
   ],
   "metadata": {
    "collapsed": false,
    "ExecuteTime": {
     "end_time": "2023-12-08T12:23:19.755167408Z",
     "start_time": "2023-12-08T12:23:19.703171198Z"
    }
   },
   "id": "681aac8fbc266e71"
  },
  {
   "cell_type": "markdown",
   "source": [
    "$$h(p)-\\delta(p),$$\n",
    "$$\\delta(p) = n h(p) + H(S_{syn}) - H(S_{syn},L)$$"
   ],
   "metadata": {
    "collapsed": false
   },
   "id": "f6e6b3531f02a286"
  },
  {
   "cell_type": "code",
   "execution_count": 107,
   "outputs": [],
   "source": [
    "pp = 0.19\n",
    "delta = 0.000000000001\n",
    "channel = [1 - pp, pp/2 - delta/2, pp/2 - delta/2, delta]\n",
    "pI = channel[0]\n",
    "pX = channel[1]\n",
    "pY = channel[2]\n",
    "pZ = channel[3]\n"
   ],
   "metadata": {
    "collapsed": false,
    "ExecuteTime": {
     "end_time": "2023-12-08T12:25:43.865530467Z",
     "start_time": "2023-12-08T12:25:43.799474122Z"
    }
   },
   "id": "65c96cca1442d6d7"
  },
  {
   "cell_type": "code",
   "execution_count": 115,
   "outputs": [
    {
     "name": "stdout",
     "output_type": "stream",
     "text": [
      "h(p)-δ(p) =  -0.0966005284097079 rate is non-zero only if h(p) < δ(p), i.e., h(p)-δ(p) < 0\n"
     ]
    }
   ],
   "source": [
    "\n",
    "dI = 0\n",
    "dX = 2\n",
    "dY = 3\n",
    "dZ = 2\n",
    "n = dI+dX+dY+dZ\n",
    "hp = entropy([1-pX-pY-pZ,pX,pY,pZ])\n",
    "delta_p = n*hp-joint_degeneracy_entropy_post_mmt(dI,dX,dY,dZ,pX,pY,pZ)+binary_entropy(syndrome_probability(dI,dX,dY,dZ,pX,pY,pZ))\n",
    "print('h(p)-δ(p) = ',hp-delta_p, 'rate is non-zero only if h(p) < δ(p), i.e., h(p)-δ(p) < 0')"
   ],
   "metadata": {
    "collapsed": false,
    "ExecuteTime": {
     "end_time": "2023-12-08T12:27:03.264514542Z",
     "start_time": "2023-12-08T12:27:03.206544165Z"
    }
   },
   "id": "d038e5256fa3136a"
  },
  {
   "cell_type": "code",
   "execution_count": 109,
   "outputs": [],
   "source": [
    "hashing = 1-hp"
   ],
   "metadata": {
    "collapsed": false,
    "ExecuteTime": {
     "end_time": "2023-12-08T12:25:46.494787089Z",
     "start_time": "2023-12-08T12:25:46.475561943Z"
    }
   },
   "id": "1d13568974876a4a"
  },
  {
   "cell_type": "code",
   "execution_count": 110,
   "outputs": [
    {
     "data": {
      "text/plain": "0.10852854007819268"
     },
     "execution_count": 110,
     "metadata": {},
     "output_type": "execute_result"
    }
   ],
   "source": [
    "hashing"
   ],
   "metadata": {
    "collapsed": false,
    "ExecuteTime": {
     "end_time": "2023-12-08T12:25:47.203165911Z",
     "start_time": "2023-12-08T12:25:47.192028021Z"
    }
   },
   "id": "efe27d26d69f8e3d"
  },
  {
   "cell_type": "code",
   "execution_count": 111,
   "outputs": [
    {
     "data": {
      "text/plain": "0.9870022172670929"
     },
     "execution_count": 111,
     "metadata": {},
     "output_type": "execute_result"
    }
   ],
   "source": [
    "binary_entropy(syndrome_probability(dI,dX,dY,dZ,pX,pY,pZ))"
   ],
   "metadata": {
    "collapsed": false,
    "ExecuteTime": {
     "end_time": "2023-12-08T12:25:57.068383834Z",
     "start_time": "2023-12-08T12:25:57.007161187Z"
    }
   },
   "id": "137f74cbc1be7083"
  },
  {
   "cell_type": "code",
   "execution_count": 114,
   "outputs": [
    {
     "name": "stdout",
     "output_type": "stream",
     "text": [
      "0.001069771064422298\n"
     ]
    }
   ],
   "source": [
    "reduction_due_to_degeneracy = n*hp-joint_degeneracy_entropy_post_mmt(0,2,3,2,pX,pY,pZ)\n",
    "print(reduction_due_to_degeneracy)"
   ],
   "metadata": {
    "collapsed": false,
    "ExecuteTime": {
     "end_time": "2023-12-08T12:26:42.758372355Z",
     "start_time": "2023-12-08T12:26:42.710060302Z"
    }
   },
   "id": "84d3031a83466886"
  },
  {
   "cell_type": "code",
   "execution_count": 114,
   "outputs": [],
   "source": [],
   "metadata": {
    "collapsed": false,
    "ExecuteTime": {
     "end_time": "2023-12-08T12:26:42.900408261Z",
     "start_time": "2023-12-08T12:26:42.839569772Z"
    }
   },
   "id": "405ac21dc2041b82"
  },
  {
   "cell_type": "code",
   "execution_count": null,
   "outputs": [],
   "source": [],
   "metadata": {
    "collapsed": false
   },
   "id": "2366f84b3b55d0b9"
  }
 ],
 "metadata": {
  "kernelspec": {
   "display_name": "Python 3",
   "language": "python",
   "name": "python3"
  },
  "language_info": {
   "codemirror_mode": {
    "name": "ipython",
    "version": 2
   },
   "file_extension": ".py",
   "mimetype": "text/x-python",
   "name": "python",
   "nbconvert_exporter": "python",
   "pygments_lexer": "ipython2",
   "version": "2.7.6"
  }
 },
 "nbformat": 4,
 "nbformat_minor": 5
}
