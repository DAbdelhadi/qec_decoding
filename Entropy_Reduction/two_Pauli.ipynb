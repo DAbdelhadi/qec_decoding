{
 "cells": [
  {
   "cell_type": "code",
   "execution_count": 15,
   "metadata": {
    "is_executing": true
   },
   "outputs": [],
   "source": [
    "from scipy.special import comb\n",
    "import numpy as np\n",
    "import matplotlib.pyplot as plt\n",
    "%matplotlib notebook"
   ]
  },
  {
   "cell_type": "code",
   "execution_count": 16,
   "metadata": {},
   "outputs": [],
   "source": [
    "def entropy(p):\n",
    "    e = 0\n",
    "    for pi in p:\n",
    "        if pi !=0:\n",
    "            e =e-pi*np.log2(pi)\n",
    "    return e\n"
   ]
  },
  {
   "cell_type": "code",
   "execution_count": 17,
   "metadata": {},
   "outputs": [],
   "source": [
    "def hb(p):\n",
    "    return -p*np.log2(p)-(1-p)*np.log2(1-p)"
   ]
  },
  {
   "cell_type": "code",
   "execution_count": 32,
   "metadata": {
    "is_executing": true
   },
   "outputs": [],
   "source": [
    "def single_stabilizer_Delta(dX,dZ,pX,pZ):\n",
    "    c = pX**dX*pX**dZ*(1-pX-pZ)**(dX +dZ) \n",
    "    EntRed = 0\n",
    "    for kx in range(0,dX+1):\n",
    "        for kz in range(0,dZ+1):\n",
    "            pE = pX**kx*pZ**kz*(1-pX-pZ)**(dX +dZ-kx-kz)\n",
    "            pES = c/pE\n",
    "            EntRed = EntRed + comb(dX,kx)*comb(dZ,kz)*(pE+pES)*entropy([pE/(pE+pES),pES/(pE+pES)])\n",
    "    psynd = 0.5*(1-2*pZ)**dX*(1-2*pX)**dZ\n",
    "    print(hb(psynd))\n",
    "    print(EntRed)\n",
    "    return EntRed-1+ hb(psynd)"
   ]
  },
  {
   "cell_type": "code",
   "execution_count": 34,
   "metadata": {},
   "outputs": [
    {
     "name": "stdout",
     "output_type": "stream",
     "text": [
      "0.7314248360991196\n",
      "0.12719358444719583\n"
     ]
    },
    {
     "data": {
      "text/plain": [
       "-0.14138157945368457"
      ]
     },
     "execution_count": 34,
     "metadata": {},
     "output_type": "execute_result"
    }
   ],
   "source": [
    "single_stabilizer_Delta(2,2,0.1,0.1)"
   ]
  },
  {
   "cell_type": "code",
   "execution_count": null,
   "metadata": {},
   "outputs": [],
   "source": []
  },
  {
   "cell_type": "code",
   "execution_count": null,
   "metadata": {},
   "outputs": [],
   "source": []
  }
 ],
 "metadata": {
  "kernelspec": {
   "display_name": "Python 3 (ipykernel)",
   "language": "python",
   "name": "python3"
  },
  "language_info": {
   "codemirror_mode": {
    "name": "ipython",
    "version": 3
   },
   "file_extension": ".py",
   "mimetype": "text/x-python",
   "name": "python",
   "nbconvert_exporter": "python",
   "pygments_lexer": "ipython3",
   "version": "3.8.3"
  }
 },
 "nbformat": 4,
 "nbformat_minor": 5
}
